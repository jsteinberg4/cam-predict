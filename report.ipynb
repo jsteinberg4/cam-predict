{
 "cells": [
  {
   "cell_type": "markdown",
   "metadata": {
    "id": "d17HG6ESdRbX"
   },
   "source": [
    "<center> <h2> DS 3000 - Fall 2020</h2> </center>\n",
    "<center> <h3> DS Report </h3> </center>\n"
   ]
  },
  {
   "cell_type": "markdown",
   "metadata": {
    "id": "pEOglrQjdRbg"
   },
   "source": [
    "<center> <h3>Cops and Cams: Classifying Police Body Camera Usage By Victim Characteristics</h3> </center>\n",
    "<center><h4>by Michael Ruberto and Jesse Steinberg</h4></center>"
   ]
  },
  {
   "cell_type": "markdown",
   "metadata": {
    "id": "0owBQBnKdRbi"
   },
   "source": [
    "  "
   ]
  },
  {
   "cell_type": "markdown",
   "metadata": {
    "id": "z4M5W8dWdRbi"
   },
   "source": [
    "<hr style=\"height:2px; border:none; color:black; background-color:black;\">"
   ]
  },
  {
   "attachments": {},
   "cell_type": "markdown",
   "metadata": {
    "id": "ylS4z4EbdRbi"
   },
   "source": [
    "#### Executive Summary:\n",
    "\n",
    "<p style='text-indent: 2em'>In this project we study the adoption of body cameras within US Police Departments to see if it was possible to accurately predict if a body camera was used in a specific shooting. We compared a neighbors-based classifier to two linear classifiers on this task and examined if there were any significant differences in body camera likelihood across victim demographics. After cleaning a dataset compiled by the Washington Post, we used a model based selection approach to select the most important features. Then, we trained each classifier with a cross-validation approach for a baseline comparison, before proceeding to hyperparameter tuning via a grid search approach. Although we found k-Nearest Neighbors to be the optimal classifier for this task and dataset, it still did not perform much better than random chance. This, coupled with results showing a lack of significant differences across most victim demographics, led to the conclusion that there were no underlying patterns in the dataset with which to determine body camera usage.\n"
   ]
  },
  {
   "cell_type": "markdown",
   "metadata": {
    "id": "p1YccXcMdRbj"
   },
   "source": [
    "<hr style=\"height:2px; border:none; color:black; background-color:black;\">"
   ]
  },
  {
   "cell_type": "markdown",
   "metadata": {
    "id": "GUDEh-7XdRbj"
   },
   "source": [
    "## Outline\n",
    "1. <a href='#1'>INTRODUCTION</a>\n",
    "2. <a href='#2'>METHOD</a>\n",
    "3. <a href='#3'>RESULTS</a>\n",
    "4. <a href='#4'>DISCUSSION</a>"
   ]
  },
  {
   "cell_type": "markdown",
   "metadata": {
    "id": "lc8_jo9EdRbj"
   },
   "source": [
    "<a id=\"1\"></a>\n",
    "<hr style=\"height:2px; border:none; color:black; background-color:black;\">"
   ]
  },
  {
   "cell_type": "markdown",
   "metadata": {
    "id": "l2tH-WIFdRbk"
   },
   "source": [
    "## 1. INTRODUCTION"
   ]
  },
  {
   "cell_type": "markdown",
   "metadata": {
    "id": "cLCHpKaydRbk"
   },
   "source": [
    "<p style='text-indent: 2em;'>We are studying the adoption of body cameras within US Police Departments over the past several years. Specifically,\n",
    "we would like to see if it is possible to correctly predict if a body camera was in use during specific shootings by a\n",
    "police officer. For several years, and especially in the past few months, trust in the police has been waning.\n",
    "One of the measures that police departments reportedly put in place was widespread use of body cameras to increase the\n",
    "accountability of their officers. The insights from this project could show whether police departments are taking\n",
    "calls for increased accountability seriously, and if they are keeping their word that officers would use body cameras.\n",
    "</p>\n",
    "\n",
    "<p style='text-indent: 2em;'>If police departments are truly increasing body camera adoption over time, in a correct and uniform manner, there should not be any correlation between any of these features and if a body camera is being\n",
    "used with the exception of date. If our machine learning model is able to correctly\n",
    "predict that a body camera is being used with a better than random chance (around 50%) when other features are being considered, that could indicate some trend or pattern as to why cameras are not being used in certain situations, which would be indicative of a major societal problem.</p>\n",
    "\n",
    "<p style='text-indent: 2em;'>Our primary question is: Can we predict, with better than random chance, whether a body camera was used in a given shooting? With regards to a machine learning algorithm, we are wondering: Will a linear classification algorithm perform as well at separating the two classes as a neighbors-based classifier? </p>\n",
    "\n",
    "<p style='text-indent: 2em;'>Additionally, what features will be more important in the prediction, if any? It is possible that victim demographics play a role in whether an officer uses a bodycamera during a shooting. Given the present social climate, we plan to perform several hypothesis tests to investigate this subject. Specifically, is there any significant difference in body camera usage between racial groups? Gender? Age group? We will test each of these with Chi-Squared tests for Homogeneity.    \n",
    "</p>"
   ]
  },
  {
   "cell_type": "markdown",
   "metadata": {
    "id": "S-6YgDwWdRbl"
   },
   "source": [
    "<a id=\"2\"></a>\n",
    "<hr style=\"height:2px; border:none; color:black; background-color:black;\">"
   ]
  },
  {
   "cell_type": "markdown",
   "metadata": {
    "id": "x-Eo2lHddRbl"
   },
   "source": [
    "## 2. METHOD"
   ]
  },
  {
   "cell_type": "markdown",
   "metadata": {
    "id": "e4aK04BudRbl"
   },
   "source": [
    "### 2.1. Data Acquisition"
   ]
  },
  {
   "cell_type": "markdown",
   "metadata": {
    "id": "qV3aNBSXdRbl"
   },
   "source": [
    "<p style='text-indent: 2em;'>Our dataset comes from the <a href='https://github.com/washingtonpost/data-police-shootings'>Washington Post</a>, who, <a href='https://www.washingtonpost.com/graphics/investigations/police-shootings-database/'>starting in 2015</a>, began to track comprehensive data on fatal shootings by a police officer in the United States. The majority of data in this set was compiled from news stories, social media, and official police reports. The dataset currently has $5862$ samples/rows <b>(as of 12/07/2020)</b>. Unfortunately, this number increases every week. Our target variable is a boolean class representing if a body camera was used during the shooting. Our $11$ features are date, manner of death, if the victim was armed, victim age, victim race, victim gender, the state where it occurred, whether the victim exhibited signs of mental illness, whether the victim attempted to flee, as well as the latitude and longitude of the incident.</p> \n",
    "\n",
    "<p style='text-indent: 2em;'>Additionally, the dataset contains columns which we will exclude: id, name, city of incident, threat level, and is_geocoding_exact. We deemed the threat level column as described on the github page to be too vague to draw conclusions from because its values of \"attack\", \"other\", and \"undetermined\" each may include incidences where an officer was threatened. The ID column is simply a unique number for each incident and thus does not play any role in the incident. The city value is too specific to be meaningfully represented in a numeric fashion. The is_geocoding_exact column is simply a boolan variable which tells if the longitude and latitude columns are exact. As of the time of this writing, only 8 samples are false, so we simply filter these samples out and otherwise ignore the column. Finally, because names are personally identifiable, we believed it would be unethical to use them as a feature in this project. As such, each of these five columns will be ignored.</p>\n",
    "\n",
    "<b>Dataset:</b> https://github.com/washingtonpost/data-police-shootings"
   ]
  },
  {
   "cell_type": "code",
   "execution_count": 77,
   "metadata": {
    "id": "VDBCucr_dRbm"
   },
   "outputs": [],
   "source": [
    "import pandas as pd\n",
    "\n",
    "file = \"https://raw.githubusercontent.com/washingtonpost/data-police-shootings/master/fatal-police-shootings-data.csv\"\n",
    "raw_data = pd.read_csv(file)"
   ]
  },
  {
   "cell_type": "code",
   "execution_count": 78,
   "metadata": {
    "colab": {
     "base_uri": "https://localhost:8080/",
     "height": 626
    },
    "id": "kR5HDHrQdRbn",
    "outputId": "45e881d7-4df0-4a4d-ff23-c042383f0e6c",
    "scrolled": false
   },
   "outputs": [
    {
     "data": {
      "text/html": [
       "<div>\n",
       "<style scoped>\n",
       "    .dataframe tbody tr th:only-of-type {\n",
       "        vertical-align: middle;\n",
       "    }\n",
       "\n",
       "    .dataframe tbody tr th {\n",
       "        vertical-align: top;\n",
       "    }\n",
       "\n",
       "    .dataframe thead th {\n",
       "        text-align: right;\n",
       "    }\n",
       "</style>\n",
       "<table border=\"1\" class=\"dataframe\">\n",
       "  <thead>\n",
       "    <tr style=\"text-align: right;\">\n",
       "      <th></th>\n",
       "      <th>id</th>\n",
       "      <th>name</th>\n",
       "      <th>date</th>\n",
       "      <th>manner_of_death</th>\n",
       "      <th>armed</th>\n",
       "      <th>age</th>\n",
       "      <th>gender</th>\n",
       "      <th>race</th>\n",
       "      <th>city</th>\n",
       "      <th>state</th>\n",
       "      <th>signs_of_mental_illness</th>\n",
       "      <th>threat_level</th>\n",
       "      <th>flee</th>\n",
       "      <th>body_camera</th>\n",
       "      <th>longitude</th>\n",
       "      <th>latitude</th>\n",
       "      <th>is_geocoding_exact</th>\n",
       "    </tr>\n",
       "  </thead>\n",
       "  <tbody>\n",
       "    <tr>\n",
       "      <th>0</th>\n",
       "      <td>3</td>\n",
       "      <td>Tim Elliot</td>\n",
       "      <td>2015-01-02</td>\n",
       "      <td>shot</td>\n",
       "      <td>gun</td>\n",
       "      <td>53.0</td>\n",
       "      <td>M</td>\n",
       "      <td>A</td>\n",
       "      <td>Shelton</td>\n",
       "      <td>WA</td>\n",
       "      <td>True</td>\n",
       "      <td>attack</td>\n",
       "      <td>Not fleeing</td>\n",
       "      <td>False</td>\n",
       "      <td>-123.122</td>\n",
       "      <td>47.247</td>\n",
       "      <td>True</td>\n",
       "    </tr>\n",
       "    <tr>\n",
       "      <th>1</th>\n",
       "      <td>4</td>\n",
       "      <td>Lewis Lee Lembke</td>\n",
       "      <td>2015-01-02</td>\n",
       "      <td>shot</td>\n",
       "      <td>gun</td>\n",
       "      <td>47.0</td>\n",
       "      <td>M</td>\n",
       "      <td>W</td>\n",
       "      <td>Aloha</td>\n",
       "      <td>OR</td>\n",
       "      <td>False</td>\n",
       "      <td>attack</td>\n",
       "      <td>Not fleeing</td>\n",
       "      <td>False</td>\n",
       "      <td>-122.892</td>\n",
       "      <td>45.487</td>\n",
       "      <td>True</td>\n",
       "    </tr>\n",
       "    <tr>\n",
       "      <th>2</th>\n",
       "      <td>5</td>\n",
       "      <td>John Paul Quintero</td>\n",
       "      <td>2015-01-03</td>\n",
       "      <td>shot and Tasered</td>\n",
       "      <td>unarmed</td>\n",
       "      <td>23.0</td>\n",
       "      <td>M</td>\n",
       "      <td>H</td>\n",
       "      <td>Wichita</td>\n",
       "      <td>KS</td>\n",
       "      <td>False</td>\n",
       "      <td>other</td>\n",
       "      <td>Not fleeing</td>\n",
       "      <td>False</td>\n",
       "      <td>-97.281</td>\n",
       "      <td>37.695</td>\n",
       "      <td>True</td>\n",
       "    </tr>\n",
       "    <tr>\n",
       "      <th>3</th>\n",
       "      <td>8</td>\n",
       "      <td>Matthew Hoffman</td>\n",
       "      <td>2015-01-04</td>\n",
       "      <td>shot</td>\n",
       "      <td>toy weapon</td>\n",
       "      <td>32.0</td>\n",
       "      <td>M</td>\n",
       "      <td>W</td>\n",
       "      <td>San Francisco</td>\n",
       "      <td>CA</td>\n",
       "      <td>True</td>\n",
       "      <td>attack</td>\n",
       "      <td>Not fleeing</td>\n",
       "      <td>False</td>\n",
       "      <td>-122.422</td>\n",
       "      <td>37.763</td>\n",
       "      <td>True</td>\n",
       "    </tr>\n",
       "    <tr>\n",
       "      <th>4</th>\n",
       "      <td>9</td>\n",
       "      <td>Michael Rodriguez</td>\n",
       "      <td>2015-01-04</td>\n",
       "      <td>shot</td>\n",
       "      <td>nail gun</td>\n",
       "      <td>39.0</td>\n",
       "      <td>M</td>\n",
       "      <td>H</td>\n",
       "      <td>Evans</td>\n",
       "      <td>CO</td>\n",
       "      <td>False</td>\n",
       "      <td>attack</td>\n",
       "      <td>Not fleeing</td>\n",
       "      <td>False</td>\n",
       "      <td>-104.692</td>\n",
       "      <td>40.384</td>\n",
       "      <td>True</td>\n",
       "    </tr>\n",
       "    <tr>\n",
       "      <th>...</th>\n",
       "      <td>...</td>\n",
       "      <td>...</td>\n",
       "      <td>...</td>\n",
       "      <td>...</td>\n",
       "      <td>...</td>\n",
       "      <td>...</td>\n",
       "      <td>...</td>\n",
       "      <td>...</td>\n",
       "      <td>...</td>\n",
       "      <td>...</td>\n",
       "      <td>...</td>\n",
       "      <td>...</td>\n",
       "      <td>...</td>\n",
       "      <td>...</td>\n",
       "      <td>...</td>\n",
       "      <td>...</td>\n",
       "      <td>...</td>\n",
       "    </tr>\n",
       "    <tr>\n",
       "      <th>5860</th>\n",
       "      <td>6401</td>\n",
       "      <td>Mark Brewer</td>\n",
       "      <td>2020-12-06</td>\n",
       "      <td>shot</td>\n",
       "      <td>screwdriver</td>\n",
       "      <td>28.0</td>\n",
       "      <td>M</td>\n",
       "      <td>NaN</td>\n",
       "      <td>St. Louis</td>\n",
       "      <td>MO</td>\n",
       "      <td>False</td>\n",
       "      <td>other</td>\n",
       "      <td>Not fleeing</td>\n",
       "      <td>False</td>\n",
       "      <td>-90.260</td>\n",
       "      <td>38.586</td>\n",
       "      <td>True</td>\n",
       "    </tr>\n",
       "    <tr>\n",
       "      <th>5861</th>\n",
       "      <td>6411</td>\n",
       "      <td>Donald Edwin Saunders</td>\n",
       "      <td>2020-12-06</td>\n",
       "      <td>shot</td>\n",
       "      <td>gun</td>\n",
       "      <td>37.0</td>\n",
       "      <td>M</td>\n",
       "      <td>B</td>\n",
       "      <td>Dayton</td>\n",
       "      <td>OH</td>\n",
       "      <td>False</td>\n",
       "      <td>attack</td>\n",
       "      <td>Not fleeing</td>\n",
       "      <td>False</td>\n",
       "      <td>-84.138</td>\n",
       "      <td>39.772</td>\n",
       "      <td>True</td>\n",
       "    </tr>\n",
       "    <tr>\n",
       "      <th>5862</th>\n",
       "      <td>6408</td>\n",
       "      <td>NaN</td>\n",
       "      <td>2020-12-08</td>\n",
       "      <td>shot</td>\n",
       "      <td>hammer</td>\n",
       "      <td>NaN</td>\n",
       "      <td>M</td>\n",
       "      <td>NaN</td>\n",
       "      <td>Las Vegas</td>\n",
       "      <td>NV</td>\n",
       "      <td>False</td>\n",
       "      <td>attack</td>\n",
       "      <td>Not fleeing</td>\n",
       "      <td>False</td>\n",
       "      <td>-115.286</td>\n",
       "      <td>36.096</td>\n",
       "      <td>True</td>\n",
       "    </tr>\n",
       "    <tr>\n",
       "      <th>5863</th>\n",
       "      <td>6409</td>\n",
       "      <td>NaN</td>\n",
       "      <td>2020-12-08</td>\n",
       "      <td>shot</td>\n",
       "      <td>undetermined</td>\n",
       "      <td>NaN</td>\n",
       "      <td>M</td>\n",
       "      <td>NaN</td>\n",
       "      <td>Gates</td>\n",
       "      <td>OR</td>\n",
       "      <td>False</td>\n",
       "      <td>undetermined</td>\n",
       "      <td>NaN</td>\n",
       "      <td>False</td>\n",
       "      <td>-122.417</td>\n",
       "      <td>44.756</td>\n",
       "      <td>True</td>\n",
       "    </tr>\n",
       "    <tr>\n",
       "      <th>5864</th>\n",
       "      <td>6410</td>\n",
       "      <td>Dylan Ray Scott</td>\n",
       "      <td>2020-12-08</td>\n",
       "      <td>shot</td>\n",
       "      <td>unarmed</td>\n",
       "      <td>27.0</td>\n",
       "      <td>M</td>\n",
       "      <td>W</td>\n",
       "      <td>Riverview</td>\n",
       "      <td>FL</td>\n",
       "      <td>True</td>\n",
       "      <td>attack</td>\n",
       "      <td>Car</td>\n",
       "      <td>True</td>\n",
       "      <td>-82.320</td>\n",
       "      <td>27.893</td>\n",
       "      <td>True</td>\n",
       "    </tr>\n",
       "  </tbody>\n",
       "</table>\n",
       "<p>5865 rows × 17 columns</p>\n",
       "</div>"
      ],
      "text/plain": [
       "        id                   name        date   manner_of_death         armed  \\\n",
       "0        3             Tim Elliot  2015-01-02              shot           gun   \n",
       "1        4       Lewis Lee Lembke  2015-01-02              shot           gun   \n",
       "2        5     John Paul Quintero  2015-01-03  shot and Tasered       unarmed   \n",
       "3        8        Matthew Hoffman  2015-01-04              shot    toy weapon   \n",
       "4        9      Michael Rodriguez  2015-01-04              shot      nail gun   \n",
       "...    ...                    ...         ...               ...           ...   \n",
       "5860  6401            Mark Brewer  2020-12-06              shot   screwdriver   \n",
       "5861  6411  Donald Edwin Saunders  2020-12-06              shot           gun   \n",
       "5862  6408                    NaN  2020-12-08              shot        hammer   \n",
       "5863  6409                    NaN  2020-12-08              shot  undetermined   \n",
       "5864  6410        Dylan Ray Scott  2020-12-08              shot       unarmed   \n",
       "\n",
       "       age gender race           city state  signs_of_mental_illness  \\\n",
       "0     53.0      M    A        Shelton    WA                     True   \n",
       "1     47.0      M    W          Aloha    OR                    False   \n",
       "2     23.0      M    H        Wichita    KS                    False   \n",
       "3     32.0      M    W  San Francisco    CA                     True   \n",
       "4     39.0      M    H          Evans    CO                    False   \n",
       "...    ...    ...  ...            ...   ...                      ...   \n",
       "5860  28.0      M  NaN      St. Louis    MO                    False   \n",
       "5861  37.0      M    B         Dayton    OH                    False   \n",
       "5862   NaN      M  NaN      Las Vegas    NV                    False   \n",
       "5863   NaN      M  NaN          Gates    OR                    False   \n",
       "5864  27.0      M    W      Riverview    FL                     True   \n",
       "\n",
       "      threat_level         flee  body_camera  longitude  latitude  \\\n",
       "0           attack  Not fleeing        False   -123.122    47.247   \n",
       "1           attack  Not fleeing        False   -122.892    45.487   \n",
       "2            other  Not fleeing        False    -97.281    37.695   \n",
       "3           attack  Not fleeing        False   -122.422    37.763   \n",
       "4           attack  Not fleeing        False   -104.692    40.384   \n",
       "...            ...          ...          ...        ...       ...   \n",
       "5860         other  Not fleeing        False    -90.260    38.586   \n",
       "5861        attack  Not fleeing        False    -84.138    39.772   \n",
       "5862        attack  Not fleeing        False   -115.286    36.096   \n",
       "5863  undetermined          NaN        False   -122.417    44.756   \n",
       "5864        attack          Car         True    -82.320    27.893   \n",
       "\n",
       "      is_geocoding_exact  \n",
       "0                   True  \n",
       "1                   True  \n",
       "2                   True  \n",
       "3                   True  \n",
       "4                   True  \n",
       "...                  ...  \n",
       "5860                True  \n",
       "5861                True  \n",
       "5862                True  \n",
       "5863                True  \n",
       "5864                True  \n",
       "\n",
       "[5865 rows x 17 columns]"
      ]
     },
     "execution_count": 78,
     "metadata": {},
     "output_type": "execute_result"
    }
   ],
   "source": [
    "raw_data"
   ]
  },
  {
   "cell_type": "markdown",
   "metadata": {
    "id": "fR2alRm7dRbo"
   },
   "source": [
    "-----\n",
    "### 2.2. Data Analysis"
   ]
  },
  {
   "cell_type": "markdown",
   "metadata": {
    "id": "2gBmfPlRdRbo"
   },
   "source": [
    "<p style='text-indent: 2em'>Our outcome variable is body_camera and our feature variables are date, manner_of_death, armed, age, gender, race, state, signs_of_mental_illness, flee, longitude, and  latitude. The dependent variable for each of our hypotheses is our outcome variable, body_camera, and the independent variables are either age, gender, or race, depending for each test. For our machine learning algorithm, we expect date will be an important predictor because if body camera use has increased over time, then there should be a strong, positive correlation between date and a positive body camera classification. If any of the other features are determined to be important, it could indicate bias within the police system. That is, since officers are always supposed to have body cameras on, if any of these features could be used to predict a lack of body camera use, it indicates actively choosing not to use a body camera. We anticipate features such as age, gender, race, and possibly state as being especially significant.<p>\n",
    "\n",
    "<p style='text-indent: 2em'>This is a supervised machine learning task, specifically Binary Classification, because we have a set of feature variables which are using to predict a known target variable. This target variable has a limited domain of True or False. For this task, we plan to compare the effectiveness of a neighbors-based classifier against a linear classifier on our dataset. We will use the KNearestNeighbors classifer to represent a neighbors algorithm. We will use the RidgeClassifier and LinearSVC models to represent linear classifiers. State Vector Machine algorithms like scikit-learn's LinearSVC perform well on linearly separable classes. High performance from LinearSVC would show a strong separation between body camera classes. Ridge algorithms like RidgeClassifer work well with high dimensional data when many of the variables are important, which would perform better if our features correlate strongly with a positive bodycam classification. By using each of our algorithms in this way, we can gain a deeper insight into our data.</p>"
   ]
  },
  {
   "cell_type": "markdown",
   "metadata": {
    "id": "CtAVLVhedRbp"
   },
   "source": [
    "<a id=\"3\"></a>\n",
    "<hr style=\"height:2px; border:none; color:black; background-color:black;\">"
   ]
  },
  {
   "cell_type": "markdown",
   "metadata": {
    "id": "soVGppBldRbp"
   },
   "source": [
    "## 3. RESULTS"
   ]
  },
  {
   "cell_type": "markdown",
   "metadata": {
    "id": "ZZfFwBUOdRbp"
   },
   "source": [
    "### 3.1. Data Wrangling"
   ]
  },
  {
   "cell_type": "markdown",
   "metadata": {
    "id": "g4XTYhsAdRbq"
   },
   "source": [
    "<i><h3>Data Cleaning </h3></i>"
   ]
  },
  {
   "cell_type": "markdown",
   "metadata": {
    "id": "gwEY2Ti9dRbq"
   },
   "source": [
    "<h4>Drop Unused Columns & Inexact Geolocations</h4>\n",
    "<li>\n",
    "    As explained in <b>Section 2.1</b>, we will not be using these columns as features in this project. We drop them and store the resulting DataFrame.\n",
    "</li>"
   ]
  },
  {
   "cell_type": "code",
   "execution_count": 79,
   "metadata": {
    "id": "FYBXY96udRbq"
   },
   "outputs": [],
   "source": [
    "drop_set = ['id', 'name', 'city', 'threat_level', 'is_geocoding_exact']\n",
    "\n",
    "# Filter to only true geocodings before dropping\n",
    "data = raw_data[raw_data['is_geocoding_exact']].drop(drop_set, axis=1)"
   ]
  },
  {
   "cell_type": "code",
   "execution_count": 80,
   "metadata": {
    "colab": {
     "base_uri": "https://localhost:8080/"
    },
    "id": "_8IgD6_AdRbq",
    "outputId": "6f67012c-f31f-4888-f55b-c3b6a0fca858"
   },
   "outputs": [
    {
     "data": {
      "text/html": [
       "<div>\n",
       "<style scoped>\n",
       "    .dataframe tbody tr th:only-of-type {\n",
       "        vertical-align: middle;\n",
       "    }\n",
       "\n",
       "    .dataframe tbody tr th {\n",
       "        vertical-align: top;\n",
       "    }\n",
       "\n",
       "    .dataframe thead th {\n",
       "        text-align: right;\n",
       "    }\n",
       "</style>\n",
       "<table border=\"1\" class=\"dataframe\">\n",
       "  <thead>\n",
       "    <tr style=\"text-align: right;\">\n",
       "      <th></th>\n",
       "      <th>date</th>\n",
       "      <th>manner_of_death</th>\n",
       "      <th>armed</th>\n",
       "      <th>age</th>\n",
       "      <th>gender</th>\n",
       "      <th>race</th>\n",
       "      <th>state</th>\n",
       "      <th>signs_of_mental_illness</th>\n",
       "      <th>flee</th>\n",
       "      <th>body_camera</th>\n",
       "      <th>longitude</th>\n",
       "      <th>latitude</th>\n",
       "    </tr>\n",
       "  </thead>\n",
       "  <tbody>\n",
       "    <tr>\n",
       "      <th>0</th>\n",
       "      <td>2015-01-02</td>\n",
       "      <td>shot</td>\n",
       "      <td>gun</td>\n",
       "      <td>53.0</td>\n",
       "      <td>M</td>\n",
       "      <td>A</td>\n",
       "      <td>WA</td>\n",
       "      <td>True</td>\n",
       "      <td>Not fleeing</td>\n",
       "      <td>False</td>\n",
       "      <td>-123.122</td>\n",
       "      <td>47.247</td>\n",
       "    </tr>\n",
       "    <tr>\n",
       "      <th>1</th>\n",
       "      <td>2015-01-02</td>\n",
       "      <td>shot</td>\n",
       "      <td>gun</td>\n",
       "      <td>47.0</td>\n",
       "      <td>M</td>\n",
       "      <td>W</td>\n",
       "      <td>OR</td>\n",
       "      <td>False</td>\n",
       "      <td>Not fleeing</td>\n",
       "      <td>False</td>\n",
       "      <td>-122.892</td>\n",
       "      <td>45.487</td>\n",
       "    </tr>\n",
       "    <tr>\n",
       "      <th>2</th>\n",
       "      <td>2015-01-03</td>\n",
       "      <td>shot and Tasered</td>\n",
       "      <td>unarmed</td>\n",
       "      <td>23.0</td>\n",
       "      <td>M</td>\n",
       "      <td>H</td>\n",
       "      <td>KS</td>\n",
       "      <td>False</td>\n",
       "      <td>Not fleeing</td>\n",
       "      <td>False</td>\n",
       "      <td>-97.281</td>\n",
       "      <td>37.695</td>\n",
       "    </tr>\n",
       "    <tr>\n",
       "      <th>3</th>\n",
       "      <td>2015-01-04</td>\n",
       "      <td>shot</td>\n",
       "      <td>toy weapon</td>\n",
       "      <td>32.0</td>\n",
       "      <td>M</td>\n",
       "      <td>W</td>\n",
       "      <td>CA</td>\n",
       "      <td>True</td>\n",
       "      <td>Not fleeing</td>\n",
       "      <td>False</td>\n",
       "      <td>-122.422</td>\n",
       "      <td>37.763</td>\n",
       "    </tr>\n",
       "    <tr>\n",
       "      <th>4</th>\n",
       "      <td>2015-01-04</td>\n",
       "      <td>shot</td>\n",
       "      <td>nail gun</td>\n",
       "      <td>39.0</td>\n",
       "      <td>M</td>\n",
       "      <td>H</td>\n",
       "      <td>CO</td>\n",
       "      <td>False</td>\n",
       "      <td>Not fleeing</td>\n",
       "      <td>False</td>\n",
       "      <td>-104.692</td>\n",
       "      <td>40.384</td>\n",
       "    </tr>\n",
       "    <tr>\n",
       "      <th>...</th>\n",
       "      <td>...</td>\n",
       "      <td>...</td>\n",
       "      <td>...</td>\n",
       "      <td>...</td>\n",
       "      <td>...</td>\n",
       "      <td>...</td>\n",
       "      <td>...</td>\n",
       "      <td>...</td>\n",
       "      <td>...</td>\n",
       "      <td>...</td>\n",
       "      <td>...</td>\n",
       "      <td>...</td>\n",
       "    </tr>\n",
       "    <tr>\n",
       "      <th>5860</th>\n",
       "      <td>2020-12-06</td>\n",
       "      <td>shot</td>\n",
       "      <td>screwdriver</td>\n",
       "      <td>28.0</td>\n",
       "      <td>M</td>\n",
       "      <td>NaN</td>\n",
       "      <td>MO</td>\n",
       "      <td>False</td>\n",
       "      <td>Not fleeing</td>\n",
       "      <td>False</td>\n",
       "      <td>-90.260</td>\n",
       "      <td>38.586</td>\n",
       "    </tr>\n",
       "    <tr>\n",
       "      <th>5861</th>\n",
       "      <td>2020-12-06</td>\n",
       "      <td>shot</td>\n",
       "      <td>gun</td>\n",
       "      <td>37.0</td>\n",
       "      <td>M</td>\n",
       "      <td>B</td>\n",
       "      <td>OH</td>\n",
       "      <td>False</td>\n",
       "      <td>Not fleeing</td>\n",
       "      <td>False</td>\n",
       "      <td>-84.138</td>\n",
       "      <td>39.772</td>\n",
       "    </tr>\n",
       "    <tr>\n",
       "      <th>5862</th>\n",
       "      <td>2020-12-08</td>\n",
       "      <td>shot</td>\n",
       "      <td>hammer</td>\n",
       "      <td>NaN</td>\n",
       "      <td>M</td>\n",
       "      <td>NaN</td>\n",
       "      <td>NV</td>\n",
       "      <td>False</td>\n",
       "      <td>Not fleeing</td>\n",
       "      <td>False</td>\n",
       "      <td>-115.286</td>\n",
       "      <td>36.096</td>\n",
       "    </tr>\n",
       "    <tr>\n",
       "      <th>5863</th>\n",
       "      <td>2020-12-08</td>\n",
       "      <td>shot</td>\n",
       "      <td>undetermined</td>\n",
       "      <td>NaN</td>\n",
       "      <td>M</td>\n",
       "      <td>NaN</td>\n",
       "      <td>OR</td>\n",
       "      <td>False</td>\n",
       "      <td>NaN</td>\n",
       "      <td>False</td>\n",
       "      <td>-122.417</td>\n",
       "      <td>44.756</td>\n",
       "    </tr>\n",
       "    <tr>\n",
       "      <th>5864</th>\n",
       "      <td>2020-12-08</td>\n",
       "      <td>shot</td>\n",
       "      <td>unarmed</td>\n",
       "      <td>27.0</td>\n",
       "      <td>M</td>\n",
       "      <td>W</td>\n",
       "      <td>FL</td>\n",
       "      <td>True</td>\n",
       "      <td>Car</td>\n",
       "      <td>True</td>\n",
       "      <td>-82.320</td>\n",
       "      <td>27.893</td>\n",
       "    </tr>\n",
       "  </tbody>\n",
       "</table>\n",
       "<p>5857 rows × 12 columns</p>\n",
       "</div>"
      ],
      "text/plain": [
       "            date   manner_of_death         armed   age gender race state  \\\n",
       "0     2015-01-02              shot           gun  53.0      M    A    WA   \n",
       "1     2015-01-02              shot           gun  47.0      M    W    OR   \n",
       "2     2015-01-03  shot and Tasered       unarmed  23.0      M    H    KS   \n",
       "3     2015-01-04              shot    toy weapon  32.0      M    W    CA   \n",
       "4     2015-01-04              shot      nail gun  39.0      M    H    CO   \n",
       "...          ...               ...           ...   ...    ...  ...   ...   \n",
       "5860  2020-12-06              shot   screwdriver  28.0      M  NaN    MO   \n",
       "5861  2020-12-06              shot           gun  37.0      M    B    OH   \n",
       "5862  2020-12-08              shot        hammer   NaN      M  NaN    NV   \n",
       "5863  2020-12-08              shot  undetermined   NaN      M  NaN    OR   \n",
       "5864  2020-12-08              shot       unarmed  27.0      M    W    FL   \n",
       "\n",
       "      signs_of_mental_illness         flee  body_camera  longitude  latitude  \n",
       "0                        True  Not fleeing        False   -123.122    47.247  \n",
       "1                       False  Not fleeing        False   -122.892    45.487  \n",
       "2                       False  Not fleeing        False    -97.281    37.695  \n",
       "3                        True  Not fleeing        False   -122.422    37.763  \n",
       "4                       False  Not fleeing        False   -104.692    40.384  \n",
       "...                       ...          ...          ...        ...       ...  \n",
       "5860                    False  Not fleeing        False    -90.260    38.586  \n",
       "5861                    False  Not fleeing        False    -84.138    39.772  \n",
       "5862                    False  Not fleeing        False   -115.286    36.096  \n",
       "5863                    False          NaN        False   -122.417    44.756  \n",
       "5864                     True          Car         True    -82.320    27.893  \n",
       "\n",
       "[5857 rows x 12 columns]"
      ]
     },
     "execution_count": 80,
     "metadata": {},
     "output_type": "execute_result"
    }
   ],
   "source": [
    "data"
   ]
  },
  {
   "cell_type": "markdown",
   "metadata": {
    "id": "whZdz5q8dRbr"
   },
   "source": [
    "<h4>Drop NA Values</h4>\n",
    "<li>\n",
    "    Dropping NA values ensures that every sample has complete information. We cannot simply fill in entries for features like age, race, gender, etc. because there is no real default value (and to assign a default value would be ethically questionable).\n",
    "</li>"
   ]
  },
  {
   "cell_type": "code",
   "execution_count": 81,
   "metadata": {
    "id": "swS0gwjAdRbr"
   },
   "outputs": [],
   "source": [
    "data = data.dropna(how='any').reset_index(drop=True)"
   ]
  },
  {
   "cell_type": "code",
   "execution_count": 82,
   "metadata": {
    "colab": {
     "base_uri": "https://localhost:8080/"
    },
    "id": "_a4anNgHdRbs",
    "outputId": "7b0ec54a-2467-4013-870b-d407d67310a4"
   },
   "outputs": [
    {
     "data": {
      "text/html": [
       "<div>\n",
       "<style scoped>\n",
       "    .dataframe tbody tr th:only-of-type {\n",
       "        vertical-align: middle;\n",
       "    }\n",
       "\n",
       "    .dataframe tbody tr th {\n",
       "        vertical-align: top;\n",
       "    }\n",
       "\n",
       "    .dataframe thead th {\n",
       "        text-align: right;\n",
       "    }\n",
       "</style>\n",
       "<table border=\"1\" class=\"dataframe\">\n",
       "  <thead>\n",
       "    <tr style=\"text-align: right;\">\n",
       "      <th></th>\n",
       "      <th>date</th>\n",
       "      <th>manner_of_death</th>\n",
       "      <th>armed</th>\n",
       "      <th>age</th>\n",
       "      <th>gender</th>\n",
       "      <th>race</th>\n",
       "      <th>state</th>\n",
       "      <th>signs_of_mental_illness</th>\n",
       "      <th>flee</th>\n",
       "      <th>body_camera</th>\n",
       "      <th>longitude</th>\n",
       "      <th>latitude</th>\n",
       "    </tr>\n",
       "  </thead>\n",
       "  <tbody>\n",
       "    <tr>\n",
       "      <th>0</th>\n",
       "      <td>2015-01-02</td>\n",
       "      <td>shot</td>\n",
       "      <td>gun</td>\n",
       "      <td>53.0</td>\n",
       "      <td>M</td>\n",
       "      <td>A</td>\n",
       "      <td>WA</td>\n",
       "      <td>True</td>\n",
       "      <td>Not fleeing</td>\n",
       "      <td>False</td>\n",
       "      <td>-123.122</td>\n",
       "      <td>47.247</td>\n",
       "    </tr>\n",
       "    <tr>\n",
       "      <th>1</th>\n",
       "      <td>2015-01-02</td>\n",
       "      <td>shot</td>\n",
       "      <td>gun</td>\n",
       "      <td>47.0</td>\n",
       "      <td>M</td>\n",
       "      <td>W</td>\n",
       "      <td>OR</td>\n",
       "      <td>False</td>\n",
       "      <td>Not fleeing</td>\n",
       "      <td>False</td>\n",
       "      <td>-122.892</td>\n",
       "      <td>45.487</td>\n",
       "    </tr>\n",
       "    <tr>\n",
       "      <th>2</th>\n",
       "      <td>2015-01-03</td>\n",
       "      <td>shot and Tasered</td>\n",
       "      <td>unarmed</td>\n",
       "      <td>23.0</td>\n",
       "      <td>M</td>\n",
       "      <td>H</td>\n",
       "      <td>KS</td>\n",
       "      <td>False</td>\n",
       "      <td>Not fleeing</td>\n",
       "      <td>False</td>\n",
       "      <td>-97.281</td>\n",
       "      <td>37.695</td>\n",
       "    </tr>\n",
       "    <tr>\n",
       "      <th>3</th>\n",
       "      <td>2015-01-04</td>\n",
       "      <td>shot</td>\n",
       "      <td>toy weapon</td>\n",
       "      <td>32.0</td>\n",
       "      <td>M</td>\n",
       "      <td>W</td>\n",
       "      <td>CA</td>\n",
       "      <td>True</td>\n",
       "      <td>Not fleeing</td>\n",
       "      <td>False</td>\n",
       "      <td>-122.422</td>\n",
       "      <td>37.763</td>\n",
       "    </tr>\n",
       "    <tr>\n",
       "      <th>4</th>\n",
       "      <td>2015-01-04</td>\n",
       "      <td>shot</td>\n",
       "      <td>nail gun</td>\n",
       "      <td>39.0</td>\n",
       "      <td>M</td>\n",
       "      <td>H</td>\n",
       "      <td>CO</td>\n",
       "      <td>False</td>\n",
       "      <td>Not fleeing</td>\n",
       "      <td>False</td>\n",
       "      <td>-104.692</td>\n",
       "      <td>40.384</td>\n",
       "    </tr>\n",
       "    <tr>\n",
       "      <th>...</th>\n",
       "      <td>...</td>\n",
       "      <td>...</td>\n",
       "      <td>...</td>\n",
       "      <td>...</td>\n",
       "      <td>...</td>\n",
       "      <td>...</td>\n",
       "      <td>...</td>\n",
       "      <td>...</td>\n",
       "      <td>...</td>\n",
       "      <td>...</td>\n",
       "      <td>...</td>\n",
       "      <td>...</td>\n",
       "    </tr>\n",
       "    <tr>\n",
       "      <th>4525</th>\n",
       "      <td>2020-12-01</td>\n",
       "      <td>shot</td>\n",
       "      <td>gun</td>\n",
       "      <td>28.0</td>\n",
       "      <td>M</td>\n",
       "      <td>W</td>\n",
       "      <td>NC</td>\n",
       "      <td>False</td>\n",
       "      <td>Not fleeing</td>\n",
       "      <td>False</td>\n",
       "      <td>-81.948</td>\n",
       "      <td>35.330</td>\n",
       "    </tr>\n",
       "    <tr>\n",
       "      <th>4526</th>\n",
       "      <td>2020-12-02</td>\n",
       "      <td>shot</td>\n",
       "      <td>gun and vehicle</td>\n",
       "      <td>20.0</td>\n",
       "      <td>M</td>\n",
       "      <td>B</td>\n",
       "      <td>FL</td>\n",
       "      <td>False</td>\n",
       "      <td>Car</td>\n",
       "      <td>False</td>\n",
       "      <td>-82.671</td>\n",
       "      <td>27.752</td>\n",
       "    </tr>\n",
       "    <tr>\n",
       "      <th>4527</th>\n",
       "      <td>2020-12-06</td>\n",
       "      <td>shot</td>\n",
       "      <td>vehicle</td>\n",
       "      <td>28.0</td>\n",
       "      <td>M</td>\n",
       "      <td>H</td>\n",
       "      <td>CA</td>\n",
       "      <td>False</td>\n",
       "      <td>Car</td>\n",
       "      <td>False</td>\n",
       "      <td>-117.904</td>\n",
       "      <td>33.988</td>\n",
       "    </tr>\n",
       "    <tr>\n",
       "      <th>4528</th>\n",
       "      <td>2020-12-06</td>\n",
       "      <td>shot</td>\n",
       "      <td>gun</td>\n",
       "      <td>37.0</td>\n",
       "      <td>M</td>\n",
       "      <td>B</td>\n",
       "      <td>OH</td>\n",
       "      <td>False</td>\n",
       "      <td>Not fleeing</td>\n",
       "      <td>False</td>\n",
       "      <td>-84.138</td>\n",
       "      <td>39.772</td>\n",
       "    </tr>\n",
       "    <tr>\n",
       "      <th>4529</th>\n",
       "      <td>2020-12-08</td>\n",
       "      <td>shot</td>\n",
       "      <td>unarmed</td>\n",
       "      <td>27.0</td>\n",
       "      <td>M</td>\n",
       "      <td>W</td>\n",
       "      <td>FL</td>\n",
       "      <td>True</td>\n",
       "      <td>Car</td>\n",
       "      <td>True</td>\n",
       "      <td>-82.320</td>\n",
       "      <td>27.893</td>\n",
       "    </tr>\n",
       "  </tbody>\n",
       "</table>\n",
       "<p>4530 rows × 12 columns</p>\n",
       "</div>"
      ],
      "text/plain": [
       "            date   manner_of_death            armed   age gender race state  \\\n",
       "0     2015-01-02              shot              gun  53.0      M    A    WA   \n",
       "1     2015-01-02              shot              gun  47.0      M    W    OR   \n",
       "2     2015-01-03  shot and Tasered          unarmed  23.0      M    H    KS   \n",
       "3     2015-01-04              shot       toy weapon  32.0      M    W    CA   \n",
       "4     2015-01-04              shot         nail gun  39.0      M    H    CO   \n",
       "...          ...               ...              ...   ...    ...  ...   ...   \n",
       "4525  2020-12-01              shot              gun  28.0      M    W    NC   \n",
       "4526  2020-12-02              shot  gun and vehicle  20.0      M    B    FL   \n",
       "4527  2020-12-06              shot          vehicle  28.0      M    H    CA   \n",
       "4528  2020-12-06              shot              gun  37.0      M    B    OH   \n",
       "4529  2020-12-08              shot          unarmed  27.0      M    W    FL   \n",
       "\n",
       "      signs_of_mental_illness         flee  body_camera  longitude  latitude  \n",
       "0                        True  Not fleeing        False   -123.122    47.247  \n",
       "1                       False  Not fleeing        False   -122.892    45.487  \n",
       "2                       False  Not fleeing        False    -97.281    37.695  \n",
       "3                        True  Not fleeing        False   -122.422    37.763  \n",
       "4                       False  Not fleeing        False   -104.692    40.384  \n",
       "...                       ...          ...          ...        ...       ...  \n",
       "4525                    False  Not fleeing        False    -81.948    35.330  \n",
       "4526                    False          Car        False    -82.671    27.752  \n",
       "4527                    False          Car        False   -117.904    33.988  \n",
       "4528                    False  Not fleeing        False    -84.138    39.772  \n",
       "4529                     True          Car         True    -82.320    27.893  \n",
       "\n",
       "[4530 rows x 12 columns]"
      ]
     },
     "execution_count": 82,
     "metadata": {},
     "output_type": "execute_result"
    }
   ],
   "source": [
    "data"
   ]
  },
  {
   "cell_type": "markdown",
   "metadata": {
    "id": "QRoqgV88dRbs"
   },
   "source": [
    "<i><h3>Data Formatting</h3></i>"
   ]
  },
  {
   "cell_type": "markdown",
   "metadata": {
    "id": "V-L2_g--dRbt"
   },
   "source": [
    "<h4>Vectorize Features</h4>\n",
    "<li>\n",
    "    Sklearn machine learning algorithms require inputs in numeric formats, so we must convert our features into a numeric representation.\n",
    "</li>"
   ]
  },
  {
   "cell_type": "code",
   "execution_count": 83,
   "metadata": {
    "id": "oXC9yMFtdRbt"
   },
   "outputs": [],
   "source": [
    "def vectorize_col(df: pd.DataFrame, col_name: str):\n",
    "    \"\"\"Vectorizes the unique values in a given column in the given DataFrame.\"\"\"\n",
    "    str_to_num = {}\n",
    "    num_to_str = {}\n",
    "    count = 0\n",
    "    \n",
    "    # Storing conversions both ways in dicts allows to convert again later for displaying\n",
    "    for key in df[col_name].unique():\n",
    "        str_to_num.update({key: count})  \n",
    "        num_to_str.update({count: key})\n",
    "        count += 1\n",
    "    df[col_name].replace(str_to_num, inplace=True)\n",
    "    return str_to_num, num_to_str"
   ]
  },
  {
   "cell_type": "code",
   "execution_count": 84,
   "metadata": {
    "id": "QAK4xtyWdRbt"
   },
   "outputs": [],
   "source": [
    "import numpy as np\n",
    "\n",
    "# Convert dates to ordinal numbers\n",
    "data['date'] = data['date'].map(lambda date: np.datetime64(date).astype('long'))\n",
    "\n",
    "# Vectorize manner_of_death\n",
    "mod_str_to_num, mod_num_to_str = vectorize_col(data, 'manner_of_death')\n",
    "\n",
    "# Vectorize gender:\n",
    "gender_str_to_num, gender_num_to_str = vectorize_col(data, 'gender')\n",
    "\n",
    "# Vectorize race:\n",
    "race_str_to_num, race_num_to_str = vectorize_col(data, 'race')\n",
    "\n",
    "# Vectorize state:\n",
    "state_str_to_num, state_num_to_str = vectorize_col(data, 'state')"
   ]
  },
  {
   "cell_type": "code",
   "execution_count": 85,
   "metadata": {
    "colab": {
     "base_uri": "https://localhost:8080/"
    },
    "id": "Z2wR82I5dRbt",
    "outputId": "6aaf1c18-de16-463d-a1f8-afefcb07e56b"
   },
   "outputs": [
    {
     "data": {
      "text/html": [
       "<div>\n",
       "<style scoped>\n",
       "    .dataframe tbody tr th:only-of-type {\n",
       "        vertical-align: middle;\n",
       "    }\n",
       "\n",
       "    .dataframe tbody tr th {\n",
       "        vertical-align: top;\n",
       "    }\n",
       "\n",
       "    .dataframe thead th {\n",
       "        text-align: right;\n",
       "    }\n",
       "</style>\n",
       "<table border=\"1\" class=\"dataframe\">\n",
       "  <thead>\n",
       "    <tr style=\"text-align: right;\">\n",
       "      <th></th>\n",
       "      <th>date</th>\n",
       "      <th>manner_of_death</th>\n",
       "      <th>armed</th>\n",
       "      <th>age</th>\n",
       "      <th>gender</th>\n",
       "      <th>race</th>\n",
       "      <th>state</th>\n",
       "      <th>signs_of_mental_illness</th>\n",
       "      <th>flee</th>\n",
       "      <th>body_camera</th>\n",
       "      <th>longitude</th>\n",
       "      <th>latitude</th>\n",
       "    </tr>\n",
       "  </thead>\n",
       "  <tbody>\n",
       "    <tr>\n",
       "      <th>0</th>\n",
       "      <td>16437</td>\n",
       "      <td>0</td>\n",
       "      <td>gun</td>\n",
       "      <td>53.0</td>\n",
       "      <td>0</td>\n",
       "      <td>0</td>\n",
       "      <td>0</td>\n",
       "      <td>True</td>\n",
       "      <td>Not fleeing</td>\n",
       "      <td>False</td>\n",
       "      <td>-123.122</td>\n",
       "      <td>47.247</td>\n",
       "    </tr>\n",
       "    <tr>\n",
       "      <th>1</th>\n",
       "      <td>16437</td>\n",
       "      <td>0</td>\n",
       "      <td>gun</td>\n",
       "      <td>47.0</td>\n",
       "      <td>0</td>\n",
       "      <td>1</td>\n",
       "      <td>1</td>\n",
       "      <td>False</td>\n",
       "      <td>Not fleeing</td>\n",
       "      <td>False</td>\n",
       "      <td>-122.892</td>\n",
       "      <td>45.487</td>\n",
       "    </tr>\n",
       "    <tr>\n",
       "      <th>2</th>\n",
       "      <td>16438</td>\n",
       "      <td>1</td>\n",
       "      <td>unarmed</td>\n",
       "      <td>23.0</td>\n",
       "      <td>0</td>\n",
       "      <td>2</td>\n",
       "      <td>2</td>\n",
       "      <td>False</td>\n",
       "      <td>Not fleeing</td>\n",
       "      <td>False</td>\n",
       "      <td>-97.281</td>\n",
       "      <td>37.695</td>\n",
       "    </tr>\n",
       "    <tr>\n",
       "      <th>3</th>\n",
       "      <td>16439</td>\n",
       "      <td>0</td>\n",
       "      <td>toy weapon</td>\n",
       "      <td>32.0</td>\n",
       "      <td>0</td>\n",
       "      <td>1</td>\n",
       "      <td>3</td>\n",
       "      <td>True</td>\n",
       "      <td>Not fleeing</td>\n",
       "      <td>False</td>\n",
       "      <td>-122.422</td>\n",
       "      <td>37.763</td>\n",
       "    </tr>\n",
       "    <tr>\n",
       "      <th>4</th>\n",
       "      <td>16439</td>\n",
       "      <td>0</td>\n",
       "      <td>nail gun</td>\n",
       "      <td>39.0</td>\n",
       "      <td>0</td>\n",
       "      <td>2</td>\n",
       "      <td>4</td>\n",
       "      <td>False</td>\n",
       "      <td>Not fleeing</td>\n",
       "      <td>False</td>\n",
       "      <td>-104.692</td>\n",
       "      <td>40.384</td>\n",
       "    </tr>\n",
       "    <tr>\n",
       "      <th>...</th>\n",
       "      <td>...</td>\n",
       "      <td>...</td>\n",
       "      <td>...</td>\n",
       "      <td>...</td>\n",
       "      <td>...</td>\n",
       "      <td>...</td>\n",
       "      <td>...</td>\n",
       "      <td>...</td>\n",
       "      <td>...</td>\n",
       "      <td>...</td>\n",
       "      <td>...</td>\n",
       "      <td>...</td>\n",
       "    </tr>\n",
       "    <tr>\n",
       "      <th>4525</th>\n",
       "      <td>18597</td>\n",
       "      <td>0</td>\n",
       "      <td>gun</td>\n",
       "      <td>28.0</td>\n",
       "      <td>0</td>\n",
       "      <td>1</td>\n",
       "      <td>33</td>\n",
       "      <td>False</td>\n",
       "      <td>Not fleeing</td>\n",
       "      <td>False</td>\n",
       "      <td>-81.948</td>\n",
       "      <td>35.330</td>\n",
       "    </tr>\n",
       "    <tr>\n",
       "      <th>4526</th>\n",
       "      <td>18598</td>\n",
       "      <td>0</td>\n",
       "      <td>gun and vehicle</td>\n",
       "      <td>20.0</td>\n",
       "      <td>0</td>\n",
       "      <td>3</td>\n",
       "      <td>31</td>\n",
       "      <td>False</td>\n",
       "      <td>Car</td>\n",
       "      <td>False</td>\n",
       "      <td>-82.671</td>\n",
       "      <td>27.752</td>\n",
       "    </tr>\n",
       "    <tr>\n",
       "      <th>4527</th>\n",
       "      <td>18602</td>\n",
       "      <td>0</td>\n",
       "      <td>vehicle</td>\n",
       "      <td>28.0</td>\n",
       "      <td>0</td>\n",
       "      <td>2</td>\n",
       "      <td>3</td>\n",
       "      <td>False</td>\n",
       "      <td>Car</td>\n",
       "      <td>False</td>\n",
       "      <td>-117.904</td>\n",
       "      <td>33.988</td>\n",
       "    </tr>\n",
       "    <tr>\n",
       "      <th>4528</th>\n",
       "      <td>18602</td>\n",
       "      <td>0</td>\n",
       "      <td>gun</td>\n",
       "      <td>37.0</td>\n",
       "      <td>0</td>\n",
       "      <td>3</td>\n",
       "      <td>10</td>\n",
       "      <td>False</td>\n",
       "      <td>Not fleeing</td>\n",
       "      <td>False</td>\n",
       "      <td>-84.138</td>\n",
       "      <td>39.772</td>\n",
       "    </tr>\n",
       "    <tr>\n",
       "      <th>4529</th>\n",
       "      <td>18604</td>\n",
       "      <td>0</td>\n",
       "      <td>unarmed</td>\n",
       "      <td>27.0</td>\n",
       "      <td>0</td>\n",
       "      <td>1</td>\n",
       "      <td>31</td>\n",
       "      <td>True</td>\n",
       "      <td>Car</td>\n",
       "      <td>True</td>\n",
       "      <td>-82.320</td>\n",
       "      <td>27.893</td>\n",
       "    </tr>\n",
       "  </tbody>\n",
       "</table>\n",
       "<p>4530 rows × 12 columns</p>\n",
       "</div>"
      ],
      "text/plain": [
       "       date  manner_of_death            armed   age  gender  race  state  \\\n",
       "0     16437                0              gun  53.0       0     0      0   \n",
       "1     16437                0              gun  47.0       0     1      1   \n",
       "2     16438                1          unarmed  23.0       0     2      2   \n",
       "3     16439                0       toy weapon  32.0       0     1      3   \n",
       "4     16439                0         nail gun  39.0       0     2      4   \n",
       "...     ...              ...              ...   ...     ...   ...    ...   \n",
       "4525  18597                0              gun  28.0       0     1     33   \n",
       "4526  18598                0  gun and vehicle  20.0       0     3     31   \n",
       "4527  18602                0          vehicle  28.0       0     2      3   \n",
       "4528  18602                0              gun  37.0       0     3     10   \n",
       "4529  18604                0          unarmed  27.0       0     1     31   \n",
       "\n",
       "      signs_of_mental_illness         flee  body_camera  longitude  latitude  \n",
       "0                        True  Not fleeing        False   -123.122    47.247  \n",
       "1                       False  Not fleeing        False   -122.892    45.487  \n",
       "2                       False  Not fleeing        False    -97.281    37.695  \n",
       "3                        True  Not fleeing        False   -122.422    37.763  \n",
       "4                       False  Not fleeing        False   -104.692    40.384  \n",
       "...                       ...          ...          ...        ...       ...  \n",
       "4525                    False  Not fleeing        False    -81.948    35.330  \n",
       "4526                    False          Car        False    -82.671    27.752  \n",
       "4527                    False          Car        False   -117.904    33.988  \n",
       "4528                    False  Not fleeing        False    -84.138    39.772  \n",
       "4529                     True          Car         True    -82.320    27.893  \n",
       "\n",
       "[4530 rows x 12 columns]"
      ]
     },
     "execution_count": 85,
     "metadata": {},
     "output_type": "execute_result"
    }
   ],
   "source": [
    "data"
   ]
  },
  {
   "cell_type": "markdown",
   "metadata": {
    "id": "0N1PvV7FdRbu"
   },
   "source": [
    "<h4>Convert armed to Boolean</h4>\n",
    "<li>\n",
    "    There are many unique string values within the \"armed\" feature. Many have significant overlap (e.g. \"gun and vehicle\", \"vehicle and gun\", and \"gun and car\"). Because of this, we feel the data would better represented as a simpler boolean. Armed will be marked True only if the victim is listed as anything other than \"unarmed\" or \"undetermined\". While this groups together any item the victim was \"armed\" with in an overly simplistic way (e.g. \"pen\" and \"gun\" will both result in a True armed value), contextually speaking, the most important consideration is that the officer saw the victim as armed."
   ]
  },
  {
   "cell_type": "code",
   "execution_count": 86,
   "metadata": {
    "colab": {
     "base_uri": "https://localhost:8080/"
    },
    "id": "BBXzgtCGdRbu",
    "outputId": "ed7be89d-e7a2-435b-c712-f0c192601df2"
   },
   "outputs": [
    {
     "data": {
      "text/plain": [
       "array(['gun', 'unarmed', 'toy weapon', 'nail gun', 'knife', 'shovel',\n",
       "       'vehicle', 'hammer', 'hatchet', 'sword', 'machete', 'box cutter',\n",
       "       'undetermined', 'metal object', 'screwdriver', 'lawn mower blade',\n",
       "       'flagpole', 'guns and explosives', 'cordless drill', 'metal pole',\n",
       "       'Taser', 'metal pipe', 'metal hand tool', 'blunt object',\n",
       "       'metal stick', 'sharp object', 'meat cleaver', 'carjack', 'chain',\n",
       "       \"contractor's level\", 'unknown weapon', 'stapler', 'crossbow',\n",
       "       'bean-bag gun', 'baseball bat and fireplace poker',\n",
       "       'straight edge razor', 'gun and knife', 'ax', 'brick',\n",
       "       'baseball bat', 'hand torch', 'chain saw', 'garden tool',\n",
       "       'scissors', 'pole', 'pick-axe', 'flashlight', 'spear', 'chair',\n",
       "       'pitchfork', 'hatchet and gun', 'rock', 'piece of wood', 'bayonet',\n",
       "       'glass shard', 'motorcycle', 'pepper spray', 'metal rake', 'baton',\n",
       "       'crowbar', 'oar', 'machete and gun', 'air conditioner',\n",
       "       'pole and knife', 'beer bottle', 'pipe', 'baseball bat and bottle',\n",
       "       'fireworks', 'pen', 'chainsaw', 'gun and sword', 'gun and car',\n",
       "       'pellet gun', 'BB gun', 'incendiary device', 'samurai sword',\n",
       "       'bow and arrow', 'gun and vehicle', 'vehicle and gun', 'wrench',\n",
       "       'walking stick', 'barstool', 'grenade', 'BB gun and vehicle',\n",
       "       'wasp spray', 'air pistol', 'vehicle and machete', 'ice pick',\n",
       "       'tire iron', 'bottle', 'gun and machete', 'Airsoft pistol'],\n",
       "      dtype=object)"
      ]
     },
     "execution_count": 86,
     "metadata": {},
     "output_type": "execute_result"
    }
   ],
   "source": [
    "# Unique entries prior to converting to a boolean variable\n",
    "# Not necessary, we just wanted to show how much overlapping occurs\n",
    "data['armed'].unique()"
   ]
  },
  {
   "cell_type": "code",
   "execution_count": 87,
   "metadata": {
    "id": "1n7cUpJMdRbu"
   },
   "outputs": [],
   "source": [
    "data['armed'] = data['armed'].map(lambda weapon: weapon.strip().lower() != 'unarmed' \n",
    "                                  and weapon.strip().lower() != 'undetermined')"
   ]
  },
  {
   "cell_type": "markdown",
   "metadata": {
    "id": "d39rGjoPdRbv"
   },
   "source": [
    "<h4>Convert flee to Boolean</h4>\n",
    "<li>\n",
    "    Like armed, flee is a string variable with some unwieldy variation. Sometimes it details a method of flight, others simply whether the victim attempted to flee. Thus we simplified this to a boolean for consistency.\n",
    "</li>"
   ]
  },
  {
   "cell_type": "code",
   "execution_count": 88,
   "metadata": {
    "id": "GIsp2V_rdRbv"
   },
   "outputs": [],
   "source": [
    "# \"not fleeing\" becomes false. ALL other values become true.\n",
    "data['flee'] = data['flee'].map(lambda flee: flee.strip().lower() != 'not fleeing')"
   ]
  },
  {
   "cell_type": "code",
   "execution_count": 89,
   "metadata": {
    "colab": {
     "base_uri": "https://localhost:8080/"
    },
    "id": "4yeBD06ZdRbv",
    "outputId": "e1622e7f-683a-4b99-9861-dbe09c5ce236"
   },
   "outputs": [
    {
     "data": {
      "text/html": [
       "<div>\n",
       "<style scoped>\n",
       "    .dataframe tbody tr th:only-of-type {\n",
       "        vertical-align: middle;\n",
       "    }\n",
       "\n",
       "    .dataframe tbody tr th {\n",
       "        vertical-align: top;\n",
       "    }\n",
       "\n",
       "    .dataframe thead th {\n",
       "        text-align: right;\n",
       "    }\n",
       "</style>\n",
       "<table border=\"1\" class=\"dataframe\">\n",
       "  <thead>\n",
       "    <tr style=\"text-align: right;\">\n",
       "      <th></th>\n",
       "      <th>date</th>\n",
       "      <th>manner_of_death</th>\n",
       "      <th>armed</th>\n",
       "      <th>age</th>\n",
       "      <th>gender</th>\n",
       "      <th>race</th>\n",
       "      <th>state</th>\n",
       "      <th>signs_of_mental_illness</th>\n",
       "      <th>flee</th>\n",
       "      <th>body_camera</th>\n",
       "      <th>longitude</th>\n",
       "      <th>latitude</th>\n",
       "    </tr>\n",
       "  </thead>\n",
       "  <tbody>\n",
       "    <tr>\n",
       "      <th>0</th>\n",
       "      <td>16437</td>\n",
       "      <td>0</td>\n",
       "      <td>True</td>\n",
       "      <td>53.0</td>\n",
       "      <td>0</td>\n",
       "      <td>0</td>\n",
       "      <td>0</td>\n",
       "      <td>True</td>\n",
       "      <td>False</td>\n",
       "      <td>False</td>\n",
       "      <td>-123.122</td>\n",
       "      <td>47.247</td>\n",
       "    </tr>\n",
       "    <tr>\n",
       "      <th>1</th>\n",
       "      <td>16437</td>\n",
       "      <td>0</td>\n",
       "      <td>True</td>\n",
       "      <td>47.0</td>\n",
       "      <td>0</td>\n",
       "      <td>1</td>\n",
       "      <td>1</td>\n",
       "      <td>False</td>\n",
       "      <td>False</td>\n",
       "      <td>False</td>\n",
       "      <td>-122.892</td>\n",
       "      <td>45.487</td>\n",
       "    </tr>\n",
       "    <tr>\n",
       "      <th>2</th>\n",
       "      <td>16438</td>\n",
       "      <td>1</td>\n",
       "      <td>False</td>\n",
       "      <td>23.0</td>\n",
       "      <td>0</td>\n",
       "      <td>2</td>\n",
       "      <td>2</td>\n",
       "      <td>False</td>\n",
       "      <td>False</td>\n",
       "      <td>False</td>\n",
       "      <td>-97.281</td>\n",
       "      <td>37.695</td>\n",
       "    </tr>\n",
       "    <tr>\n",
       "      <th>3</th>\n",
       "      <td>16439</td>\n",
       "      <td>0</td>\n",
       "      <td>True</td>\n",
       "      <td>32.0</td>\n",
       "      <td>0</td>\n",
       "      <td>1</td>\n",
       "      <td>3</td>\n",
       "      <td>True</td>\n",
       "      <td>False</td>\n",
       "      <td>False</td>\n",
       "      <td>-122.422</td>\n",
       "      <td>37.763</td>\n",
       "    </tr>\n",
       "    <tr>\n",
       "      <th>4</th>\n",
       "      <td>16439</td>\n",
       "      <td>0</td>\n",
       "      <td>True</td>\n",
       "      <td>39.0</td>\n",
       "      <td>0</td>\n",
       "      <td>2</td>\n",
       "      <td>4</td>\n",
       "      <td>False</td>\n",
       "      <td>False</td>\n",
       "      <td>False</td>\n",
       "      <td>-104.692</td>\n",
       "      <td>40.384</td>\n",
       "    </tr>\n",
       "    <tr>\n",
       "      <th>...</th>\n",
       "      <td>...</td>\n",
       "      <td>...</td>\n",
       "      <td>...</td>\n",
       "      <td>...</td>\n",
       "      <td>...</td>\n",
       "      <td>...</td>\n",
       "      <td>...</td>\n",
       "      <td>...</td>\n",
       "      <td>...</td>\n",
       "      <td>...</td>\n",
       "      <td>...</td>\n",
       "      <td>...</td>\n",
       "    </tr>\n",
       "    <tr>\n",
       "      <th>4525</th>\n",
       "      <td>18597</td>\n",
       "      <td>0</td>\n",
       "      <td>True</td>\n",
       "      <td>28.0</td>\n",
       "      <td>0</td>\n",
       "      <td>1</td>\n",
       "      <td>33</td>\n",
       "      <td>False</td>\n",
       "      <td>False</td>\n",
       "      <td>False</td>\n",
       "      <td>-81.948</td>\n",
       "      <td>35.330</td>\n",
       "    </tr>\n",
       "    <tr>\n",
       "      <th>4526</th>\n",
       "      <td>18598</td>\n",
       "      <td>0</td>\n",
       "      <td>True</td>\n",
       "      <td>20.0</td>\n",
       "      <td>0</td>\n",
       "      <td>3</td>\n",
       "      <td>31</td>\n",
       "      <td>False</td>\n",
       "      <td>True</td>\n",
       "      <td>False</td>\n",
       "      <td>-82.671</td>\n",
       "      <td>27.752</td>\n",
       "    </tr>\n",
       "    <tr>\n",
       "      <th>4527</th>\n",
       "      <td>18602</td>\n",
       "      <td>0</td>\n",
       "      <td>True</td>\n",
       "      <td>28.0</td>\n",
       "      <td>0</td>\n",
       "      <td>2</td>\n",
       "      <td>3</td>\n",
       "      <td>False</td>\n",
       "      <td>True</td>\n",
       "      <td>False</td>\n",
       "      <td>-117.904</td>\n",
       "      <td>33.988</td>\n",
       "    </tr>\n",
       "    <tr>\n",
       "      <th>4528</th>\n",
       "      <td>18602</td>\n",
       "      <td>0</td>\n",
       "      <td>True</td>\n",
       "      <td>37.0</td>\n",
       "      <td>0</td>\n",
       "      <td>3</td>\n",
       "      <td>10</td>\n",
       "      <td>False</td>\n",
       "      <td>False</td>\n",
       "      <td>False</td>\n",
       "      <td>-84.138</td>\n",
       "      <td>39.772</td>\n",
       "    </tr>\n",
       "    <tr>\n",
       "      <th>4529</th>\n",
       "      <td>18604</td>\n",
       "      <td>0</td>\n",
       "      <td>False</td>\n",
       "      <td>27.0</td>\n",
       "      <td>0</td>\n",
       "      <td>1</td>\n",
       "      <td>31</td>\n",
       "      <td>True</td>\n",
       "      <td>True</td>\n",
       "      <td>True</td>\n",
       "      <td>-82.320</td>\n",
       "      <td>27.893</td>\n",
       "    </tr>\n",
       "  </tbody>\n",
       "</table>\n",
       "<p>4530 rows × 12 columns</p>\n",
       "</div>"
      ],
      "text/plain": [
       "       date  manner_of_death  armed   age  gender  race  state  \\\n",
       "0     16437                0   True  53.0       0     0      0   \n",
       "1     16437                0   True  47.0       0     1      1   \n",
       "2     16438                1  False  23.0       0     2      2   \n",
       "3     16439                0   True  32.0       0     1      3   \n",
       "4     16439                0   True  39.0       0     2      4   \n",
       "...     ...              ...    ...   ...     ...   ...    ...   \n",
       "4525  18597                0   True  28.0       0     1     33   \n",
       "4526  18598                0   True  20.0       0     3     31   \n",
       "4527  18602                0   True  28.0       0     2      3   \n",
       "4528  18602                0   True  37.0       0     3     10   \n",
       "4529  18604                0  False  27.0       0     1     31   \n",
       "\n",
       "      signs_of_mental_illness   flee  body_camera  longitude  latitude  \n",
       "0                        True  False        False   -123.122    47.247  \n",
       "1                       False  False        False   -122.892    45.487  \n",
       "2                       False  False        False    -97.281    37.695  \n",
       "3                        True  False        False   -122.422    37.763  \n",
       "4                       False  False        False   -104.692    40.384  \n",
       "...                       ...    ...          ...        ...       ...  \n",
       "4525                    False  False        False    -81.948    35.330  \n",
       "4526                    False   True        False    -82.671    27.752  \n",
       "4527                    False   True        False   -117.904    33.988  \n",
       "4528                    False  False        False    -84.138    39.772  \n",
       "4529                     True   True         True    -82.320    27.893  \n",
       "\n",
       "[4530 rows x 12 columns]"
      ]
     },
     "execution_count": 89,
     "metadata": {},
     "output_type": "execute_result"
    }
   ],
   "source": [
    "data"
   ]
  },
  {
   "cell_type": "markdown",
   "metadata": {
    "id": "OdlJfIhKdRbw"
   },
   "source": [
    "<h4>Scale Date</h4>\n",
    "<li>\n",
    "    Scale dates from 0 to 1 in order to standardize date range."
   ]
  },
  {
   "cell_type": "code",
   "execution_count": 90,
   "metadata": {
    "id": "HAdYc26cdRbw"
   },
   "outputs": [],
   "source": [
    "from sklearn import preprocessing\n",
    "\n",
    "data['date'] = preprocessing.MinMaxScaler().fit_transform(data['date'].values.reshape(-1,1))"
   ]
  },
  {
   "cell_type": "code",
   "execution_count": 91,
   "metadata": {
    "colab": {
     "base_uri": "https://localhost:8080/"
    },
    "id": "WSIMbIeAdRbw",
    "outputId": "84ded6e7-d8ef-4b7f-9e94-56aef4913cde"
   },
   "outputs": [
    {
     "data": {
      "text/html": [
       "<div>\n",
       "<style scoped>\n",
       "    .dataframe tbody tr th:only-of-type {\n",
       "        vertical-align: middle;\n",
       "    }\n",
       "\n",
       "    .dataframe tbody tr th {\n",
       "        vertical-align: top;\n",
       "    }\n",
       "\n",
       "    .dataframe thead th {\n",
       "        text-align: right;\n",
       "    }\n",
       "</style>\n",
       "<table border=\"1\" class=\"dataframe\">\n",
       "  <thead>\n",
       "    <tr style=\"text-align: right;\">\n",
       "      <th></th>\n",
       "      <th>date</th>\n",
       "      <th>manner_of_death</th>\n",
       "      <th>armed</th>\n",
       "      <th>age</th>\n",
       "      <th>gender</th>\n",
       "      <th>race</th>\n",
       "      <th>state</th>\n",
       "      <th>signs_of_mental_illness</th>\n",
       "      <th>flee</th>\n",
       "      <th>body_camera</th>\n",
       "      <th>longitude</th>\n",
       "      <th>latitude</th>\n",
       "    </tr>\n",
       "  </thead>\n",
       "  <tbody>\n",
       "    <tr>\n",
       "      <th>0</th>\n",
       "      <td>0.000000</td>\n",
       "      <td>0</td>\n",
       "      <td>True</td>\n",
       "      <td>53.0</td>\n",
       "      <td>0</td>\n",
       "      <td>0</td>\n",
       "      <td>0</td>\n",
       "      <td>True</td>\n",
       "      <td>False</td>\n",
       "      <td>False</td>\n",
       "      <td>-123.122</td>\n",
       "      <td>47.247</td>\n",
       "    </tr>\n",
       "    <tr>\n",
       "      <th>1</th>\n",
       "      <td>0.000000</td>\n",
       "      <td>0</td>\n",
       "      <td>True</td>\n",
       "      <td>47.0</td>\n",
       "      <td>0</td>\n",
       "      <td>1</td>\n",
       "      <td>1</td>\n",
       "      <td>False</td>\n",
       "      <td>False</td>\n",
       "      <td>False</td>\n",
       "      <td>-122.892</td>\n",
       "      <td>45.487</td>\n",
       "    </tr>\n",
       "    <tr>\n",
       "      <th>2</th>\n",
       "      <td>0.000461</td>\n",
       "      <td>1</td>\n",
       "      <td>False</td>\n",
       "      <td>23.0</td>\n",
       "      <td>0</td>\n",
       "      <td>2</td>\n",
       "      <td>2</td>\n",
       "      <td>False</td>\n",
       "      <td>False</td>\n",
       "      <td>False</td>\n",
       "      <td>-97.281</td>\n",
       "      <td>37.695</td>\n",
       "    </tr>\n",
       "    <tr>\n",
       "      <th>3</th>\n",
       "      <td>0.000923</td>\n",
       "      <td>0</td>\n",
       "      <td>True</td>\n",
       "      <td>32.0</td>\n",
       "      <td>0</td>\n",
       "      <td>1</td>\n",
       "      <td>3</td>\n",
       "      <td>True</td>\n",
       "      <td>False</td>\n",
       "      <td>False</td>\n",
       "      <td>-122.422</td>\n",
       "      <td>37.763</td>\n",
       "    </tr>\n",
       "    <tr>\n",
       "      <th>4</th>\n",
       "      <td>0.000923</td>\n",
       "      <td>0</td>\n",
       "      <td>True</td>\n",
       "      <td>39.0</td>\n",
       "      <td>0</td>\n",
       "      <td>2</td>\n",
       "      <td>4</td>\n",
       "      <td>False</td>\n",
       "      <td>False</td>\n",
       "      <td>False</td>\n",
       "      <td>-104.692</td>\n",
       "      <td>40.384</td>\n",
       "    </tr>\n",
       "    <tr>\n",
       "      <th>...</th>\n",
       "      <td>...</td>\n",
       "      <td>...</td>\n",
       "      <td>...</td>\n",
       "      <td>...</td>\n",
       "      <td>...</td>\n",
       "      <td>...</td>\n",
       "      <td>...</td>\n",
       "      <td>...</td>\n",
       "      <td>...</td>\n",
       "      <td>...</td>\n",
       "      <td>...</td>\n",
       "      <td>...</td>\n",
       "    </tr>\n",
       "    <tr>\n",
       "      <th>4525</th>\n",
       "      <td>0.996770</td>\n",
       "      <td>0</td>\n",
       "      <td>True</td>\n",
       "      <td>28.0</td>\n",
       "      <td>0</td>\n",
       "      <td>1</td>\n",
       "      <td>33</td>\n",
       "      <td>False</td>\n",
       "      <td>False</td>\n",
       "      <td>False</td>\n",
       "      <td>-81.948</td>\n",
       "      <td>35.330</td>\n",
       "    </tr>\n",
       "    <tr>\n",
       "      <th>4526</th>\n",
       "      <td>0.997231</td>\n",
       "      <td>0</td>\n",
       "      <td>True</td>\n",
       "      <td>20.0</td>\n",
       "      <td>0</td>\n",
       "      <td>3</td>\n",
       "      <td>31</td>\n",
       "      <td>False</td>\n",
       "      <td>True</td>\n",
       "      <td>False</td>\n",
       "      <td>-82.671</td>\n",
       "      <td>27.752</td>\n",
       "    </tr>\n",
       "    <tr>\n",
       "      <th>4527</th>\n",
       "      <td>0.999077</td>\n",
       "      <td>0</td>\n",
       "      <td>True</td>\n",
       "      <td>28.0</td>\n",
       "      <td>0</td>\n",
       "      <td>2</td>\n",
       "      <td>3</td>\n",
       "      <td>False</td>\n",
       "      <td>True</td>\n",
       "      <td>False</td>\n",
       "      <td>-117.904</td>\n",
       "      <td>33.988</td>\n",
       "    </tr>\n",
       "    <tr>\n",
       "      <th>4528</th>\n",
       "      <td>0.999077</td>\n",
       "      <td>0</td>\n",
       "      <td>True</td>\n",
       "      <td>37.0</td>\n",
       "      <td>0</td>\n",
       "      <td>3</td>\n",
       "      <td>10</td>\n",
       "      <td>False</td>\n",
       "      <td>False</td>\n",
       "      <td>False</td>\n",
       "      <td>-84.138</td>\n",
       "      <td>39.772</td>\n",
       "    </tr>\n",
       "    <tr>\n",
       "      <th>4529</th>\n",
       "      <td>1.000000</td>\n",
       "      <td>0</td>\n",
       "      <td>False</td>\n",
       "      <td>27.0</td>\n",
       "      <td>0</td>\n",
       "      <td>1</td>\n",
       "      <td>31</td>\n",
       "      <td>True</td>\n",
       "      <td>True</td>\n",
       "      <td>True</td>\n",
       "      <td>-82.320</td>\n",
       "      <td>27.893</td>\n",
       "    </tr>\n",
       "  </tbody>\n",
       "</table>\n",
       "<p>4530 rows × 12 columns</p>\n",
       "</div>"
      ],
      "text/plain": [
       "          date  manner_of_death  armed   age  gender  race  state  \\\n",
       "0     0.000000                0   True  53.0       0     0      0   \n",
       "1     0.000000                0   True  47.0       0     1      1   \n",
       "2     0.000461                1  False  23.0       0     2      2   \n",
       "3     0.000923                0   True  32.0       0     1      3   \n",
       "4     0.000923                0   True  39.0       0     2      4   \n",
       "...        ...              ...    ...   ...     ...   ...    ...   \n",
       "4525  0.996770                0   True  28.0       0     1     33   \n",
       "4526  0.997231                0   True  20.0       0     3     31   \n",
       "4527  0.999077                0   True  28.0       0     2      3   \n",
       "4528  0.999077                0   True  37.0       0     3     10   \n",
       "4529  1.000000                0  False  27.0       0     1     31   \n",
       "\n",
       "      signs_of_mental_illness   flee  body_camera  longitude  latitude  \n",
       "0                        True  False        False   -123.122    47.247  \n",
       "1                       False  False        False   -122.892    45.487  \n",
       "2                       False  False        False    -97.281    37.695  \n",
       "3                        True  False        False   -122.422    37.763  \n",
       "4                       False  False        False   -104.692    40.384  \n",
       "...                       ...    ...          ...        ...       ...  \n",
       "4525                    False  False        False    -81.948    35.330  \n",
       "4526                    False   True        False    -82.671    27.752  \n",
       "4527                    False   True        False   -117.904    33.988  \n",
       "4528                    False  False        False    -84.138    39.772  \n",
       "4529                     True   True         True    -82.320    27.893  \n",
       "\n",
       "[4530 rows x 12 columns]"
      ]
     },
     "execution_count": 91,
     "metadata": {},
     "output_type": "execute_result"
    }
   ],
   "source": [
    "data"
   ]
  },
  {
   "cell_type": "markdown",
   "metadata": {
    "id": "5Z3w_vMpdRbx"
   },
   "source": [
    "<h4>Equalize Sample Sizes</h4>\n",
    "<li>\n",
    "    There are more False samples than True (for body_camera). Randomly sample from the negative class to create two equal distributions. This will prevent the ML algorithms from being biased towards the majority class.\n",
    "</li>\n",
    "   "
   ]
  },
  {
   "cell_type": "code",
   "execution_count": 92,
   "metadata": {
    "id": "gPiH59AhdRbx"
   },
   "outputs": [],
   "source": [
    "class_counts = data['body_camera'].value_counts()\n",
    "sample_size = min(class_counts[True], class_counts[False])\n",
    "\n",
    "# Take two equal samples. Recombine into a single dataframe.\n",
    "pos_samples = data[data['body_camera']].sample(n=sample_size, random_state=8675309)\n",
    "neg_samples = data[data['body_camera'] == False].sample(n=sample_size, random_state=8675309)\n",
    "equalized = pos_samples.append(neg_samples)"
   ]
  },
  {
   "cell_type": "code",
   "execution_count": 93,
   "metadata": {
    "colab": {
     "base_uri": "https://localhost:8080/"
    },
    "id": "MqL8m_AhdRbx",
    "outputId": "8574e8e9-236c-4978-ad48-ba917ce83e7c"
   },
   "outputs": [
    {
     "data": {
      "text/html": [
       "<div>\n",
       "<style scoped>\n",
       "    .dataframe tbody tr th:only-of-type {\n",
       "        vertical-align: middle;\n",
       "    }\n",
       "\n",
       "    .dataframe tbody tr th {\n",
       "        vertical-align: top;\n",
       "    }\n",
       "\n",
       "    .dataframe thead th {\n",
       "        text-align: right;\n",
       "    }\n",
       "</style>\n",
       "<table border=\"1\" class=\"dataframe\">\n",
       "  <thead>\n",
       "    <tr style=\"text-align: right;\">\n",
       "      <th></th>\n",
       "      <th>date</th>\n",
       "      <th>manner_of_death</th>\n",
       "      <th>armed</th>\n",
       "      <th>age</th>\n",
       "      <th>gender</th>\n",
       "      <th>race</th>\n",
       "      <th>state</th>\n",
       "      <th>signs_of_mental_illness</th>\n",
       "      <th>flee</th>\n",
       "      <th>body_camera</th>\n",
       "      <th>longitude</th>\n",
       "      <th>latitude</th>\n",
       "    </tr>\n",
       "  </thead>\n",
       "  <tbody>\n",
       "    <tr>\n",
       "      <th>0</th>\n",
       "      <td>0.222427</td>\n",
       "      <td>0</td>\n",
       "      <td>True</td>\n",
       "      <td>53.0</td>\n",
       "      <td>0</td>\n",
       "      <td>1</td>\n",
       "      <td>25</td>\n",
       "      <td>True</td>\n",
       "      <td>False</td>\n",
       "      <td>True</td>\n",
       "      <td>-116.316</td>\n",
       "      <td>43.553</td>\n",
       "    </tr>\n",
       "    <tr>\n",
       "      <th>1</th>\n",
       "      <td>0.841717</td>\n",
       "      <td>0</td>\n",
       "      <td>True</td>\n",
       "      <td>57.0</td>\n",
       "      <td>0</td>\n",
       "      <td>3</td>\n",
       "      <td>27</td>\n",
       "      <td>False</td>\n",
       "      <td>False</td>\n",
       "      <td>True</td>\n",
       "      <td>-95.947</td>\n",
       "      <td>41.292</td>\n",
       "    </tr>\n",
       "    <tr>\n",
       "      <th>2</th>\n",
       "      <td>0.179972</td>\n",
       "      <td>0</td>\n",
       "      <td>True</td>\n",
       "      <td>32.0</td>\n",
       "      <td>0</td>\n",
       "      <td>3</td>\n",
       "      <td>32</td>\n",
       "      <td>False</td>\n",
       "      <td>True</td>\n",
       "      <td>True</td>\n",
       "      <td>-90.033</td>\n",
       "      <td>35.108</td>\n",
       "    </tr>\n",
       "    <tr>\n",
       "      <th>3</th>\n",
       "      <td>0.867559</td>\n",
       "      <td>0</td>\n",
       "      <td>True</td>\n",
       "      <td>23.0</td>\n",
       "      <td>0</td>\n",
       "      <td>1</td>\n",
       "      <td>25</td>\n",
       "      <td>False</td>\n",
       "      <td>True</td>\n",
       "      <td>True</td>\n",
       "      <td>-112.433</td>\n",
       "      <td>42.853</td>\n",
       "    </tr>\n",
       "    <tr>\n",
       "      <th>4</th>\n",
       "      <td>0.906322</td>\n",
       "      <td>1</td>\n",
       "      <td>True</td>\n",
       "      <td>57.0</td>\n",
       "      <td>0</td>\n",
       "      <td>3</td>\n",
       "      <td>0</td>\n",
       "      <td>False</td>\n",
       "      <td>True</td>\n",
       "      <td>True</td>\n",
       "      <td>-122.352</td>\n",
       "      <td>47.614</td>\n",
       "    </tr>\n",
       "    <tr>\n",
       "      <th>...</th>\n",
       "      <td>...</td>\n",
       "      <td>...</td>\n",
       "      <td>...</td>\n",
       "      <td>...</td>\n",
       "      <td>...</td>\n",
       "      <td>...</td>\n",
       "      <td>...</td>\n",
       "      <td>...</td>\n",
       "      <td>...</td>\n",
       "      <td>...</td>\n",
       "      <td>...</td>\n",
       "      <td>...</td>\n",
       "    </tr>\n",
       "    <tr>\n",
       "      <th>1193</th>\n",
       "      <td>0.058145</td>\n",
       "      <td>0</td>\n",
       "      <td>True</td>\n",
       "      <td>58.0</td>\n",
       "      <td>0</td>\n",
       "      <td>1</td>\n",
       "      <td>35</td>\n",
       "      <td>True</td>\n",
       "      <td>False</td>\n",
       "      <td>False</td>\n",
       "      <td>-76.008</td>\n",
       "      <td>43.266</td>\n",
       "    </tr>\n",
       "    <tr>\n",
       "      <th>1194</th>\n",
       "      <td>0.694970</td>\n",
       "      <td>0</td>\n",
       "      <td>True</td>\n",
       "      <td>17.0</td>\n",
       "      <td>0</td>\n",
       "      <td>3</td>\n",
       "      <td>14</td>\n",
       "      <td>False</td>\n",
       "      <td>True</td>\n",
       "      <td>False</td>\n",
       "      <td>-87.626</td>\n",
       "      <td>41.854</td>\n",
       "    </tr>\n",
       "    <tr>\n",
       "      <th>1195</th>\n",
       "      <td>0.156899</td>\n",
       "      <td>0</td>\n",
       "      <td>False</td>\n",
       "      <td>36.0</td>\n",
       "      <td>0</td>\n",
       "      <td>3</td>\n",
       "      <td>35</td>\n",
       "      <td>False</td>\n",
       "      <td>True</td>\n",
       "      <td>False</td>\n",
       "      <td>-73.879</td>\n",
       "      <td>40.924</td>\n",
       "    </tr>\n",
       "    <tr>\n",
       "      <th>1196</th>\n",
       "      <td>0.127365</td>\n",
       "      <td>0</td>\n",
       "      <td>False</td>\n",
       "      <td>27.0</td>\n",
       "      <td>0</td>\n",
       "      <td>4</td>\n",
       "      <td>10</td>\n",
       "      <td>False</td>\n",
       "      <td>False</td>\n",
       "      <td>False</td>\n",
       "      <td>-81.436</td>\n",
       "      <td>41.042</td>\n",
       "    </tr>\n",
       "    <tr>\n",
       "      <th>1197</th>\n",
       "      <td>0.451315</td>\n",
       "      <td>0</td>\n",
       "      <td>True</td>\n",
       "      <td>29.0</td>\n",
       "      <td>0</td>\n",
       "      <td>2</td>\n",
       "      <td>33</td>\n",
       "      <td>False</td>\n",
       "      <td>False</td>\n",
       "      <td>False</td>\n",
       "      <td>-80.788</td>\n",
       "      <td>35.279</td>\n",
       "    </tr>\n",
       "  </tbody>\n",
       "</table>\n",
       "<p>1198 rows × 12 columns</p>\n",
       "</div>"
      ],
      "text/plain": [
       "          date  manner_of_death  armed   age  gender  race  state  \\\n",
       "0     0.222427                0   True  53.0       0     1     25   \n",
       "1     0.841717                0   True  57.0       0     3     27   \n",
       "2     0.179972                0   True  32.0       0     3     32   \n",
       "3     0.867559                0   True  23.0       0     1     25   \n",
       "4     0.906322                1   True  57.0       0     3      0   \n",
       "...        ...              ...    ...   ...     ...   ...    ...   \n",
       "1193  0.058145                0   True  58.0       0     1     35   \n",
       "1194  0.694970                0   True  17.0       0     3     14   \n",
       "1195  0.156899                0  False  36.0       0     3     35   \n",
       "1196  0.127365                0  False  27.0       0     4     10   \n",
       "1197  0.451315                0   True  29.0       0     2     33   \n",
       "\n",
       "      signs_of_mental_illness   flee  body_camera  longitude  latitude  \n",
       "0                        True  False         True   -116.316    43.553  \n",
       "1                       False  False         True    -95.947    41.292  \n",
       "2                       False   True         True    -90.033    35.108  \n",
       "3                       False   True         True   -112.433    42.853  \n",
       "4                       False   True         True   -122.352    47.614  \n",
       "...                       ...    ...          ...        ...       ...  \n",
       "1193                     True  False        False    -76.008    43.266  \n",
       "1194                    False   True        False    -87.626    41.854  \n",
       "1195                    False   True        False    -73.879    40.924  \n",
       "1196                    False  False        False    -81.436    41.042  \n",
       "1197                    False  False        False    -80.788    35.279  \n",
       "\n",
       "[1198 rows x 12 columns]"
      ]
     },
     "execution_count": 93,
     "metadata": {},
     "output_type": "execute_result"
    }
   ],
   "source": [
    "equalized.reset_index(drop=True)"
   ]
  },
  {
   "cell_type": "markdown",
   "metadata": {
    "id": "baFeBnpLdRbx"
   },
   "source": [
    "<h4>Select Features</h4>\n",
    "<li>\n",
    "    We elect for a Model-Based Feature Selection approach. We are unsure how many features will be important. Rather than arbitrarily limit this number, as we would need to for an univariate or iterative approach, a model-based approach does restrict feature count <i>a priori</i>.\n",
    "</li>\n",
    "<li>We do our initial train/test split here to prevent data leakage. X_test_selected will later be used for final model evaluation, and X_train_selected will be used for crossvalidation and hyperparameter tuning.\n",
    "</li>"
   ]
  },
  {
   "cell_type": "code",
   "execution_count": 94,
   "metadata": {
    "id": "yKFRvFnCdRby"
   },
   "outputs": [],
   "source": [
    "from sklearn import feature_selection, linear_model, tree, model_selection\n",
    "\n",
    "# Split dataset\n",
    "features = equalized.drop('body_camera', axis=1)\n",
    "target = equalized['body_camera']\n",
    "\n",
    "X_train, X_test, y_train, y_test = model_selection.train_test_split(features, target, random_state=8675309)\n",
    "\n",
    "# Select important features\n",
    "selector = feature_selection.SelectFromModel(tree.DecisionTreeClassifier())\n",
    "selected = selector.fit(X_train, y_train).get_support()\n",
    "selected_cols = [feature for feature, supported in zip(X_train.columns, selected) if supported]\n",
    "\n",
    "# Selected only the features deemed important\n",
    "X_train_selected = X_train[selected_cols].reset_index(drop=True)\n",
    "X_test_selected = X_test[selected_cols].reset_index(drop=True)"
   ]
  },
  {
   "cell_type": "code",
   "execution_count": 95,
   "metadata": {
    "colab": {
     "base_uri": "https://localhost:8080/"
    },
    "id": "VuXMQl3pdRby",
    "outputId": "6549a00a-5cef-4035-e68a-88f11ec3750c"
   },
   "outputs": [
    {
     "data": {
      "text/html": [
       "<div>\n",
       "<style scoped>\n",
       "    .dataframe tbody tr th:only-of-type {\n",
       "        vertical-align: middle;\n",
       "    }\n",
       "\n",
       "    .dataframe tbody tr th {\n",
       "        vertical-align: top;\n",
       "    }\n",
       "\n",
       "    .dataframe thead th {\n",
       "        text-align: right;\n",
       "    }\n",
       "</style>\n",
       "<table border=\"1\" class=\"dataframe\">\n",
       "  <thead>\n",
       "    <tr style=\"text-align: right;\">\n",
       "      <th></th>\n",
       "      <th>date</th>\n",
       "      <th>age</th>\n",
       "      <th>longitude</th>\n",
       "      <th>latitude</th>\n",
       "    </tr>\n",
       "  </thead>\n",
       "  <tbody>\n",
       "    <tr>\n",
       "      <th>0</th>\n",
       "      <td>0.623443</td>\n",
       "      <td>46.0</td>\n",
       "      <td>-83.236</td>\n",
       "      <td>42.362</td>\n",
       "    </tr>\n",
       "    <tr>\n",
       "      <th>1</th>\n",
       "      <td>0.748962</td>\n",
       "      <td>17.0</td>\n",
       "      <td>-77.107</td>\n",
       "      <td>39.053</td>\n",
       "    </tr>\n",
       "    <tr>\n",
       "      <th>2</th>\n",
       "      <td>0.143516</td>\n",
       "      <td>45.0</td>\n",
       "      <td>-121.914</td>\n",
       "      <td>37.255</td>\n",
       "    </tr>\n",
       "    <tr>\n",
       "      <th>3</th>\n",
       "      <td>0.706045</td>\n",
       "      <td>31.0</td>\n",
       "      <td>-85.582</td>\n",
       "      <td>42.295</td>\n",
       "    </tr>\n",
       "    <tr>\n",
       "      <th>4</th>\n",
       "      <td>0.062298</td>\n",
       "      <td>34.0</td>\n",
       "      <td>-117.154</td>\n",
       "      <td>32.802</td>\n",
       "    </tr>\n",
       "    <tr>\n",
       "      <th>...</th>\n",
       "      <td>...</td>\n",
       "      <td>...</td>\n",
       "      <td>...</td>\n",
       "      <td>...</td>\n",
       "    </tr>\n",
       "    <tr>\n",
       "      <th>893</th>\n",
       "      <td>0.254269</td>\n",
       "      <td>32.0</td>\n",
       "      <td>-93.170</td>\n",
       "      <td>44.992</td>\n",
       "    </tr>\n",
       "    <tr>\n",
       "      <th>894</th>\n",
       "      <td>0.797416</td>\n",
       "      <td>28.0</td>\n",
       "      <td>-81.334</td>\n",
       "      <td>33.839</td>\n",
       "    </tr>\n",
       "    <tr>\n",
       "      <th>895</th>\n",
       "      <td>0.985695</td>\n",
       "      <td>56.0</td>\n",
       "      <td>-111.775</td>\n",
       "      <td>34.785</td>\n",
       "    </tr>\n",
       "    <tr>\n",
       "      <th>896</th>\n",
       "      <td>0.759114</td>\n",
       "      <td>37.0</td>\n",
       "      <td>-82.414</td>\n",
       "      <td>27.721</td>\n",
       "    </tr>\n",
       "    <tr>\n",
       "      <th>897</th>\n",
       "      <td>0.510844</td>\n",
       "      <td>42.0</td>\n",
       "      <td>-80.876</td>\n",
       "      <td>35.398</td>\n",
       "    </tr>\n",
       "  </tbody>\n",
       "</table>\n",
       "<p>898 rows × 4 columns</p>\n",
       "</div>"
      ],
      "text/plain": [
       "         date   age  longitude  latitude\n",
       "0    0.623443  46.0    -83.236    42.362\n",
       "1    0.748962  17.0    -77.107    39.053\n",
       "2    0.143516  45.0   -121.914    37.255\n",
       "3    0.706045  31.0    -85.582    42.295\n",
       "4    0.062298  34.0   -117.154    32.802\n",
       "..        ...   ...        ...       ...\n",
       "893  0.254269  32.0    -93.170    44.992\n",
       "894  0.797416  28.0    -81.334    33.839\n",
       "895  0.985695  56.0   -111.775    34.785\n",
       "896  0.759114  37.0    -82.414    27.721\n",
       "897  0.510844  42.0    -80.876    35.398\n",
       "\n",
       "[898 rows x 4 columns]"
      ]
     },
     "execution_count": 95,
     "metadata": {},
     "output_type": "execute_result"
    }
   ],
   "source": [
    "X_train_selected"
   ]
  },
  {
   "cell_type": "code",
   "execution_count": 96,
   "metadata": {
    "colab": {
     "base_uri": "https://localhost:8080/"
    },
    "id": "wlr9TnzUdRbz",
    "outputId": "25e7e707-b42c-4be2-ab71-31a8c8b8c44c"
   },
   "outputs": [
    {
     "data": {
      "text/plain": [
       "3029     True\n",
       "3538    False\n",
       "780     False\n",
       "3369    False\n",
       "333      True\n",
       "        ...  \n",
       "1346     True\n",
       "3724    False\n",
       "4500     True\n",
       "3589    False\n",
       "2493     True\n",
       "Name: body_camera, Length: 898, dtype: bool"
      ]
     },
     "execution_count": 96,
     "metadata": {},
     "output_type": "execute_result"
    }
   ],
   "source": [
    "y_train"
   ]
  },
  {
   "cell_type": "markdown",
   "metadata": {
    "id": "zrjAfwdsdRb0"
   },
   "source": [
    "<h4>Discretize Age</h4>\n",
    "<li>\n",
    "    Age is given as a continuous floating point number. In context, when someone sees a person for the first time, they can guess a general age range, but not an exact number. For a police officer, this means they might see a teenager or middle-aged person, not exactly a \"24-year-old. This may affect outcomes. We discretize age with one-hot encoding to give a more realistic representation."
   ]
  },
  {
   "cell_type": "code",
   "execution_count": 97,
   "metadata": {
    "id": "NmGW1niudRb0"
   },
   "outputs": [],
   "source": [
    "from sklearn.preprocessing import KBinsDiscretizer\n",
    "\n",
    "# Bin in roughly 10 year ranges\n",
    "bins = int((equalized['age'].max() - equalized['age'].min()) // 10)  \n",
    "\n",
    "# Fit the bins, then transform\n",
    "binner = KBinsDiscretizer(n_bins=bins, encode='onehot-dense', strategy='uniform')\n",
    "binner.fit(equalized['age'].values.reshape(-1,1))\n",
    "\n",
    "# Only binning one feature, we can assume only a single array element\n",
    "age_bins = []\n",
    "for x in range(len(binner.bin_edges_[0]) - 1):\n",
    "    left_edge = binner.bin_edges_[0][x]\n",
    "    right_edge = binner.bin_edges_[0][x+1]\n",
    "    age_bins += [f'age_{left_edge}, {right_edge}']\n",
    "    \n",
    "# Store onehot encoded ages in a table with bin edges as the column labels. Merge with the dataset.\n",
    "bin_train_ages = pd.DataFrame(binner.transform(X_train_selected['age'].values.reshape(-1, 1)), columns=age_bins)\n",
    "X_train_selected = pd.merge(X_train_selected.drop('age', axis=1), bin_train_ages, left_index=True, right_index=True)\n",
    "\n",
    "bin_test_ages = pd.DataFrame(binner.transform(X_test_selected['age'].values.reshape(-1, 1)), columns=age_bins)\n",
    "X_test_selected = pd.merge(X_test_selected.drop('age', axis=1), bin_test_ages, left_index=True, right_index=True)"
   ]
  },
  {
   "cell_type": "code",
   "execution_count": 98,
   "metadata": {
    "colab": {
     "base_uri": "https://localhost:8080/"
    },
    "id": "EMafylEtdRb1",
    "outputId": "8fc2cdbd-b903-478e-f398-1400aa3d2770"
   },
   "outputs": [
    {
     "data": {
      "text/html": [
       "<div>\n",
       "<style scoped>\n",
       "    .dataframe tbody tr th:only-of-type {\n",
       "        vertical-align: middle;\n",
       "    }\n",
       "\n",
       "    .dataframe tbody tr th {\n",
       "        vertical-align: top;\n",
       "    }\n",
       "\n",
       "    .dataframe thead th {\n",
       "        text-align: right;\n",
       "    }\n",
       "</style>\n",
       "<table border=\"1\" class=\"dataframe\">\n",
       "  <thead>\n",
       "    <tr style=\"text-align: right;\">\n",
       "      <th></th>\n",
       "      <th>date</th>\n",
       "      <th>longitude</th>\n",
       "      <th>latitude</th>\n",
       "      <th>age_6.0, 16.25</th>\n",
       "      <th>age_16.25, 26.5</th>\n",
       "      <th>age_26.5, 36.75</th>\n",
       "      <th>age_36.75, 47.0</th>\n",
       "      <th>age_47.0, 57.25</th>\n",
       "      <th>age_57.25, 67.5</th>\n",
       "      <th>age_67.5, 77.75</th>\n",
       "      <th>age_77.75, 88.0</th>\n",
       "    </tr>\n",
       "  </thead>\n",
       "  <tbody>\n",
       "    <tr>\n",
       "      <th>0</th>\n",
       "      <td>0.623443</td>\n",
       "      <td>-83.236</td>\n",
       "      <td>42.362</td>\n",
       "      <td>0.0</td>\n",
       "      <td>0.0</td>\n",
       "      <td>0.0</td>\n",
       "      <td>1.0</td>\n",
       "      <td>0.0</td>\n",
       "      <td>0.0</td>\n",
       "      <td>0.0</td>\n",
       "      <td>0.0</td>\n",
       "    </tr>\n",
       "    <tr>\n",
       "      <th>1</th>\n",
       "      <td>0.748962</td>\n",
       "      <td>-77.107</td>\n",
       "      <td>39.053</td>\n",
       "      <td>0.0</td>\n",
       "      <td>1.0</td>\n",
       "      <td>0.0</td>\n",
       "      <td>0.0</td>\n",
       "      <td>0.0</td>\n",
       "      <td>0.0</td>\n",
       "      <td>0.0</td>\n",
       "      <td>0.0</td>\n",
       "    </tr>\n",
       "    <tr>\n",
       "      <th>2</th>\n",
       "      <td>0.143516</td>\n",
       "      <td>-121.914</td>\n",
       "      <td>37.255</td>\n",
       "      <td>0.0</td>\n",
       "      <td>0.0</td>\n",
       "      <td>0.0</td>\n",
       "      <td>1.0</td>\n",
       "      <td>0.0</td>\n",
       "      <td>0.0</td>\n",
       "      <td>0.0</td>\n",
       "      <td>0.0</td>\n",
       "    </tr>\n",
       "    <tr>\n",
       "      <th>3</th>\n",
       "      <td>0.706045</td>\n",
       "      <td>-85.582</td>\n",
       "      <td>42.295</td>\n",
       "      <td>0.0</td>\n",
       "      <td>0.0</td>\n",
       "      <td>1.0</td>\n",
       "      <td>0.0</td>\n",
       "      <td>0.0</td>\n",
       "      <td>0.0</td>\n",
       "      <td>0.0</td>\n",
       "      <td>0.0</td>\n",
       "    </tr>\n",
       "    <tr>\n",
       "      <th>4</th>\n",
       "      <td>0.062298</td>\n",
       "      <td>-117.154</td>\n",
       "      <td>32.802</td>\n",
       "      <td>0.0</td>\n",
       "      <td>0.0</td>\n",
       "      <td>1.0</td>\n",
       "      <td>0.0</td>\n",
       "      <td>0.0</td>\n",
       "      <td>0.0</td>\n",
       "      <td>0.0</td>\n",
       "      <td>0.0</td>\n",
       "    </tr>\n",
       "    <tr>\n",
       "      <th>...</th>\n",
       "      <td>...</td>\n",
       "      <td>...</td>\n",
       "      <td>...</td>\n",
       "      <td>...</td>\n",
       "      <td>...</td>\n",
       "      <td>...</td>\n",
       "      <td>...</td>\n",
       "      <td>...</td>\n",
       "      <td>...</td>\n",
       "      <td>...</td>\n",
       "      <td>...</td>\n",
       "    </tr>\n",
       "    <tr>\n",
       "      <th>893</th>\n",
       "      <td>0.254269</td>\n",
       "      <td>-93.170</td>\n",
       "      <td>44.992</td>\n",
       "      <td>0.0</td>\n",
       "      <td>0.0</td>\n",
       "      <td>1.0</td>\n",
       "      <td>0.0</td>\n",
       "      <td>0.0</td>\n",
       "      <td>0.0</td>\n",
       "      <td>0.0</td>\n",
       "      <td>0.0</td>\n",
       "    </tr>\n",
       "    <tr>\n",
       "      <th>894</th>\n",
       "      <td>0.797416</td>\n",
       "      <td>-81.334</td>\n",
       "      <td>33.839</td>\n",
       "      <td>0.0</td>\n",
       "      <td>0.0</td>\n",
       "      <td>1.0</td>\n",
       "      <td>0.0</td>\n",
       "      <td>0.0</td>\n",
       "      <td>0.0</td>\n",
       "      <td>0.0</td>\n",
       "      <td>0.0</td>\n",
       "    </tr>\n",
       "    <tr>\n",
       "      <th>895</th>\n",
       "      <td>0.985695</td>\n",
       "      <td>-111.775</td>\n",
       "      <td>34.785</td>\n",
       "      <td>0.0</td>\n",
       "      <td>0.0</td>\n",
       "      <td>0.0</td>\n",
       "      <td>0.0</td>\n",
       "      <td>1.0</td>\n",
       "      <td>0.0</td>\n",
       "      <td>0.0</td>\n",
       "      <td>0.0</td>\n",
       "    </tr>\n",
       "    <tr>\n",
       "      <th>896</th>\n",
       "      <td>0.759114</td>\n",
       "      <td>-82.414</td>\n",
       "      <td>27.721</td>\n",
       "      <td>0.0</td>\n",
       "      <td>0.0</td>\n",
       "      <td>0.0</td>\n",
       "      <td>1.0</td>\n",
       "      <td>0.0</td>\n",
       "      <td>0.0</td>\n",
       "      <td>0.0</td>\n",
       "      <td>0.0</td>\n",
       "    </tr>\n",
       "    <tr>\n",
       "      <th>897</th>\n",
       "      <td>0.510844</td>\n",
       "      <td>-80.876</td>\n",
       "      <td>35.398</td>\n",
       "      <td>0.0</td>\n",
       "      <td>0.0</td>\n",
       "      <td>0.0</td>\n",
       "      <td>1.0</td>\n",
       "      <td>0.0</td>\n",
       "      <td>0.0</td>\n",
       "      <td>0.0</td>\n",
       "      <td>0.0</td>\n",
       "    </tr>\n",
       "  </tbody>\n",
       "</table>\n",
       "<p>898 rows × 11 columns</p>\n",
       "</div>"
      ],
      "text/plain": [
       "         date  longitude  latitude  age_6.0, 16.25  age_16.25, 26.5  \\\n",
       "0    0.623443    -83.236    42.362             0.0              0.0   \n",
       "1    0.748962    -77.107    39.053             0.0              1.0   \n",
       "2    0.143516   -121.914    37.255             0.0              0.0   \n",
       "3    0.706045    -85.582    42.295             0.0              0.0   \n",
       "4    0.062298   -117.154    32.802             0.0              0.0   \n",
       "..        ...        ...       ...             ...              ...   \n",
       "893  0.254269    -93.170    44.992             0.0              0.0   \n",
       "894  0.797416    -81.334    33.839             0.0              0.0   \n",
       "895  0.985695   -111.775    34.785             0.0              0.0   \n",
       "896  0.759114    -82.414    27.721             0.0              0.0   \n",
       "897  0.510844    -80.876    35.398             0.0              0.0   \n",
       "\n",
       "     age_26.5, 36.75  age_36.75, 47.0  age_47.0, 57.25  age_57.25, 67.5  \\\n",
       "0                0.0              1.0              0.0              0.0   \n",
       "1                0.0              0.0              0.0              0.0   \n",
       "2                0.0              1.0              0.0              0.0   \n",
       "3                1.0              0.0              0.0              0.0   \n",
       "4                1.0              0.0              0.0              0.0   \n",
       "..               ...              ...              ...              ...   \n",
       "893              1.0              0.0              0.0              0.0   \n",
       "894              1.0              0.0              0.0              0.0   \n",
       "895              0.0              0.0              1.0              0.0   \n",
       "896              0.0              1.0              0.0              0.0   \n",
       "897              0.0              1.0              0.0              0.0   \n",
       "\n",
       "     age_67.5, 77.75  age_77.75, 88.0  \n",
       "0                0.0              0.0  \n",
       "1                0.0              0.0  \n",
       "2                0.0              0.0  \n",
       "3                0.0              0.0  \n",
       "4                0.0              0.0  \n",
       "..               ...              ...  \n",
       "893              0.0              0.0  \n",
       "894              0.0              0.0  \n",
       "895              0.0              0.0  \n",
       "896              0.0              0.0  \n",
       "897              0.0              0.0  \n",
       "\n",
       "[898 rows x 11 columns]"
      ]
     },
     "execution_count": 98,
     "metadata": {},
     "output_type": "execute_result"
    }
   ],
   "source": [
    "X_train_selected"
   ]
  },
  {
   "cell_type": "markdown",
   "metadata": {
    "id": "AWmQvYWWdRb2"
   },
   "source": [
    "### 3.2. Data Exploration"
   ]
  },
  {
   "cell_type": "markdown",
   "metadata": {
    "id": "MNsPEApTdRb2"
   },
   "source": [
    "<h4>Bodycam Use By State</h4>\n",
    "<li>\n",
    "    We use the plotly express library to visualize the percentage of incidences per state in which a body-camera was used.\n",
    "</li>"
   ]
  },
  {
   "cell_type": "code",
   "execution_count": 99,
   "metadata": {
    "id": "bFqwJUsCdRb3"
   },
   "outputs": [],
   "source": [
    "def build_heatmap(df: pd.DataFrame):\n",
    "    \"\"\"Given a DataFrame for with raw numbers and states, calculate body camera usage counts per state.\"\"\"\n",
    "    heat_df = pd.DataFrame(columns=['state', 'bodycam_on', 'bodycam_off', 'total'])\n",
    "    \n",
    "    state_counts = df['state'].value_counts()\n",
    "    pos_class_counts = df[df['body_camera']]['state'].value_counts()\n",
    "    neg_class_counts = df[df['body_camera'] == False]['state'].value_counts()\n",
    "    \n",
    "    for state in df['state'].unique():\n",
    "        heat_df=heat_df.append(pd.Series([state_num_to_str[state],\n",
    "                                          pos_class_counts.get(state, 0), \n",
    "                                          neg_class_counts.get(state, 0), \n",
    "                                          state_counts[state]], \n",
    "                                         index=heat_df.columns), \n",
    "                               ignore_index=True)\n",
    "    return heat_df"
   ]
  },
  {
   "cell_type": "code",
   "execution_count": 100,
   "metadata": {
    "colab": {
     "base_uri": "https://localhost:8080/"
    },
    "id": "QLqnI0CbdRb3",
    "outputId": "d053437d-895a-4f05-d722-2eeb75dcf673"
   },
   "outputs": [
    {
     "data": {
      "text/html": [
       "<div>\n",
       "<style scoped>\n",
       "    .dataframe tbody tr th:only-of-type {\n",
       "        vertical-align: middle;\n",
       "    }\n",
       "\n",
       "    .dataframe tbody tr th {\n",
       "        vertical-align: top;\n",
       "    }\n",
       "\n",
       "    .dataframe thead th {\n",
       "        text-align: right;\n",
       "    }\n",
       "</style>\n",
       "<table border=\"1\" class=\"dataframe\">\n",
       "  <thead>\n",
       "    <tr style=\"text-align: right;\">\n",
       "      <th></th>\n",
       "      <th>state</th>\n",
       "      <th>bodycam_on</th>\n",
       "      <th>bodycam_off</th>\n",
       "      <th>total</th>\n",
       "      <th>percent_cam_use</th>\n",
       "    </tr>\n",
       "  </thead>\n",
       "  <tbody>\n",
       "    <tr>\n",
       "      <th>0</th>\n",
       "      <td>WA</td>\n",
       "      <td>14</td>\n",
       "      <td>107</td>\n",
       "      <td>121</td>\n",
       "      <td>0.115702</td>\n",
       "    </tr>\n",
       "    <tr>\n",
       "      <th>1</th>\n",
       "      <td>OR</td>\n",
       "      <td>6</td>\n",
       "      <td>63</td>\n",
       "      <td>69</td>\n",
       "      <td>0.086957</td>\n",
       "    </tr>\n",
       "    <tr>\n",
       "      <th>2</th>\n",
       "      <td>KS</td>\n",
       "      <td>5</td>\n",
       "      <td>42</td>\n",
       "      <td>47</td>\n",
       "      <td>0.106383</td>\n",
       "    </tr>\n",
       "    <tr>\n",
       "      <th>3</th>\n",
       "      <td>CA</td>\n",
       "      <td>115</td>\n",
       "      <td>549</td>\n",
       "      <td>664</td>\n",
       "      <td>0.173193</td>\n",
       "    </tr>\n",
       "    <tr>\n",
       "      <th>4</th>\n",
       "      <td>CO</td>\n",
       "      <td>19</td>\n",
       "      <td>143</td>\n",
       "      <td>162</td>\n",
       "      <td>0.117284</td>\n",
       "    </tr>\n",
       "  </tbody>\n",
       "</table>\n",
       "</div>"
      ],
      "text/plain": [
       "  state bodycam_on bodycam_off total  percent_cam_use\n",
       "0    WA         14         107   121         0.115702\n",
       "1    OR          6          63    69         0.086957\n",
       "2    KS          5          42    47         0.106383\n",
       "3    CA        115         549   664         0.173193\n",
       "4    CO         19         143   162         0.117284"
      ]
     },
     "execution_count": 100,
     "metadata": {},
     "output_type": "execute_result"
    }
   ],
   "source": [
    "# Calculate state by state statistics to graph\n",
    "heatmap_df = build_heatmap(data)\n",
    "heatmap_df['percent_cam_use'] = heatmap_df.apply(lambda state: state['bodycam_on'] / state['total'], axis=1)\n",
    "heatmap_df.head()"
   ]
  },
  {
   "cell_type": "code",
   "execution_count": 101,
   "metadata": {
    "colab": {
     "base_uri": "https://localhost:8080/"
    },
    "id": "VcFGqAV3dRb3",
    "outputId": "5c873eeb-b128-47ad-f7e4-c1157f733398"
   },
   "outputs": [
    {
     "data": {
      "application/vnd.plotly.v1+json": {
       "config": {
        "plotlyServerURL": "https://plot.ly"
       },
       "data": [
        {
         "coloraxis": "coloraxis",
         "customdata": [
          [
           14,
           107,
           121
          ],
          [
           6,
           63,
           69
          ],
          [
           5,
           42,
           47
          ],
          [
           115,
           549,
           664
          ],
          [
           19,
           143,
           162
          ],
          [
           21,
           116,
           137
          ],
          [
           29,
           171,
           200
          ],
          [
           6,
           23,
           29
          ],
          [
           2,
           87,
           89
          ],
          [
           41,
           357,
           398
          ],
          [
           10,
           125,
           135
          ],
          [
           13,
           79,
           92
          ],
          [
           18,
           40,
           58
          ],
          [
           4,
           52,
           56
          ],
          [
           11,
           83,
           94
          ],
          [
           28,
           53,
           81
          ],
          [
           15,
           70,
           85
          ],
          [
           12,
           72,
           84
          ],
          [
           5,
           50,
           55
          ],
          [
           14,
           75,
           89
          ],
          [
           20,
           36,
           56
          ],
          [
           6,
           71,
           77
          ],
          [
           1,
           27,
           28
          ],
          [
           2,
           109,
           111
          ],
          [
           1,
           10,
           11
          ],
          [
           7,
           27,
           34
          ],
          [
           17,
           53,
           70
          ],
          [
           3,
           20,
           23
          ],
          [
           9,
           64,
           73
          ],
          [
           3,
           21,
           24
          ],
          [
           15,
           136,
           151
          ],
          [
           23,
           300,
           323
          ],
          [
           11,
           108,
           119
          ],
          [
           19,
           116,
           135
          ],
          [
           2,
           26,
           28
          ],
          [
           14,
           72,
           86
          ],
          [
           0,
           16,
           16
          ],
          [
           14,
           69,
           83
          ],
          [
           5,
           51,
           56
          ],
          [
           12,
           67,
           79
          ],
          [
           9,
           61,
           70
          ],
          [
           4,
           10,
           14
          ],
          [
           4,
           29,
           33
          ],
          [
           2,
           7,
           9
          ],
          [
           0,
           20,
           20
          ],
          [
           0,
           13,
           13
          ],
          [
           1,
           6,
           7
          ],
          [
           3,
           13,
           16
          ],
          [
           1,
           11,
           12
          ],
          [
           3,
           3,
           6
          ],
          [
           0,
           2,
           2
          ]
         ],
         "geo": "geo",
         "hovertemplate": "<b>%{hovertext}</b><br><br>state=%{location}<br>bodycam_on=%{customdata[0]}<br>bodycam_off=%{customdata[1]}<br>total=%{customdata[2]}<br>% Bodycam Use=%{z}<extra></extra>",
         "hovertext": [
          "WA",
          "OR",
          "KS",
          "CA",
          "CO",
          "OK",
          "AZ",
          "IA",
          "PA",
          "TX",
          "OH",
          "LA",
          "UT",
          "AR",
          "IL",
          "NV",
          "NM",
          "VA",
          "NJ",
          "IN",
          "MN",
          "KY",
          "MA",
          "MO",
          "NH",
          "ID",
          "MD",
          "NE",
          "MI",
          "MT",
          "GA",
          "FL",
          "TN",
          "NC",
          "AK",
          "NY",
          "ME",
          "AL",
          "MS",
          "WI",
          "SC",
          "DC",
          "WV",
          "DE",
          "HI",
          "WY",
          "ND",
          "CT",
          "SD",
          "VT",
          "RI"
         ],
         "locationmode": "USA-states",
         "locations": [
          "WA",
          "OR",
          "KS",
          "CA",
          "CO",
          "OK",
          "AZ",
          "IA",
          "PA",
          "TX",
          "OH",
          "LA",
          "UT",
          "AR",
          "IL",
          "NV",
          "NM",
          "VA",
          "NJ",
          "IN",
          "MN",
          "KY",
          "MA",
          "MO",
          "NH",
          "ID",
          "MD",
          "NE",
          "MI",
          "MT",
          "GA",
          "FL",
          "TN",
          "NC",
          "AK",
          "NY",
          "ME",
          "AL",
          "MS",
          "WI",
          "SC",
          "DC",
          "WV",
          "DE",
          "HI",
          "WY",
          "ND",
          "CT",
          "SD",
          "VT",
          "RI"
         ],
         "marker": {
          "line": {
           "color": "black",
           "width": 1.5
          }
         },
         "name": "",
         "type": "choropleth",
         "z": [
          0.11570247933884298,
          0.08695652173913043,
          0.10638297872340426,
          0.17319277108433734,
          0.11728395061728394,
          0.15328467153284672,
          0.145,
          0.20689655172413793,
          0.02247191011235955,
          0.10301507537688442,
          0.07407407407407407,
          0.14130434782608695,
          0.3103448275862069,
          0.07142857142857142,
          0.11702127659574468,
          0.345679012345679,
          0.17647058823529413,
          0.14285714285714285,
          0.09090909090909091,
          0.15730337078651685,
          0.35714285714285715,
          0.07792207792207792,
          0.03571428571428571,
          0.018018018018018018,
          0.09090909090909091,
          0.20588235294117646,
          0.24285714285714285,
          0.13043478260869565,
          0.1232876712328767,
          0.125,
          0.09933774834437085,
          0.07120743034055728,
          0.09243697478991597,
          0.14074074074074075,
          0.07142857142857142,
          0.16279069767441862,
          0,
          0.1686746987951807,
          0.08928571428571429,
          0.1518987341772152,
          0.12857142857142856,
          0.2857142857142857,
          0.12121212121212122,
          0.2222222222222222,
          0,
          0,
          0.14285714285714285,
          0.1875,
          0.08333333333333333,
          0.5,
          0
         ]
        }
       ],
       "layout": {
        "coloraxis": {
         "colorbar": {
          "title": {
           "text": "% Bodycam Use"
          }
         },
         "colorscale": [
          [
           0,
           "#0d0887"
          ],
          [
           0.1111111111111111,
           "#46039f"
          ],
          [
           0.2222222222222222,
           "#7201a8"
          ],
          [
           0.3333333333333333,
           "#9c179e"
          ],
          [
           0.4444444444444444,
           "#bd3786"
          ],
          [
           0.5555555555555556,
           "#d8576b"
          ],
          [
           0.6666666666666666,
           "#ed7953"
          ],
          [
           0.7777777777777778,
           "#fb9f3a"
          ],
          [
           0.8888888888888888,
           "#fdca26"
          ],
          [
           1,
           "#f0f921"
          ]
         ]
        },
        "geo": {
         "center": {},
         "domain": {
          "x": [
           0,
           1
          ],
          "y": [
           0,
           1
          ]
         },
         "scope": "usa"
        },
        "legend": {
         "tracegroupgap": 0
        },
        "template": {
         "data": {
          "bar": [
           {
            "error_x": {
             "color": "#2a3f5f"
            },
            "error_y": {
             "color": "#2a3f5f"
            },
            "marker": {
             "line": {
              "color": "#E5ECF6",
              "width": 0.5
             }
            },
            "type": "bar"
           }
          ],
          "barpolar": [
           {
            "marker": {
             "line": {
              "color": "#E5ECF6",
              "width": 0.5
             }
            },
            "type": "barpolar"
           }
          ],
          "carpet": [
           {
            "aaxis": {
             "endlinecolor": "#2a3f5f",
             "gridcolor": "white",
             "linecolor": "white",
             "minorgridcolor": "white",
             "startlinecolor": "#2a3f5f"
            },
            "baxis": {
             "endlinecolor": "#2a3f5f",
             "gridcolor": "white",
             "linecolor": "white",
             "minorgridcolor": "white",
             "startlinecolor": "#2a3f5f"
            },
            "type": "carpet"
           }
          ],
          "choropleth": [
           {
            "colorbar": {
             "outlinewidth": 0,
             "ticks": ""
            },
            "type": "choropleth"
           }
          ],
          "contour": [
           {
            "colorbar": {
             "outlinewidth": 0,
             "ticks": ""
            },
            "colorscale": [
             [
              0,
              "#0d0887"
             ],
             [
              0.1111111111111111,
              "#46039f"
             ],
             [
              0.2222222222222222,
              "#7201a8"
             ],
             [
              0.3333333333333333,
              "#9c179e"
             ],
             [
              0.4444444444444444,
              "#bd3786"
             ],
             [
              0.5555555555555556,
              "#d8576b"
             ],
             [
              0.6666666666666666,
              "#ed7953"
             ],
             [
              0.7777777777777778,
              "#fb9f3a"
             ],
             [
              0.8888888888888888,
              "#fdca26"
             ],
             [
              1,
              "#f0f921"
             ]
            ],
            "type": "contour"
           }
          ],
          "contourcarpet": [
           {
            "colorbar": {
             "outlinewidth": 0,
             "ticks": ""
            },
            "type": "contourcarpet"
           }
          ],
          "heatmap": [
           {
            "colorbar": {
             "outlinewidth": 0,
             "ticks": ""
            },
            "colorscale": [
             [
              0,
              "#0d0887"
             ],
             [
              0.1111111111111111,
              "#46039f"
             ],
             [
              0.2222222222222222,
              "#7201a8"
             ],
             [
              0.3333333333333333,
              "#9c179e"
             ],
             [
              0.4444444444444444,
              "#bd3786"
             ],
             [
              0.5555555555555556,
              "#d8576b"
             ],
             [
              0.6666666666666666,
              "#ed7953"
             ],
             [
              0.7777777777777778,
              "#fb9f3a"
             ],
             [
              0.8888888888888888,
              "#fdca26"
             ],
             [
              1,
              "#f0f921"
             ]
            ],
            "type": "heatmap"
           }
          ],
          "heatmapgl": [
           {
            "colorbar": {
             "outlinewidth": 0,
             "ticks": ""
            },
            "colorscale": [
             [
              0,
              "#0d0887"
             ],
             [
              0.1111111111111111,
              "#46039f"
             ],
             [
              0.2222222222222222,
              "#7201a8"
             ],
             [
              0.3333333333333333,
              "#9c179e"
             ],
             [
              0.4444444444444444,
              "#bd3786"
             ],
             [
              0.5555555555555556,
              "#d8576b"
             ],
             [
              0.6666666666666666,
              "#ed7953"
             ],
             [
              0.7777777777777778,
              "#fb9f3a"
             ],
             [
              0.8888888888888888,
              "#fdca26"
             ],
             [
              1,
              "#f0f921"
             ]
            ],
            "type": "heatmapgl"
           }
          ],
          "histogram": [
           {
            "marker": {
             "colorbar": {
              "outlinewidth": 0,
              "ticks": ""
             }
            },
            "type": "histogram"
           }
          ],
          "histogram2d": [
           {
            "colorbar": {
             "outlinewidth": 0,
             "ticks": ""
            },
            "colorscale": [
             [
              0,
              "#0d0887"
             ],
             [
              0.1111111111111111,
              "#46039f"
             ],
             [
              0.2222222222222222,
              "#7201a8"
             ],
             [
              0.3333333333333333,
              "#9c179e"
             ],
             [
              0.4444444444444444,
              "#bd3786"
             ],
             [
              0.5555555555555556,
              "#d8576b"
             ],
             [
              0.6666666666666666,
              "#ed7953"
             ],
             [
              0.7777777777777778,
              "#fb9f3a"
             ],
             [
              0.8888888888888888,
              "#fdca26"
             ],
             [
              1,
              "#f0f921"
             ]
            ],
            "type": "histogram2d"
           }
          ],
          "histogram2dcontour": [
           {
            "colorbar": {
             "outlinewidth": 0,
             "ticks": ""
            },
            "colorscale": [
             [
              0,
              "#0d0887"
             ],
             [
              0.1111111111111111,
              "#46039f"
             ],
             [
              0.2222222222222222,
              "#7201a8"
             ],
             [
              0.3333333333333333,
              "#9c179e"
             ],
             [
              0.4444444444444444,
              "#bd3786"
             ],
             [
              0.5555555555555556,
              "#d8576b"
             ],
             [
              0.6666666666666666,
              "#ed7953"
             ],
             [
              0.7777777777777778,
              "#fb9f3a"
             ],
             [
              0.8888888888888888,
              "#fdca26"
             ],
             [
              1,
              "#f0f921"
             ]
            ],
            "type": "histogram2dcontour"
           }
          ],
          "mesh3d": [
           {
            "colorbar": {
             "outlinewidth": 0,
             "ticks": ""
            },
            "type": "mesh3d"
           }
          ],
          "parcoords": [
           {
            "line": {
             "colorbar": {
              "outlinewidth": 0,
              "ticks": ""
             }
            },
            "type": "parcoords"
           }
          ],
          "pie": [
           {
            "automargin": true,
            "type": "pie"
           }
          ],
          "scatter": [
           {
            "marker": {
             "colorbar": {
              "outlinewidth": 0,
              "ticks": ""
             }
            },
            "type": "scatter"
           }
          ],
          "scatter3d": [
           {
            "line": {
             "colorbar": {
              "outlinewidth": 0,
              "ticks": ""
             }
            },
            "marker": {
             "colorbar": {
              "outlinewidth": 0,
              "ticks": ""
             }
            },
            "type": "scatter3d"
           }
          ],
          "scattercarpet": [
           {
            "marker": {
             "colorbar": {
              "outlinewidth": 0,
              "ticks": ""
             }
            },
            "type": "scattercarpet"
           }
          ],
          "scattergeo": [
           {
            "marker": {
             "colorbar": {
              "outlinewidth": 0,
              "ticks": ""
             }
            },
            "type": "scattergeo"
           }
          ],
          "scattergl": [
           {
            "marker": {
             "colorbar": {
              "outlinewidth": 0,
              "ticks": ""
             }
            },
            "type": "scattergl"
           }
          ],
          "scattermapbox": [
           {
            "marker": {
             "colorbar": {
              "outlinewidth": 0,
              "ticks": ""
             }
            },
            "type": "scattermapbox"
           }
          ],
          "scatterpolar": [
           {
            "marker": {
             "colorbar": {
              "outlinewidth": 0,
              "ticks": ""
             }
            },
            "type": "scatterpolar"
           }
          ],
          "scatterpolargl": [
           {
            "marker": {
             "colorbar": {
              "outlinewidth": 0,
              "ticks": ""
             }
            },
            "type": "scatterpolargl"
           }
          ],
          "scatterternary": [
           {
            "marker": {
             "colorbar": {
              "outlinewidth": 0,
              "ticks": ""
             }
            },
            "type": "scatterternary"
           }
          ],
          "surface": [
           {
            "colorbar": {
             "outlinewidth": 0,
             "ticks": ""
            },
            "colorscale": [
             [
              0,
              "#0d0887"
             ],
             [
              0.1111111111111111,
              "#46039f"
             ],
             [
              0.2222222222222222,
              "#7201a8"
             ],
             [
              0.3333333333333333,
              "#9c179e"
             ],
             [
              0.4444444444444444,
              "#bd3786"
             ],
             [
              0.5555555555555556,
              "#d8576b"
             ],
             [
              0.6666666666666666,
              "#ed7953"
             ],
             [
              0.7777777777777778,
              "#fb9f3a"
             ],
             [
              0.8888888888888888,
              "#fdca26"
             ],
             [
              1,
              "#f0f921"
             ]
            ],
            "type": "surface"
           }
          ],
          "table": [
           {
            "cells": {
             "fill": {
              "color": "#EBF0F8"
             },
             "line": {
              "color": "white"
             }
            },
            "header": {
             "fill": {
              "color": "#C8D4E3"
             },
             "line": {
              "color": "white"
             }
            },
            "type": "table"
           }
          ]
         },
         "layout": {
          "annotationdefaults": {
           "arrowcolor": "#2a3f5f",
           "arrowhead": 0,
           "arrowwidth": 1
          },
          "coloraxis": {
           "colorbar": {
            "outlinewidth": 0,
            "ticks": ""
           }
          },
          "colorscale": {
           "diverging": [
            [
             0,
             "#8e0152"
            ],
            [
             0.1,
             "#c51b7d"
            ],
            [
             0.2,
             "#de77ae"
            ],
            [
             0.3,
             "#f1b6da"
            ],
            [
             0.4,
             "#fde0ef"
            ],
            [
             0.5,
             "#f7f7f7"
            ],
            [
             0.6,
             "#e6f5d0"
            ],
            [
             0.7,
             "#b8e186"
            ],
            [
             0.8,
             "#7fbc41"
            ],
            [
             0.9,
             "#4d9221"
            ],
            [
             1,
             "#276419"
            ]
           ],
           "sequential": [
            [
             0,
             "#0d0887"
            ],
            [
             0.1111111111111111,
             "#46039f"
            ],
            [
             0.2222222222222222,
             "#7201a8"
            ],
            [
             0.3333333333333333,
             "#9c179e"
            ],
            [
             0.4444444444444444,
             "#bd3786"
            ],
            [
             0.5555555555555556,
             "#d8576b"
            ],
            [
             0.6666666666666666,
             "#ed7953"
            ],
            [
             0.7777777777777778,
             "#fb9f3a"
            ],
            [
             0.8888888888888888,
             "#fdca26"
            ],
            [
             1,
             "#f0f921"
            ]
           ],
           "sequentialminus": [
            [
             0,
             "#0d0887"
            ],
            [
             0.1111111111111111,
             "#46039f"
            ],
            [
             0.2222222222222222,
             "#7201a8"
            ],
            [
             0.3333333333333333,
             "#9c179e"
            ],
            [
             0.4444444444444444,
             "#bd3786"
            ],
            [
             0.5555555555555556,
             "#d8576b"
            ],
            [
             0.6666666666666666,
             "#ed7953"
            ],
            [
             0.7777777777777778,
             "#fb9f3a"
            ],
            [
             0.8888888888888888,
             "#fdca26"
            ],
            [
             1,
             "#f0f921"
            ]
           ]
          },
          "colorway": [
           "#636efa",
           "#EF553B",
           "#00cc96",
           "#ab63fa",
           "#FFA15A",
           "#19d3f3",
           "#FF6692",
           "#B6E880",
           "#FF97FF",
           "#FECB52"
          ],
          "font": {
           "color": "#2a3f5f"
          },
          "geo": {
           "bgcolor": "white",
           "lakecolor": "white",
           "landcolor": "#E5ECF6",
           "showlakes": true,
           "showland": true,
           "subunitcolor": "white"
          },
          "hoverlabel": {
           "align": "left"
          },
          "hovermode": "closest",
          "mapbox": {
           "style": "light"
          },
          "paper_bgcolor": "white",
          "plot_bgcolor": "#E5ECF6",
          "polar": {
           "angularaxis": {
            "gridcolor": "white",
            "linecolor": "white",
            "ticks": ""
           },
           "bgcolor": "#E5ECF6",
           "radialaxis": {
            "gridcolor": "white",
            "linecolor": "white",
            "ticks": ""
           }
          },
          "scene": {
           "xaxis": {
            "backgroundcolor": "#E5ECF6",
            "gridcolor": "white",
            "gridwidth": 2,
            "linecolor": "white",
            "showbackground": true,
            "ticks": "",
            "zerolinecolor": "white"
           },
           "yaxis": {
            "backgroundcolor": "#E5ECF6",
            "gridcolor": "white",
            "gridwidth": 2,
            "linecolor": "white",
            "showbackground": true,
            "ticks": "",
            "zerolinecolor": "white"
           },
           "zaxis": {
            "backgroundcolor": "#E5ECF6",
            "gridcolor": "white",
            "gridwidth": 2,
            "linecolor": "white",
            "showbackground": true,
            "ticks": "",
            "zerolinecolor": "white"
           }
          },
          "shapedefaults": {
           "line": {
            "color": "#2a3f5f"
           }
          },
          "ternary": {
           "aaxis": {
            "gridcolor": "white",
            "linecolor": "white",
            "ticks": ""
           },
           "baxis": {
            "gridcolor": "white",
            "linecolor": "white",
            "ticks": ""
           },
           "bgcolor": "#E5ECF6",
           "caxis": {
            "gridcolor": "white",
            "linecolor": "white",
            "ticks": ""
           }
          },
          "title": {
           "x": 0.05
          },
          "xaxis": {
           "automargin": true,
           "gridcolor": "white",
           "linecolor": "white",
           "ticks": "",
           "title": {
            "standoff": 15
           },
           "zerolinecolor": "white",
           "zerolinewidth": 2
          },
          "yaxis": {
           "automargin": true,
           "gridcolor": "white",
           "linecolor": "white",
           "ticks": "",
           "title": {
            "standoff": 15
           },
           "zerolinecolor": "white",
           "zerolinewidth": 2
          }
         }
        },
        "title": {
         "text": "Percent Bodycamera Usage by US Police Departments in Fatal Shootings, by State"
        }
       }
      },
      "text/html": [
       "<div>                            <div id=\"f96630a3-115c-487b-9700-4ff2463a4e34\" class=\"plotly-graph-div\" style=\"height:525px; width:100%;\"></div>            <script type=\"text/javascript\">                require([\"plotly\"], function(Plotly) {                    window.PLOTLYENV=window.PLOTLYENV || {};                                    if (document.getElementById(\"f96630a3-115c-487b-9700-4ff2463a4e34\")) {                    Plotly.newPlot(                        \"f96630a3-115c-487b-9700-4ff2463a4e34\",                        [{\"coloraxis\": \"coloraxis\", \"customdata\": [[14, 107, 121], [6, 63, 69], [5, 42, 47], [115, 549, 664], [19, 143, 162], [21, 116, 137], [29, 171, 200], [6, 23, 29], [2, 87, 89], [41, 357, 398], [10, 125, 135], [13, 79, 92], [18, 40, 58], [4, 52, 56], [11, 83, 94], [28, 53, 81], [15, 70, 85], [12, 72, 84], [5, 50, 55], [14, 75, 89], [20, 36, 56], [6, 71, 77], [1, 27, 28], [2, 109, 111], [1, 10, 11], [7, 27, 34], [17, 53, 70], [3, 20, 23], [9, 64, 73], [3, 21, 24], [15, 136, 151], [23, 300, 323], [11, 108, 119], [19, 116, 135], [2, 26, 28], [14, 72, 86], [0, 16, 16], [14, 69, 83], [5, 51, 56], [12, 67, 79], [9, 61, 70], [4, 10, 14], [4, 29, 33], [2, 7, 9], [0, 20, 20], [0, 13, 13], [1, 6, 7], [3, 13, 16], [1, 11, 12], [3, 3, 6], [0, 2, 2]], \"geo\": \"geo\", \"hovertemplate\": \"<b>%{hovertext}</b><br><br>state=%{location}<br>bodycam_on=%{customdata[0]}<br>bodycam_off=%{customdata[1]}<br>total=%{customdata[2]}<br>% Bodycam Use=%{z}<extra></extra>\", \"hovertext\": [\"WA\", \"OR\", \"KS\", \"CA\", \"CO\", \"OK\", \"AZ\", \"IA\", \"PA\", \"TX\", \"OH\", \"LA\", \"UT\", \"AR\", \"IL\", \"NV\", \"NM\", \"VA\", \"NJ\", \"IN\", \"MN\", \"KY\", \"MA\", \"MO\", \"NH\", \"ID\", \"MD\", \"NE\", \"MI\", \"MT\", \"GA\", \"FL\", \"TN\", \"NC\", \"AK\", \"NY\", \"ME\", \"AL\", \"MS\", \"WI\", \"SC\", \"DC\", \"WV\", \"DE\", \"HI\", \"WY\", \"ND\", \"CT\", \"SD\", \"VT\", \"RI\"], \"locationmode\": \"USA-states\", \"locations\": [\"WA\", \"OR\", \"KS\", \"CA\", \"CO\", \"OK\", \"AZ\", \"IA\", \"PA\", \"TX\", \"OH\", \"LA\", \"UT\", \"AR\", \"IL\", \"NV\", \"NM\", \"VA\", \"NJ\", \"IN\", \"MN\", \"KY\", \"MA\", \"MO\", \"NH\", \"ID\", \"MD\", \"NE\", \"MI\", \"MT\", \"GA\", \"FL\", \"TN\", \"NC\", \"AK\", \"NY\", \"ME\", \"AL\", \"MS\", \"WI\", \"SC\", \"DC\", \"WV\", \"DE\", \"HI\", \"WY\", \"ND\", \"CT\", \"SD\", \"VT\", \"RI\"], \"marker\": {\"line\": {\"color\": \"black\", \"width\": 1.5}}, \"name\": \"\", \"type\": \"choropleth\", \"z\": [0.11570247933884298, 0.08695652173913043, 0.10638297872340426, 0.17319277108433734, 0.11728395061728394, 0.15328467153284672, 0.145, 0.20689655172413793, 0.02247191011235955, 0.10301507537688442, 0.07407407407407407, 0.14130434782608695, 0.3103448275862069, 0.07142857142857142, 0.11702127659574468, 0.345679012345679, 0.17647058823529413, 0.14285714285714285, 0.09090909090909091, 0.15730337078651685, 0.35714285714285715, 0.07792207792207792, 0.03571428571428571, 0.018018018018018018, 0.09090909090909091, 0.20588235294117646, 0.24285714285714285, 0.13043478260869565, 0.1232876712328767, 0.125, 0.09933774834437085, 0.07120743034055728, 0.09243697478991597, 0.14074074074074075, 0.07142857142857142, 0.16279069767441862, 0.0, 0.1686746987951807, 0.08928571428571429, 0.1518987341772152, 0.12857142857142856, 0.2857142857142857, 0.12121212121212122, 0.2222222222222222, 0.0, 0.0, 0.14285714285714285, 0.1875, 0.08333333333333333, 0.5, 0.0]}],                        {\"coloraxis\": {\"colorbar\": {\"title\": {\"text\": \"% Bodycam Use\"}}, \"colorscale\": [[0.0, \"#0d0887\"], [0.1111111111111111, \"#46039f\"], [0.2222222222222222, \"#7201a8\"], [0.3333333333333333, \"#9c179e\"], [0.4444444444444444, \"#bd3786\"], [0.5555555555555556, \"#d8576b\"], [0.6666666666666666, \"#ed7953\"], [0.7777777777777778, \"#fb9f3a\"], [0.8888888888888888, \"#fdca26\"], [1.0, \"#f0f921\"]]}, \"geo\": {\"center\": {}, \"domain\": {\"x\": [0.0, 1.0], \"y\": [0.0, 1.0]}, \"scope\": \"usa\"}, \"legend\": {\"tracegroupgap\": 0}, \"template\": {\"data\": {\"bar\": [{\"error_x\": {\"color\": \"#2a3f5f\"}, \"error_y\": {\"color\": \"#2a3f5f\"}, \"marker\": {\"line\": {\"color\": \"#E5ECF6\", \"width\": 0.5}}, \"type\": \"bar\"}], \"barpolar\": [{\"marker\": {\"line\": {\"color\": \"#E5ECF6\", \"width\": 0.5}}, \"type\": \"barpolar\"}], \"carpet\": [{\"aaxis\": {\"endlinecolor\": \"#2a3f5f\", \"gridcolor\": \"white\", \"linecolor\": \"white\", \"minorgridcolor\": \"white\", \"startlinecolor\": \"#2a3f5f\"}, \"baxis\": {\"endlinecolor\": \"#2a3f5f\", \"gridcolor\": \"white\", \"linecolor\": \"white\", \"minorgridcolor\": \"white\", \"startlinecolor\": \"#2a3f5f\"}, \"type\": \"carpet\"}], \"choropleth\": [{\"colorbar\": {\"outlinewidth\": 0, \"ticks\": \"\"}, \"type\": \"choropleth\"}], \"contour\": [{\"colorbar\": {\"outlinewidth\": 0, \"ticks\": \"\"}, \"colorscale\": [[0.0, \"#0d0887\"], [0.1111111111111111, \"#46039f\"], [0.2222222222222222, \"#7201a8\"], [0.3333333333333333, \"#9c179e\"], [0.4444444444444444, \"#bd3786\"], [0.5555555555555556, \"#d8576b\"], [0.6666666666666666, \"#ed7953\"], [0.7777777777777778, \"#fb9f3a\"], [0.8888888888888888, \"#fdca26\"], [1.0, \"#f0f921\"]], \"type\": \"contour\"}], \"contourcarpet\": [{\"colorbar\": {\"outlinewidth\": 0, \"ticks\": \"\"}, \"type\": \"contourcarpet\"}], \"heatmap\": [{\"colorbar\": {\"outlinewidth\": 0, \"ticks\": \"\"}, \"colorscale\": [[0.0, \"#0d0887\"], [0.1111111111111111, \"#46039f\"], [0.2222222222222222, \"#7201a8\"], [0.3333333333333333, \"#9c179e\"], [0.4444444444444444, \"#bd3786\"], [0.5555555555555556, \"#d8576b\"], [0.6666666666666666, \"#ed7953\"], [0.7777777777777778, \"#fb9f3a\"], [0.8888888888888888, \"#fdca26\"], [1.0, \"#f0f921\"]], \"type\": \"heatmap\"}], \"heatmapgl\": [{\"colorbar\": {\"outlinewidth\": 0, \"ticks\": \"\"}, \"colorscale\": [[0.0, \"#0d0887\"], [0.1111111111111111, \"#46039f\"], [0.2222222222222222, \"#7201a8\"], [0.3333333333333333, \"#9c179e\"], [0.4444444444444444, \"#bd3786\"], [0.5555555555555556, \"#d8576b\"], [0.6666666666666666, \"#ed7953\"], [0.7777777777777778, \"#fb9f3a\"], [0.8888888888888888, \"#fdca26\"], [1.0, \"#f0f921\"]], \"type\": \"heatmapgl\"}], \"histogram\": [{\"marker\": {\"colorbar\": {\"outlinewidth\": 0, \"ticks\": \"\"}}, \"type\": \"histogram\"}], \"histogram2d\": [{\"colorbar\": {\"outlinewidth\": 0, \"ticks\": \"\"}, \"colorscale\": [[0.0, \"#0d0887\"], [0.1111111111111111, \"#46039f\"], [0.2222222222222222, \"#7201a8\"], [0.3333333333333333, \"#9c179e\"], [0.4444444444444444, \"#bd3786\"], [0.5555555555555556, \"#d8576b\"], [0.6666666666666666, \"#ed7953\"], [0.7777777777777778, \"#fb9f3a\"], [0.8888888888888888, \"#fdca26\"], [1.0, \"#f0f921\"]], \"type\": \"histogram2d\"}], \"histogram2dcontour\": [{\"colorbar\": {\"outlinewidth\": 0, \"ticks\": \"\"}, \"colorscale\": [[0.0, \"#0d0887\"], [0.1111111111111111, \"#46039f\"], [0.2222222222222222, \"#7201a8\"], [0.3333333333333333, \"#9c179e\"], [0.4444444444444444, \"#bd3786\"], [0.5555555555555556, \"#d8576b\"], [0.6666666666666666, \"#ed7953\"], [0.7777777777777778, \"#fb9f3a\"], [0.8888888888888888, \"#fdca26\"], [1.0, \"#f0f921\"]], \"type\": \"histogram2dcontour\"}], \"mesh3d\": [{\"colorbar\": {\"outlinewidth\": 0, \"ticks\": \"\"}, \"type\": \"mesh3d\"}], \"parcoords\": [{\"line\": {\"colorbar\": {\"outlinewidth\": 0, \"ticks\": \"\"}}, \"type\": \"parcoords\"}], \"pie\": [{\"automargin\": true, \"type\": \"pie\"}], \"scatter\": [{\"marker\": {\"colorbar\": {\"outlinewidth\": 0, \"ticks\": \"\"}}, \"type\": \"scatter\"}], \"scatter3d\": [{\"line\": {\"colorbar\": {\"outlinewidth\": 0, \"ticks\": \"\"}}, \"marker\": {\"colorbar\": {\"outlinewidth\": 0, \"ticks\": \"\"}}, \"type\": \"scatter3d\"}], \"scattercarpet\": [{\"marker\": {\"colorbar\": {\"outlinewidth\": 0, \"ticks\": \"\"}}, \"type\": \"scattercarpet\"}], \"scattergeo\": [{\"marker\": {\"colorbar\": {\"outlinewidth\": 0, \"ticks\": \"\"}}, \"type\": \"scattergeo\"}], \"scattergl\": [{\"marker\": {\"colorbar\": {\"outlinewidth\": 0, \"ticks\": \"\"}}, \"type\": \"scattergl\"}], \"scattermapbox\": [{\"marker\": {\"colorbar\": {\"outlinewidth\": 0, \"ticks\": \"\"}}, \"type\": \"scattermapbox\"}], \"scatterpolar\": [{\"marker\": {\"colorbar\": {\"outlinewidth\": 0, \"ticks\": \"\"}}, \"type\": \"scatterpolar\"}], \"scatterpolargl\": [{\"marker\": {\"colorbar\": {\"outlinewidth\": 0, \"ticks\": \"\"}}, \"type\": \"scatterpolargl\"}], \"scatterternary\": [{\"marker\": {\"colorbar\": {\"outlinewidth\": 0, \"ticks\": \"\"}}, \"type\": \"scatterternary\"}], \"surface\": [{\"colorbar\": {\"outlinewidth\": 0, \"ticks\": \"\"}, \"colorscale\": [[0.0, \"#0d0887\"], [0.1111111111111111, \"#46039f\"], [0.2222222222222222, \"#7201a8\"], [0.3333333333333333, \"#9c179e\"], [0.4444444444444444, \"#bd3786\"], [0.5555555555555556, \"#d8576b\"], [0.6666666666666666, \"#ed7953\"], [0.7777777777777778, \"#fb9f3a\"], [0.8888888888888888, \"#fdca26\"], [1.0, \"#f0f921\"]], \"type\": \"surface\"}], \"table\": [{\"cells\": {\"fill\": {\"color\": \"#EBF0F8\"}, \"line\": {\"color\": \"white\"}}, \"header\": {\"fill\": {\"color\": \"#C8D4E3\"}, \"line\": {\"color\": \"white\"}}, \"type\": \"table\"}]}, \"layout\": {\"annotationdefaults\": {\"arrowcolor\": \"#2a3f5f\", \"arrowhead\": 0, \"arrowwidth\": 1}, \"coloraxis\": {\"colorbar\": {\"outlinewidth\": 0, \"ticks\": \"\"}}, \"colorscale\": {\"diverging\": [[0, \"#8e0152\"], [0.1, \"#c51b7d\"], [0.2, \"#de77ae\"], [0.3, \"#f1b6da\"], [0.4, \"#fde0ef\"], [0.5, \"#f7f7f7\"], [0.6, \"#e6f5d0\"], [0.7, \"#b8e186\"], [0.8, \"#7fbc41\"], [0.9, \"#4d9221\"], [1, \"#276419\"]], \"sequential\": [[0.0, \"#0d0887\"], [0.1111111111111111, \"#46039f\"], [0.2222222222222222, \"#7201a8\"], [0.3333333333333333, \"#9c179e\"], [0.4444444444444444, \"#bd3786\"], [0.5555555555555556, \"#d8576b\"], [0.6666666666666666, \"#ed7953\"], [0.7777777777777778, \"#fb9f3a\"], [0.8888888888888888, \"#fdca26\"], [1.0, \"#f0f921\"]], \"sequentialminus\": [[0.0, \"#0d0887\"], [0.1111111111111111, \"#46039f\"], [0.2222222222222222, \"#7201a8\"], [0.3333333333333333, \"#9c179e\"], [0.4444444444444444, \"#bd3786\"], [0.5555555555555556, \"#d8576b\"], [0.6666666666666666, \"#ed7953\"], [0.7777777777777778, \"#fb9f3a\"], [0.8888888888888888, \"#fdca26\"], [1.0, \"#f0f921\"]]}, \"colorway\": [\"#636efa\", \"#EF553B\", \"#00cc96\", \"#ab63fa\", \"#FFA15A\", \"#19d3f3\", \"#FF6692\", \"#B6E880\", \"#FF97FF\", \"#FECB52\"], \"font\": {\"color\": \"#2a3f5f\"}, \"geo\": {\"bgcolor\": \"white\", \"lakecolor\": \"white\", \"landcolor\": \"#E5ECF6\", \"showlakes\": true, \"showland\": true, \"subunitcolor\": \"white\"}, \"hoverlabel\": {\"align\": \"left\"}, \"hovermode\": \"closest\", \"mapbox\": {\"style\": \"light\"}, \"paper_bgcolor\": \"white\", \"plot_bgcolor\": \"#E5ECF6\", \"polar\": {\"angularaxis\": {\"gridcolor\": \"white\", \"linecolor\": \"white\", \"ticks\": \"\"}, \"bgcolor\": \"#E5ECF6\", \"radialaxis\": {\"gridcolor\": \"white\", \"linecolor\": \"white\", \"ticks\": \"\"}}, \"scene\": {\"xaxis\": {\"backgroundcolor\": \"#E5ECF6\", \"gridcolor\": \"white\", \"gridwidth\": 2, \"linecolor\": \"white\", \"showbackground\": true, \"ticks\": \"\", \"zerolinecolor\": \"white\"}, \"yaxis\": {\"backgroundcolor\": \"#E5ECF6\", \"gridcolor\": \"white\", \"gridwidth\": 2, \"linecolor\": \"white\", \"showbackground\": true, \"ticks\": \"\", \"zerolinecolor\": \"white\"}, \"zaxis\": {\"backgroundcolor\": \"#E5ECF6\", \"gridcolor\": \"white\", \"gridwidth\": 2, \"linecolor\": \"white\", \"showbackground\": true, \"ticks\": \"\", \"zerolinecolor\": \"white\"}}, \"shapedefaults\": {\"line\": {\"color\": \"#2a3f5f\"}}, \"ternary\": {\"aaxis\": {\"gridcolor\": \"white\", \"linecolor\": \"white\", \"ticks\": \"\"}, \"baxis\": {\"gridcolor\": \"white\", \"linecolor\": \"white\", \"ticks\": \"\"}, \"bgcolor\": \"#E5ECF6\", \"caxis\": {\"gridcolor\": \"white\", \"linecolor\": \"white\", \"ticks\": \"\"}}, \"title\": {\"x\": 0.05}, \"xaxis\": {\"automargin\": true, \"gridcolor\": \"white\", \"linecolor\": \"white\", \"ticks\": \"\", \"title\": {\"standoff\": 15}, \"zerolinecolor\": \"white\", \"zerolinewidth\": 2}, \"yaxis\": {\"automargin\": true, \"gridcolor\": \"white\", \"linecolor\": \"white\", \"ticks\": \"\", \"title\": {\"standoff\": 15}, \"zerolinecolor\": \"white\", \"zerolinewidth\": 2}}}, \"title\": {\"text\": \"Percent Bodycamera Usage by US Police Departments in Fatal Shootings, by State\"}},                        {\"responsive\": true}                    ).then(function(){\n",
       "                            \n",
       "var gd = document.getElementById('f96630a3-115c-487b-9700-4ff2463a4e34');\n",
       "var x = new MutationObserver(function (mutations, observer) {{\n",
       "        var display = window.getComputedStyle(gd).display;\n",
       "        if (!display || display === 'none') {{\n",
       "            console.log([gd, 'removed!']);\n",
       "            Plotly.purge(gd);\n",
       "            observer.disconnect();\n",
       "        }}\n",
       "}});\n",
       "\n",
       "// Listen for the removal of the full notebook cells\n",
       "var notebookContainer = gd.closest('#notebook-container');\n",
       "if (notebookContainer) {{\n",
       "    x.observe(notebookContainer, {childList: true});\n",
       "}}\n",
       "\n",
       "// Listen for the clearing of the current output cell\n",
       "var outputEl = gd.closest('.output');\n",
       "if (outputEl) {{\n",
       "    x.observe(outputEl, {childList: true});\n",
       "}}\n",
       "\n",
       "                        })                };                });            </script>        </div>"
      ]
     },
     "metadata": {},
     "output_type": "display_data"
    }
   ],
   "source": [
    "from plotly import express as px\n",
    "\n",
    "heat = px.choropleth(heatmap_df, locations='state', locationmode='USA-states', color='percent_cam_use', scope='usa',\n",
    "                    hover_name='state', hover_data=['bodycam_on', 'bodycam_off', 'total'],\n",
    "                    title='Percent Bodycamera Usage by US Police Departments in Fatal Shootings, by State',\n",
    "                    labels=dict(percent_cam_use='% Bodycam Use'))\n",
    "heat.update_traces(marker_line_width=1.5, marker_line_color='black')\n",
    "heat.show()"
   ]
  },
  {
   "cell_type": "markdown",
   "metadata": {
    "id": "6Q4BNvI-dRb3"
   },
   "source": [
    "<img src='https://raw.githubusercontent.com/jsteinberg4/cops-and-cams/main/visualizations/choropleth.png'>\n",
    "\n",
    "<p style='text-indent: 2em'>This choropleth shows the percentage of shooting incidences in each state where a body camera was used. As of <b>12/10/2020</b>, the majority of the country is a colored purple, indicating around $20\\%$ lower. Even the best performing state, Vermont, only shows a $50\\%$ usage rate. Even this is likely not representative of the state as a whole, considering the it is based on a sample size of only $6$. "
   ]
  },
  {
   "cell_type": "markdown",
   "metadata": {
    "id": "dZe8z-X6dRb4"
   },
   "source": [
    "<h4>Pie Charts & Bar Graph</h4>\n",
    "<li>\n",
    "    We visualize the features describing personal characteristics using pie charts or bar graphs. These characteristic traits are age, gender, and race. For each feature, we create an appropriate graph describing the breakdown for instances where a body camera was used versus those where a camera was not.\n",
    "</li>"
   ]
  },
  {
   "cell_type": "markdown",
   "metadata": {
    "id": "k149Ai_IdRb4"
   },
   "source": [
    "<h5>Age Breakdown</h5>"
   ]
  },
  {
   "cell_type": "code",
   "execution_count": 102,
   "metadata": {
    "id": "PcevFVnAdRb4"
   },
   "outputs": [],
   "source": [
    "def partition_cams(df_train, y_train, df_test, y_test):\n",
    "    \"\"\"Incorporates train and test dataframes into two new dataframes which\n",
    "        separate positive and negative classes, while maintaining age bins.\n",
    "    \"\"\"\n",
    "    cams_on = pd.DataFrame(columns=df_train.columns)\n",
    "    cams_off = pd.DataFrame(columns=df_train.columns)\n",
    "    \n",
    "    # Split training set\n",
    "    for sample, label in zip(df_train.values, y_train):\n",
    "        row = pd.Series(sample, index=df_train.columns)\n",
    "        if label:\n",
    "            cams_on = cams_on.append(row, ignore_index=True)\n",
    "        else:\n",
    "            cams_off = cams_off.append(row, ignore_index=True)\n",
    "    \n",
    "    # Split testing set\n",
    "    for sample, label in zip(df_test.values, y_test):\n",
    "        row = pd.Series(sample, index=df_train.columns)\n",
    "        if label:\n",
    "            cams_on = cams_on.append(row, ignore_index=True)\n",
    "        else:\n",
    "            cams_off = cams_off.append(row, ignore_index=True)\n",
    "    return cams_on, cams_off"
   ]
  },
  {
   "cell_type": "code",
   "execution_count": 103,
   "metadata": {
    "id": "oV-N1UuWdRb4"
   },
   "outputs": [],
   "source": [
    "# Here we use both X_train_selected and X_test_selected to be representative of the whole dataset\n",
    "# (and maintain discretization)\n",
    "cams_on, cams_off = partition_cams(X_train_selected, y_train, X_test_selected, y_test)\n",
    "cams_on.drop(['date', 'longitude', 'latitude'], axis=1, inplace=True) # Not needed for age charting\n",
    "cams_off.drop(['date', 'longitude', 'latitude'], axis=1, inplace=True) # Not needed for age charting\n",
    "\n",
    "# Relabel the age bins for readability in graphs\n",
    "cams_on_counts = {col.replace('age_', '').replace(',', ' to'): \n",
    "                  cams_on[col].value_counts().get(1, 0) for col in cams_on}\n",
    "cams_off_counts = {col.replace('age_', '').replace(',', ' to'): \n",
    "                   cams_off[col].value_counts().get(1, 0) for col in cams_off}"
   ]
  },
  {
   "cell_type": "code",
   "execution_count": 104,
   "metadata": {
    "colab": {
     "base_uri": "https://localhost:8080/"
    },
    "id": "0QKx_8hjdRb4",
    "outputId": "f625af44-e691-47ee-8a46-2042443a0c14"
   },
   "outputs": [
    {
     "data": {
      "application/vnd.plotly.v1+json": {
       "config": {
        "plotlyServerURL": "https://plot.ly"
       },
       "data": [
        {
         "domain": {
          "x": [
           0,
           1
          ],
          "y": [
           0,
           1
          ]
         },
         "hovertemplate": "label=%{label}<br>value=%{value}<extra></extra>",
         "labels": [
          "6.0 to 16.25",
          "16.25 to 26.5",
          "26.5 to 36.75",
          "36.75 to 47.0",
          "47.0 to 57.25",
          "57.25 to 67.5",
          "67.5 to 77.75",
          "77.75 to 88.0"
         ],
         "legendgroup": "",
         "marker": {
          "line": {
           "color": "black",
           "width": 1.5
          }
         },
         "name": "",
         "opacity": 0.75,
         "showlegend": true,
         "type": "pie",
         "values": [
          12,
          153,
          206,
          110,
          79,
          31,
          5,
          3
         ]
        }
       ],
       "layout": {
        "legend": {
         "tracegroupgap": 0
        },
        "template": {
         "data": {
          "pie": [
           {
            "automargin": true,
            "type": "pie"
           }
          ],
          "scatter": [
           {
            "line": {
             "width": 3
            },
            "marker": {
             "size": 9
            },
            "type": "scatter"
           }
          ],
          "scatter3d": [
           {
            "line": {
             "width": 3
            },
            "marker": {
             "size": 9
            },
            "type": "scatter3d"
           }
          ],
          "scattergeo": [
           {
            "line": {
             "width": 3
            },
            "marker": {
             "size": 9
            },
            "type": "scattergeo"
           }
          ],
          "scattergl": [
           {
            "line": {
             "width": 3
            },
            "marker": {
             "size": 9
            },
            "type": "scattergl"
           }
          ],
          "scatterpolar": [
           {
            "line": {
             "width": 3
            },
            "marker": {
             "size": 9
            },
            "type": "scatterpolar"
           }
          ],
          "scatterpolargl": [
           {
            "line": {
             "width": 3
            },
            "marker": {
             "size": 9
            },
            "type": "scatterpolargl"
           }
          ],
          "scatterternary": [
           {
            "line": {
             "width": 3
            },
            "marker": {
             "size": 9
            },
            "type": "scatterternary"
           }
          ],
          "table": [
           {
            "cells": {
             "height": 30
            },
            "header": {
             "height": 36
            },
            "type": "table"
           }
          ]
         },
         "layout": {
          "font": {
           "size": 18
          },
          "xaxis": {
           "title": {
            "standoff": 15
           }
          },
          "yaxis": {
           "title": {
            "standoff": 15
           }
          }
         }
        },
        "title": {
         "text": "Age Breakdown: Bodycameras On"
        },
        "width": 800
       }
      },
      "text/html": [
       "<div>                            <div id=\"11be8462-b6a0-4aca-9703-afec55f9e548\" class=\"plotly-graph-div\" style=\"height:525px; width:800px;\"></div>            <script type=\"text/javascript\">                require([\"plotly\"], function(Plotly) {                    window.PLOTLYENV=window.PLOTLYENV || {};                                    if (document.getElementById(\"11be8462-b6a0-4aca-9703-afec55f9e548\")) {                    Plotly.newPlot(                        \"11be8462-b6a0-4aca-9703-afec55f9e548\",                        [{\"domain\": {\"x\": [0.0, 1.0], \"y\": [0.0, 1.0]}, \"hovertemplate\": \"label=%{label}<br>value=%{value}<extra></extra>\", \"labels\": [\"6.0 to 16.25\", \"16.25 to 26.5\", \"26.5 to 36.75\", \"36.75 to 47.0\", \"47.0 to 57.25\", \"57.25 to 67.5\", \"67.5 to 77.75\", \"77.75 to 88.0\"], \"legendgroup\": \"\", \"marker\": {\"line\": {\"color\": \"black\", \"width\": 1.5}}, \"name\": \"\", \"opacity\": 0.75, \"showlegend\": true, \"type\": \"pie\", \"values\": [12, 153, 206, 110, 79, 31, 5, 3]}],                        {\"legend\": {\"tracegroupgap\": 0}, \"template\": {\"data\": {\"pie\": [{\"automargin\": true, \"type\": \"pie\"}], \"scatter\": [{\"line\": {\"width\": 3}, \"marker\": {\"size\": 9}, \"type\": \"scatter\"}], \"scatter3d\": [{\"line\": {\"width\": 3}, \"marker\": {\"size\": 9}, \"type\": \"scatter3d\"}], \"scattergeo\": [{\"line\": {\"width\": 3}, \"marker\": {\"size\": 9}, \"type\": \"scattergeo\"}], \"scattergl\": [{\"line\": {\"width\": 3}, \"marker\": {\"size\": 9}, \"type\": \"scattergl\"}], \"scatterpolar\": [{\"line\": {\"width\": 3}, \"marker\": {\"size\": 9}, \"type\": \"scatterpolar\"}], \"scatterpolargl\": [{\"line\": {\"width\": 3}, \"marker\": {\"size\": 9}, \"type\": \"scatterpolargl\"}], \"scatterternary\": [{\"line\": {\"width\": 3}, \"marker\": {\"size\": 9}, \"type\": \"scatterternary\"}], \"table\": [{\"cells\": {\"height\": 30}, \"header\": {\"height\": 36}, \"type\": \"table\"}]}, \"layout\": {\"font\": {\"size\": 18}, \"xaxis\": {\"title\": {\"standoff\": 15}}, \"yaxis\": {\"title\": {\"standoff\": 15}}}}, \"title\": {\"text\": \"Age Breakdown: Bodycameras On\"}, \"width\": 800},                        {\"responsive\": true}                    ).then(function(){\n",
       "                            \n",
       "var gd = document.getElementById('11be8462-b6a0-4aca-9703-afec55f9e548');\n",
       "var x = new MutationObserver(function (mutations, observer) {{\n",
       "        var display = window.getComputedStyle(gd).display;\n",
       "        if (!display || display === 'none') {{\n",
       "            console.log([gd, 'removed!']);\n",
       "            Plotly.purge(gd);\n",
       "            observer.disconnect();\n",
       "        }}\n",
       "}});\n",
       "\n",
       "// Listen for the removal of the full notebook cells\n",
       "var notebookContainer = gd.closest('#notebook-container');\n",
       "if (notebookContainer) {{\n",
       "    x.observe(notebookContainer, {childList: true});\n",
       "}}\n",
       "\n",
       "// Listen for the clearing of the current output cell\n",
       "var outputEl = gd.closest('.output');\n",
       "if (outputEl) {{\n",
       "    x.observe(outputEl, {childList: true});\n",
       "}}\n",
       "\n",
       "                        })                };                });            </script>        </div>"
      ]
     },
     "metadata": {},
     "output_type": "display_data"
    },
    {
     "data": {
      "application/vnd.plotly.v1+json": {
       "config": {
        "plotlyServerURL": "https://plot.ly"
       },
       "data": [
        {
         "domain": {
          "x": [
           0,
           1
          ],
          "y": [
           0,
           1
          ]
         },
         "hovertemplate": "label=%{label}<br>value=%{value}<extra></extra>",
         "labels": [
          "6.0 to 16.25",
          "16.25 to 26.5",
          "26.5 to 36.75",
          "36.75 to 47.0",
          "47.0 to 57.25",
          "57.25 to 67.5",
          "67.5 to 77.75",
          "77.75 to 88.0"
         ],
         "legendgroup": "",
         "marker": {
          "line": {
           "color": "black",
           "width": 1.5
          }
         },
         "name": "",
         "opacity": 0.75,
         "showlegend": true,
         "type": "pie",
         "values": [
          5,
          136,
          207,
          134,
          77,
          30,
          7,
          3
         ]
        }
       ],
       "layout": {
        "legend": {
         "tracegroupgap": 0
        },
        "template": {
         "data": {
          "pie": [
           {
            "automargin": true,
            "type": "pie"
           }
          ],
          "scatter": [
           {
            "line": {
             "width": 3
            },
            "marker": {
             "size": 9
            },
            "type": "scatter"
           }
          ],
          "scatter3d": [
           {
            "line": {
             "width": 3
            },
            "marker": {
             "size": 9
            },
            "type": "scatter3d"
           }
          ],
          "scattergeo": [
           {
            "line": {
             "width": 3
            },
            "marker": {
             "size": 9
            },
            "type": "scattergeo"
           }
          ],
          "scattergl": [
           {
            "line": {
             "width": 3
            },
            "marker": {
             "size": 9
            },
            "type": "scattergl"
           }
          ],
          "scatterpolar": [
           {
            "line": {
             "width": 3
            },
            "marker": {
             "size": 9
            },
            "type": "scatterpolar"
           }
          ],
          "scatterpolargl": [
           {
            "line": {
             "width": 3
            },
            "marker": {
             "size": 9
            },
            "type": "scatterpolargl"
           }
          ],
          "scatterternary": [
           {
            "line": {
             "width": 3
            },
            "marker": {
             "size": 9
            },
            "type": "scatterternary"
           }
          ],
          "table": [
           {
            "cells": {
             "height": 30
            },
            "header": {
             "height": 36
            },
            "type": "table"
           }
          ]
         },
         "layout": {
          "font": {
           "size": 18
          },
          "xaxis": {
           "title": {
            "standoff": 15
           }
          },
          "yaxis": {
           "title": {
            "standoff": 15
           }
          }
         }
        },
        "title": {
         "text": "Age Breakdown: Bodycameras Off"
        },
        "width": 800
       }
      },
      "text/html": [
       "<div>                            <div id=\"e6469e1b-d07a-4516-aa93-ea7a69b2e79c\" class=\"plotly-graph-div\" style=\"height:525px; width:800px;\"></div>            <script type=\"text/javascript\">                require([\"plotly\"], function(Plotly) {                    window.PLOTLYENV=window.PLOTLYENV || {};                                    if (document.getElementById(\"e6469e1b-d07a-4516-aa93-ea7a69b2e79c\")) {                    Plotly.newPlot(                        \"e6469e1b-d07a-4516-aa93-ea7a69b2e79c\",                        [{\"domain\": {\"x\": [0.0, 1.0], \"y\": [0.0, 1.0]}, \"hovertemplate\": \"label=%{label}<br>value=%{value}<extra></extra>\", \"labels\": [\"6.0 to 16.25\", \"16.25 to 26.5\", \"26.5 to 36.75\", \"36.75 to 47.0\", \"47.0 to 57.25\", \"57.25 to 67.5\", \"67.5 to 77.75\", \"77.75 to 88.0\"], \"legendgroup\": \"\", \"marker\": {\"line\": {\"color\": \"black\", \"width\": 1.5}}, \"name\": \"\", \"opacity\": 0.75, \"showlegend\": true, \"type\": \"pie\", \"values\": [5, 136, 207, 134, 77, 30, 7, 3]}],                        {\"legend\": {\"tracegroupgap\": 0}, \"template\": {\"data\": {\"pie\": [{\"automargin\": true, \"type\": \"pie\"}], \"scatter\": [{\"line\": {\"width\": 3}, \"marker\": {\"size\": 9}, \"type\": \"scatter\"}], \"scatter3d\": [{\"line\": {\"width\": 3}, \"marker\": {\"size\": 9}, \"type\": \"scatter3d\"}], \"scattergeo\": [{\"line\": {\"width\": 3}, \"marker\": {\"size\": 9}, \"type\": \"scattergeo\"}], \"scattergl\": [{\"line\": {\"width\": 3}, \"marker\": {\"size\": 9}, \"type\": \"scattergl\"}], \"scatterpolar\": [{\"line\": {\"width\": 3}, \"marker\": {\"size\": 9}, \"type\": \"scatterpolar\"}], \"scatterpolargl\": [{\"line\": {\"width\": 3}, \"marker\": {\"size\": 9}, \"type\": \"scatterpolargl\"}], \"scatterternary\": [{\"line\": {\"width\": 3}, \"marker\": {\"size\": 9}, \"type\": \"scatterternary\"}], \"table\": [{\"cells\": {\"height\": 30}, \"header\": {\"height\": 36}, \"type\": \"table\"}]}, \"layout\": {\"font\": {\"size\": 18}, \"xaxis\": {\"title\": {\"standoff\": 15}}, \"yaxis\": {\"title\": {\"standoff\": 15}}}}, \"title\": {\"text\": \"Age Breakdown: Bodycameras Off\"}, \"width\": 800},                        {\"responsive\": true}                    ).then(function(){\n",
       "                            \n",
       "var gd = document.getElementById('e6469e1b-d07a-4516-aa93-ea7a69b2e79c');\n",
       "var x = new MutationObserver(function (mutations, observer) {{\n",
       "        var display = window.getComputedStyle(gd).display;\n",
       "        if (!display || display === 'none') {{\n",
       "            console.log([gd, 'removed!']);\n",
       "            Plotly.purge(gd);\n",
       "            observer.disconnect();\n",
       "        }}\n",
       "}});\n",
       "\n",
       "// Listen for the removal of the full notebook cells\n",
       "var notebookContainer = gd.closest('#notebook-container');\n",
       "if (notebookContainer) {{\n",
       "    x.observe(notebookContainer, {childList: true});\n",
       "}}\n",
       "\n",
       "// Listen for the clearing of the current output cell\n",
       "var outputEl = gd.closest('.output');\n",
       "if (outputEl) {{\n",
       "    x.observe(outputEl, {childList: true});\n",
       "}}\n",
       "\n",
       "                        })                };                });            </script>        </div>"
      ]
     },
     "metadata": {},
     "output_type": "display_data"
    }
   ],
   "source": [
    "# Construct two pie charts\n",
    "age_on_pie = px.pie(values=list(cams_on_counts.values()), names=cams_on_counts.keys(), \n",
    "       title='Age Breakdown: Bodycameras On', template='presentation', width=800)\n",
    "age_on_pie.update_traces(opacity=0.75, marker_line_width=1.5, marker_line_color='black')\n",
    "age_on_pie.show()\n",
    "\n",
    "age_off_pie = px.pie(values=list(cams_off_counts.values()), names=cams_off_counts.keys(), \n",
    "                     title='Age Breakdown: Bodycameras Off', template='presentation', width=800)\n",
    "age_off_pie.update_traces(opacity=0.75, marker_line_width=1.5, marker_line_color='black')\n",
    "age_off_pie.show()"
   ]
  },
  {
   "cell_type": "markdown",
   "metadata": {
    "id": "W6TrWDXHdRb5"
   },
   "source": [
    "<img src='https://raw.githubusercontent.com/jsteinberg4/cops-and-cams/main/visualizations/age_cam_on.png'>\n",
    "<img src='https://raw.githubusercontent.com/jsteinberg4/cops-and-cams/main/visualizations/age_cam_off.png'>\n",
    "<p style='text-indent: 2em'>These pie charts represent the age breakdown for all incidences with and without a body camera, respectively. While not exactly equal, the relative proportions between graphs (i.e. same age groups but different pie chart) appear fairly close. This does not seem to indicate a significant difference in body camera likelihood across age groups, but we will study this further in our hypothesis tests."
   ]
  },
  {
   "cell_type": "markdown",
   "metadata": {
    "id": "7E2e8DBedRb5"
   },
   "source": [
    "<h5>Race Breakdown</h5>"
   ]
  },
  {
   "cell_type": "code",
   "execution_count": 105,
   "metadata": {
    "colab": {
     "base_uri": "https://localhost:8080/"
    },
    "id": "x8zxq_ZAdRb5",
    "outputId": "30d29fcf-d78a-4f10-c6d2-7c2706ae1146"
   },
   "outputs": [
    {
     "data": {
      "application/vnd.plotly.v1+json": {
       "config": {
        "plotlyServerURL": "https://plot.ly"
       },
       "data": [
        {
         "domain": {
          "x": [
           0,
           1
          ],
          "y": [
           0,
           1
          ]
         },
         "hovertemplate": "label=%{label}<br>race=%{value}<extra></extra>",
         "labels": [
          "White",
          "Black",
          "Hispanic",
          "Asian",
          "Native",
          "Other"
         ],
         "legendgroup": "",
         "marker": {
          "line": {
           "color": "black",
           "width": 1.5
          }
         },
         "name": "",
         "opacity": 0.75,
         "showlegend": true,
         "type": "pie",
         "values": [
          246,
          211,
          112,
          14,
          12,
          4
         ]
        }
       ],
       "layout": {
        "legend": {
         "tracegroupgap": 0
        },
        "template": {
         "data": {
          "pie": [
           {
            "automargin": true,
            "type": "pie"
           }
          ],
          "scatter": [
           {
            "line": {
             "width": 3
            },
            "marker": {
             "size": 9
            },
            "type": "scatter"
           }
          ],
          "scatter3d": [
           {
            "line": {
             "width": 3
            },
            "marker": {
             "size": 9
            },
            "type": "scatter3d"
           }
          ],
          "scattergeo": [
           {
            "line": {
             "width": 3
            },
            "marker": {
             "size": 9
            },
            "type": "scattergeo"
           }
          ],
          "scattergl": [
           {
            "line": {
             "width": 3
            },
            "marker": {
             "size": 9
            },
            "type": "scattergl"
           }
          ],
          "scatterpolar": [
           {
            "line": {
             "width": 3
            },
            "marker": {
             "size": 9
            },
            "type": "scatterpolar"
           }
          ],
          "scatterpolargl": [
           {
            "line": {
             "width": 3
            },
            "marker": {
             "size": 9
            },
            "type": "scatterpolargl"
           }
          ],
          "scatterternary": [
           {
            "line": {
             "width": 3
            },
            "marker": {
             "size": 9
            },
            "type": "scatterternary"
           }
          ],
          "table": [
           {
            "cells": {
             "height": 30
            },
            "header": {
             "height": 36
            },
            "type": "table"
           }
          ]
         },
         "layout": {
          "font": {
           "size": 18
          },
          "xaxis": {
           "title": {
            "standoff": 15
           }
          },
          "yaxis": {
           "title": {
            "standoff": 15
           }
          }
         }
        },
        "title": {
         "text": "Bodycameras Enabled by Race"
        }
       }
      },
      "text/html": [
       "<div>                            <div id=\"3c2d2974-7d66-4584-9b66-414a49bbd46a\" class=\"plotly-graph-div\" style=\"height:525px; width:100%;\"></div>            <script type=\"text/javascript\">                require([\"plotly\"], function(Plotly) {                    window.PLOTLYENV=window.PLOTLYENV || {};                                    if (document.getElementById(\"3c2d2974-7d66-4584-9b66-414a49bbd46a\")) {                    Plotly.newPlot(                        \"3c2d2974-7d66-4584-9b66-414a49bbd46a\",                        [{\"domain\": {\"x\": [0.0, 1.0], \"y\": [0.0, 1.0]}, \"hovertemplate\": \"label=%{label}<br>race=%{value}<extra></extra>\", \"labels\": [\"White\", \"Black\", \"Hispanic\", \"Asian\", \"Native\", \"Other\"], \"legendgroup\": \"\", \"marker\": {\"line\": {\"color\": \"black\", \"width\": 1.5}}, \"name\": \"\", \"opacity\": 0.75, \"showlegend\": true, \"type\": \"pie\", \"values\": [246, 211, 112, 14, 12, 4]}],                        {\"legend\": {\"tracegroupgap\": 0}, \"template\": {\"data\": {\"pie\": [{\"automargin\": true, \"type\": \"pie\"}], \"scatter\": [{\"line\": {\"width\": 3}, \"marker\": {\"size\": 9}, \"type\": \"scatter\"}], \"scatter3d\": [{\"line\": {\"width\": 3}, \"marker\": {\"size\": 9}, \"type\": \"scatter3d\"}], \"scattergeo\": [{\"line\": {\"width\": 3}, \"marker\": {\"size\": 9}, \"type\": \"scattergeo\"}], \"scattergl\": [{\"line\": {\"width\": 3}, \"marker\": {\"size\": 9}, \"type\": \"scattergl\"}], \"scatterpolar\": [{\"line\": {\"width\": 3}, \"marker\": {\"size\": 9}, \"type\": \"scatterpolar\"}], \"scatterpolargl\": [{\"line\": {\"width\": 3}, \"marker\": {\"size\": 9}, \"type\": \"scatterpolargl\"}], \"scatterternary\": [{\"line\": {\"width\": 3}, \"marker\": {\"size\": 9}, \"type\": \"scatterternary\"}], \"table\": [{\"cells\": {\"height\": 30}, \"header\": {\"height\": 36}, \"type\": \"table\"}]}, \"layout\": {\"font\": {\"size\": 18}, \"xaxis\": {\"title\": {\"standoff\": 15}}, \"yaxis\": {\"title\": {\"standoff\": 15}}}}, \"title\": {\"text\": \"Bodycameras Enabled by Race\"}},                        {\"responsive\": true}                    ).then(function(){\n",
       "                            \n",
       "var gd = document.getElementById('3c2d2974-7d66-4584-9b66-414a49bbd46a');\n",
       "var x = new MutationObserver(function (mutations, observer) {{\n",
       "        var display = window.getComputedStyle(gd).display;\n",
       "        if (!display || display === 'none') {{\n",
       "            console.log([gd, 'removed!']);\n",
       "            Plotly.purge(gd);\n",
       "            observer.disconnect();\n",
       "        }}\n",
       "}});\n",
       "\n",
       "// Listen for the removal of the full notebook cells\n",
       "var notebookContainer = gd.closest('#notebook-container');\n",
       "if (notebookContainer) {{\n",
       "    x.observe(notebookContainer, {childList: true});\n",
       "}}\n",
       "\n",
       "// Listen for the clearing of the current output cell\n",
       "var outputEl = gd.closest('.output');\n",
       "if (outputEl) {{\n",
       "    x.observe(outputEl, {childList: true});\n",
       "}}\n",
       "\n",
       "                        })                };                });            </script>        </div>"
      ]
     },
     "metadata": {},
     "output_type": "display_data"
    },
    {
     "data": {
      "application/vnd.plotly.v1+json": {
       "config": {
        "plotlyServerURL": "https://plot.ly"
       },
       "data": [
        {
         "domain": {
          "x": [
           0,
           1
          ],
          "y": [
           0,
           1
          ]
         },
         "hovertemplate": "label=%{label}<br>race=%{value}<extra></extra>",
         "labels": [
          "White",
          "Black",
          "Hispanic",
          "Asian",
          "Native",
          "Other"
         ],
         "legendgroup": "",
         "marker": {
          "line": {
           "color": "black",
           "width": 1.5
          }
         },
         "name": "",
         "opacity": 0.75,
         "showlegend": true,
         "type": "pie",
         "values": [
          303,
          165,
          108,
          13,
          5,
          5
         ]
        }
       ],
       "layout": {
        "legend": {
         "tracegroupgap": 0
        },
        "template": {
         "data": {
          "pie": [
           {
            "automargin": true,
            "type": "pie"
           }
          ],
          "scatter": [
           {
            "line": {
             "width": 3
            },
            "marker": {
             "size": 9
            },
            "type": "scatter"
           }
          ],
          "scatter3d": [
           {
            "line": {
             "width": 3
            },
            "marker": {
             "size": 9
            },
            "type": "scatter3d"
           }
          ],
          "scattergeo": [
           {
            "line": {
             "width": 3
            },
            "marker": {
             "size": 9
            },
            "type": "scattergeo"
           }
          ],
          "scattergl": [
           {
            "line": {
             "width": 3
            },
            "marker": {
             "size": 9
            },
            "type": "scattergl"
           }
          ],
          "scatterpolar": [
           {
            "line": {
             "width": 3
            },
            "marker": {
             "size": 9
            },
            "type": "scatterpolar"
           }
          ],
          "scatterpolargl": [
           {
            "line": {
             "width": 3
            },
            "marker": {
             "size": 9
            },
            "type": "scatterpolargl"
           }
          ],
          "scatterternary": [
           {
            "line": {
             "width": 3
            },
            "marker": {
             "size": 9
            },
            "type": "scatterternary"
           }
          ],
          "table": [
           {
            "cells": {
             "height": 30
            },
            "header": {
             "height": 36
            },
            "type": "table"
           }
          ]
         },
         "layout": {
          "font": {
           "size": 18
          },
          "xaxis": {
           "title": {
            "standoff": 15
           }
          },
          "yaxis": {
           "title": {
            "standoff": 15
           }
          }
         }
        },
        "title": {
         "text": "Bodycameras Disabled by Race"
        }
       }
      },
      "text/html": [
       "<div>                            <div id=\"5046a0da-f160-4b67-917b-4d888c871c04\" class=\"plotly-graph-div\" style=\"height:525px; width:100%;\"></div>            <script type=\"text/javascript\">                require([\"plotly\"], function(Plotly) {                    window.PLOTLYENV=window.PLOTLYENV || {};                                    if (document.getElementById(\"5046a0da-f160-4b67-917b-4d888c871c04\")) {                    Plotly.newPlot(                        \"5046a0da-f160-4b67-917b-4d888c871c04\",                        [{\"domain\": {\"x\": [0.0, 1.0], \"y\": [0.0, 1.0]}, \"hovertemplate\": \"label=%{label}<br>race=%{value}<extra></extra>\", \"labels\": [\"White\", \"Black\", \"Hispanic\", \"Asian\", \"Native\", \"Other\"], \"legendgroup\": \"\", \"marker\": {\"line\": {\"color\": \"black\", \"width\": 1.5}}, \"name\": \"\", \"opacity\": 0.75, \"showlegend\": true, \"type\": \"pie\", \"values\": [303, 165, 108, 13, 5, 5]}],                        {\"legend\": {\"tracegroupgap\": 0}, \"template\": {\"data\": {\"pie\": [{\"automargin\": true, \"type\": \"pie\"}], \"scatter\": [{\"line\": {\"width\": 3}, \"marker\": {\"size\": 9}, \"type\": \"scatter\"}], \"scatter3d\": [{\"line\": {\"width\": 3}, \"marker\": {\"size\": 9}, \"type\": \"scatter3d\"}], \"scattergeo\": [{\"line\": {\"width\": 3}, \"marker\": {\"size\": 9}, \"type\": \"scattergeo\"}], \"scattergl\": [{\"line\": {\"width\": 3}, \"marker\": {\"size\": 9}, \"type\": \"scattergl\"}], \"scatterpolar\": [{\"line\": {\"width\": 3}, \"marker\": {\"size\": 9}, \"type\": \"scatterpolar\"}], \"scatterpolargl\": [{\"line\": {\"width\": 3}, \"marker\": {\"size\": 9}, \"type\": \"scatterpolargl\"}], \"scatterternary\": [{\"line\": {\"width\": 3}, \"marker\": {\"size\": 9}, \"type\": \"scatterternary\"}], \"table\": [{\"cells\": {\"height\": 30}, \"header\": {\"height\": 36}, \"type\": \"table\"}]}, \"layout\": {\"font\": {\"size\": 18}, \"xaxis\": {\"title\": {\"standoff\": 15}}, \"yaxis\": {\"title\": {\"standoff\": 15}}}}, \"title\": {\"text\": \"Bodycameras Disabled by Race\"}},                        {\"responsive\": true}                    ).then(function(){\n",
       "                            \n",
       "var gd = document.getElementById('5046a0da-f160-4b67-917b-4d888c871c04');\n",
       "var x = new MutationObserver(function (mutations, observer) {{\n",
       "        var display = window.getComputedStyle(gd).display;\n",
       "        if (!display || display === 'none') {{\n",
       "            console.log([gd, 'removed!']);\n",
       "            Plotly.purge(gd);\n",
       "            observer.disconnect();\n",
       "        }}\n",
       "}});\n",
       "\n",
       "// Listen for the removal of the full notebook cells\n",
       "var notebookContainer = gd.closest('#notebook-container');\n",
       "if (notebookContainer) {{\n",
       "    x.observe(notebookContainer, {childList: true});\n",
       "}}\n",
       "\n",
       "// Listen for the clearing of the current output cell\n",
       "var outputEl = gd.closest('.output');\n",
       "if (outputEl) {{\n",
       "    x.observe(outputEl, {childList: true});\n",
       "}}\n",
       "\n",
       "                        })                };                });            </script>        </div>"
      ]
     },
     "metadata": {},
     "output_type": "display_data"
    }
   ],
   "source": [
    "# split to cam on and off dataframes for race\n",
    "cams_on, cams_off = partition_cams(X_train, y_train, X_test, y_test)  \n",
    "race_cams_on = cams_on['race']\n",
    "race_cams_off = cams_off['race']\n",
    "\n",
    "# Setup race counts tables\n",
    "df_on = pd.DataFrame(race_cams_on.value_counts()).rename(race_num_to_str)\n",
    "df_off = pd.DataFrame(race_cams_off.value_counts()).rename(race_num_to_str)\n",
    "ethnicities = ['White', 'Black', 'Hispanic', 'Asian', 'Native', 'Other']\n",
    "\n",
    "# Build Body-cam On Chart\n",
    "cam_on_pie = px.pie(df_on, values='race', names=ethnicities, title='Bodycameras Enabled by Race',\n",
    "                    template='presentation')\n",
    "cam_on_pie.update_traces(opacity=0.75, marker_line_width=1.5, marker_line_color='black')\n",
    "cam_on_pie.show()\n",
    "\n",
    "# Build Body-Cam off Chart\n",
    "cam_off_pie = px.pie(df_off, values='race', names=ethnicities, title='Bodycameras Disabled by Race',\n",
    "                     template='presentation')\n",
    "cam_off_pie.update_traces(opacity=0.75, marker_line_width=1.5, marker_line_color='black')\n",
    "cam_off_pie.show()"
   ]
  },
  {
   "cell_type": "markdown",
   "metadata": {},
   "source": [
    "<img src='https://raw.githubusercontent.com/jsteinberg4/cops-and-cams/main/visualizations/race_cam_on.png'>\n",
    "<img src='https://raw.githubusercontent.com/jsteinberg4/cops-and-cams/main/visualizations/race_cam_off.png'>\n",
    "<p style='text-indent: 2em'>These pie charts represent the race breakdown for all incidences with and without a body camera, respectively. While not exactly equal, the relative proportions between graphs (i.e. same racial groups but different pie chart) appear fairly close. The two exceptions to this are blue and orange slices, representing the White and Black populations. This does not seem to indicate a significant difference in body camera likelihood across racial groups, save for the two listed, but we will study this further in our hypothesis tests."
   ]
  },
  {
   "cell_type": "markdown",
   "metadata": {
    "id": "GiE5qwQZdRb5"
   },
   "source": [
    "<h5>Gender Breakdown</h5>"
   ]
  },
  {
   "cell_type": "code",
   "execution_count": 106,
   "metadata": {
    "id": "prnN9VMFdRb5"
   },
   "outputs": [
    {
     "data": {
      "application/vnd.plotly.v1+json": {
       "config": {
        "plotlyServerURL": "https://plot.ly"
       },
       "data": [
        {
         "alignmentgroup": "True",
         "hovertemplate": "Gender=M<br>Camera Usage=%{x}<br>value=%{y}<extra></extra>",
         "legendgroup": "M",
         "marker": {
          "color": "#1F77B4",
          "line": {
           "color": "black",
           "width": 1.5
          }
         },
         "name": "M",
         "offsetgroup": "M",
         "opacity": 0.6,
         "orientation": "v",
         "showlegend": true,
         "textposition": "auto",
         "type": "bar",
         "x": [
          "Bodycam On",
          "No Bodycam"
         ],
         "xaxis": "x",
         "y": [
          573,
          572
         ],
         "yaxis": "y"
        },
        {
         "alignmentgroup": "True",
         "hovertemplate": "Gender=F<br>Camera Usage=%{x}<br>value=%{y}<extra></extra>",
         "legendgroup": "F",
         "marker": {
          "color": "#FF7F0E",
          "line": {
           "color": "black",
           "width": 1.5
          }
         },
         "name": "F",
         "offsetgroup": "F",
         "opacity": 0.6,
         "orientation": "v",
         "showlegend": true,
         "textposition": "auto",
         "type": "bar",
         "x": [
          "Bodycam On",
          "No Bodycam"
         ],
         "xaxis": "x",
         "y": [
          26,
          27
         ],
         "yaxis": "y"
        }
       ],
       "layout": {
        "barmode": "group",
        "legend": {
         "title": {
          "text": "Gender"
         },
         "tracegroupgap": 0
        },
        "template": {
         "data": {
          "pie": [
           {
            "automargin": true,
            "type": "pie"
           }
          ],
          "scatter": [
           {
            "line": {
             "width": 3
            },
            "marker": {
             "size": 9
            },
            "type": "scatter"
           }
          ],
          "scatter3d": [
           {
            "line": {
             "width": 3
            },
            "marker": {
             "size": 9
            },
            "type": "scatter3d"
           }
          ],
          "scattergeo": [
           {
            "line": {
             "width": 3
            },
            "marker": {
             "size": 9
            },
            "type": "scattergeo"
           }
          ],
          "scattergl": [
           {
            "line": {
             "width": 3
            },
            "marker": {
             "size": 9
            },
            "type": "scattergl"
           }
          ],
          "scatterpolar": [
           {
            "line": {
             "width": 3
            },
            "marker": {
             "size": 9
            },
            "type": "scatterpolar"
           }
          ],
          "scatterpolargl": [
           {
            "line": {
             "width": 3
            },
            "marker": {
             "size": 9
            },
            "type": "scatterpolargl"
           }
          ],
          "scatterternary": [
           {
            "line": {
             "width": 3
            },
            "marker": {
             "size": 9
            },
            "type": "scatterternary"
           }
          ],
          "table": [
           {
            "cells": {
             "height": 30
            },
            "header": {
             "height": 36
            },
            "type": "table"
           }
          ]
         },
         "layout": {
          "font": {
           "size": 18
          },
          "xaxis": {
           "title": {
            "standoff": 15
           }
          },
          "yaxis": {
           "title": {
            "standoff": 15
           }
          }
         }
        },
        "title": {
         "text": "Bodycamera Usage by Gender"
        },
        "xaxis": {
         "anchor": "y",
         "domain": [
          0,
          1
         ],
         "title": {
          "text": "Camera Usage"
         }
        },
        "yaxis": {
         "anchor": "x",
         "domain": [
          0,
          1
         ],
         "tickangle": -40,
         "title": {
          "text": "Number of Uses"
         }
        }
       }
      },
      "text/html": [
       "<div>                            <div id=\"d5c5f99c-a988-460c-ada4-4bc0a6b3b947\" class=\"plotly-graph-div\" style=\"height:525px; width:100%;\"></div>            <script type=\"text/javascript\">                require([\"plotly\"], function(Plotly) {                    window.PLOTLYENV=window.PLOTLYENV || {};                                    if (document.getElementById(\"d5c5f99c-a988-460c-ada4-4bc0a6b3b947\")) {                    Plotly.newPlot(                        \"d5c5f99c-a988-460c-ada4-4bc0a6b3b947\",                        [{\"alignmentgroup\": \"True\", \"hovertemplate\": \"Gender=M<br>Camera Usage=%{x}<br>value=%{y}<extra></extra>\", \"legendgroup\": \"M\", \"marker\": {\"color\": \"#1F77B4\", \"line\": {\"color\": \"black\", \"width\": 1.5}}, \"name\": \"M\", \"offsetgroup\": \"M\", \"opacity\": 0.6, \"orientation\": \"v\", \"showlegend\": true, \"textposition\": \"auto\", \"type\": \"bar\", \"x\": [\"Bodycam On\", \"No Bodycam\"], \"xaxis\": \"x\", \"y\": [573.0, 572.0], \"yaxis\": \"y\"}, {\"alignmentgroup\": \"True\", \"hovertemplate\": \"Gender=F<br>Camera Usage=%{x}<br>value=%{y}<extra></extra>\", \"legendgroup\": \"F\", \"marker\": {\"color\": \"#FF7F0E\", \"line\": {\"color\": \"black\", \"width\": 1.5}}, \"name\": \"F\", \"offsetgroup\": \"F\", \"opacity\": 0.6, \"orientation\": \"v\", \"showlegend\": true, \"textposition\": \"auto\", \"type\": \"bar\", \"x\": [\"Bodycam On\", \"No Bodycam\"], \"xaxis\": \"x\", \"y\": [26.0, 27.0], \"yaxis\": \"y\"}],                        {\"barmode\": \"group\", \"legend\": {\"title\": {\"text\": \"Gender\"}, \"tracegroupgap\": 0}, \"template\": {\"data\": {\"pie\": [{\"automargin\": true, \"type\": \"pie\"}], \"scatter\": [{\"line\": {\"width\": 3}, \"marker\": {\"size\": 9}, \"type\": \"scatter\"}], \"scatter3d\": [{\"line\": {\"width\": 3}, \"marker\": {\"size\": 9}, \"type\": \"scatter3d\"}], \"scattergeo\": [{\"line\": {\"width\": 3}, \"marker\": {\"size\": 9}, \"type\": \"scattergeo\"}], \"scattergl\": [{\"line\": {\"width\": 3}, \"marker\": {\"size\": 9}, \"type\": \"scattergl\"}], \"scatterpolar\": [{\"line\": {\"width\": 3}, \"marker\": {\"size\": 9}, \"type\": \"scatterpolar\"}], \"scatterpolargl\": [{\"line\": {\"width\": 3}, \"marker\": {\"size\": 9}, \"type\": \"scatterpolargl\"}], \"scatterternary\": [{\"line\": {\"width\": 3}, \"marker\": {\"size\": 9}, \"type\": \"scatterternary\"}], \"table\": [{\"cells\": {\"height\": 30}, \"header\": {\"height\": 36}, \"type\": \"table\"}]}, \"layout\": {\"font\": {\"size\": 18}, \"xaxis\": {\"title\": {\"standoff\": 15}}, \"yaxis\": {\"title\": {\"standoff\": 15}}}}, \"title\": {\"text\": \"Bodycamera Usage by Gender\"}, \"xaxis\": {\"anchor\": \"y\", \"domain\": [0.0, 1.0], \"title\": {\"text\": \"Camera Usage\"}}, \"yaxis\": {\"anchor\": \"x\", \"domain\": [0.0, 1.0], \"tickangle\": -40, \"title\": {\"text\": \"Number of Uses\"}}},                        {\"responsive\": true}                    ).then(function(){\n",
       "                            \n",
       "var gd = document.getElementById('d5c5f99c-a988-460c-ada4-4bc0a6b3b947');\n",
       "var x = new MutationObserver(function (mutations, observer) {{\n",
       "        var display = window.getComputedStyle(gd).display;\n",
       "        if (!display || display === 'none') {{\n",
       "            console.log([gd, 'removed!']);\n",
       "            Plotly.purge(gd);\n",
       "            observer.disconnect();\n",
       "        }}\n",
       "}});\n",
       "\n",
       "// Listen for the removal of the full notebook cells\n",
       "var notebookContainer = gd.closest('#notebook-container');\n",
       "if (notebookContainer) {{\n",
       "    x.observe(notebookContainer, {childList: true});\n",
       "}}\n",
       "\n",
       "// Listen for the clearing of the current output cell\n",
       "var outputEl = gd.closest('.output');\n",
       "if (outputEl) {{\n",
       "    x.observe(outputEl, {childList: true});\n",
       "}}\n",
       "\n",
       "                        })                };                });            </script>        </div>"
      ]
     },
     "metadata": {},
     "output_type": "display_data"
    }
   ],
   "source": [
    "gender_cams_on = cams_on['gender']\n",
    "gender_cams_off = cams_off['gender']\n",
    "\n",
    "# Fill gender counts into a table & relabel pos/neg classes for readability\n",
    "gender_cam_counts = pd.DataFrame()\n",
    "gender_cam_counts = gender_cam_counts.append(gender_cams_on.value_counts()).rename({'gender':'Bodycam On'})\n",
    "gender_cam_counts = gender_cam_counts.append(gender_cams_off.value_counts()).rename({'gender':'No Bodycam'})\n",
    "gender_cam_counts = gender_cam_counts.rename(gender_num_to_str,axis=1)\n",
    "\n",
    "# Graph gender counts as bar graph\n",
    "bar = px.bar(gender_cam_counts, barmode='group', title='Bodycamera Usage by Gender', template='presentation',\n",
    "             labels=dict(variable='Gender', index=\"Camera Usage\"))\n",
    "bar.update_yaxes(title='Number of Uses', tickangle=-40)\n",
    "bar.update_traces(opacity=0.6, marker_line_width=1.5, marker_line_color='black')\n",
    "bar.show()"
   ]
  },
  {
   "cell_type": "markdown",
   "metadata": {
    "id": "a00N7888dRb6"
   },
   "source": [
    "<img src='https://raw.githubusercontent.com/jsteinberg4/cops-and-cams/main/visualizations/gender_bar.png'>\n",
    "<p style='text-indent: 2em'>This bar graph shows the number of men and women involved in instances in which a body camera was or was not used, respectively. While it appears that many more men are involved in shootings overall, at least in this dataset, the relative frequency comparing within genders is about equal in terms of body camera use. This does not seem to indicate a significant difference, but we will investigate further in our hypothesis tests."
   ]
  },
  {
   "cell_type": "markdown",
   "metadata": {
    "id": "HxD15A5RdRb6"
   },
   "source": [
    "### 3.3. Model Construction"
   ]
  },
  {
   "cell_type": "markdown",
   "metadata": {
    "id": "wEkaodhidRb6"
   },
   "source": [
    "<h4>Testable Hypotheses</h4>\n",
    "<ol>\n",
    "    <li>Is there any significant difference in body camera usage by police officers for victims of each...\n",
    "        <ol>\n",
    "            <li>\n",
    "                ...racial group?\n",
    "            </li>\n",
    "            <li>\n",
    "                ...gender?\n",
    "            </li>\n",
    "            <li>\n",
    "                ...age group?\n",
    "            </li>\n",
    "        </ol>\n",
    "    </li>\n",
    "  We plan to test these with Chi-Squared tests for Homogeneity with a $H_0$ that there is not a significant difference between groups and $H_a$ that there is a significant difference.\n",
    "</ol>"
   ]
  },
  {
   "cell_type": "code",
   "execution_count": 107,
   "metadata": {
    "id": "Kc1wRzPIdRb6"
   },
   "outputs": [],
   "source": [
    "from scipy import stats"
   ]
  },
  {
   "cell_type": "markdown",
   "metadata": {
    "id": "omGdHs1YdRb6"
   },
   "source": [
    "<h5>A: Racial Group</h5>"
   ]
  },
  {
   "cell_type": "code",
   "execution_count": 108,
   "metadata": {
    "id": "7GWizXXmdRb7"
   },
   "outputs": [],
   "source": [
    "# Build a list of each dataframes for each distinct race\n",
    "races = [equalized[equalized['race'] == race_str_to_num[race_key]] for race_key in race_str_to_num]\n",
    "\n",
    "# Compute observed counts for race\n",
    "race_observed = [[], []]\n",
    "race_descriptives = pd.DataFrame(columns=[True, False])\n",
    "for race_df in races:\n",
    "    race_observed[0] += [len(race_df[race_df['body_camera']])]\n",
    "    race_observed[1] += [len(race_df[race_df['body_camera'] == False])]\n",
    "\n",
    "    # Create race descriptives\n",
    "    desc_series = pd.Series(race_df['body_camera'].value_counts(), \n",
    "                            name=race_num_to_str[race_df['race'].iloc[0]])\n",
    "    race_descriptives = race_descriptives.append(desc_series)\n",
    "\n",
    "race_stat, race_pvalue = stats.chisquare(race_observed)\n",
    "race_descriptives = race_descriptives.T.agg([\"count\", \"mean\", \"std\", \"sem\"])"
   ]
  },
  {
   "cell_type": "code",
   "execution_count": 109,
   "metadata": {
    "colab": {
     "base_uri": "https://localhost:8080/",
     "height": 173
    },
    "id": "3D4Y3--t8lPv",
    "outputId": "7697ac90-b0b3-48d2-909e-04048bb6e3d3"
   },
   "outputs": [
    {
     "data": {
      "text/html": [
       "<div>\n",
       "<style scoped>\n",
       "    .dataframe tbody tr th:only-of-type {\n",
       "        vertical-align: middle;\n",
       "    }\n",
       "\n",
       "    .dataframe tbody tr th {\n",
       "        vertical-align: top;\n",
       "    }\n",
       "\n",
       "    .dataframe thead th {\n",
       "        text-align: right;\n",
       "    }\n",
       "</style>\n",
       "<table border=\"1\" class=\"dataframe\">\n",
       "  <thead>\n",
       "    <tr style=\"text-align: right;\">\n",
       "      <th></th>\n",
       "      <th>A</th>\n",
       "      <th>W</th>\n",
       "      <th>H</th>\n",
       "      <th>B</th>\n",
       "      <th>O</th>\n",
       "      <th>N</th>\n",
       "    </tr>\n",
       "  </thead>\n",
       "  <tbody>\n",
       "    <tr>\n",
       "      <th>count</th>\n",
       "      <td>2.000000</td>\n",
       "      <td>2.000000</td>\n",
       "      <td>2.000000</td>\n",
       "      <td>2.000000</td>\n",
       "      <td>2.000000</td>\n",
       "      <td>2.000000</td>\n",
       "    </tr>\n",
       "    <tr>\n",
       "      <th>mean</th>\n",
       "      <td>13.500000</td>\n",
       "      <td>274.500000</td>\n",
       "      <td>110.000000</td>\n",
       "      <td>188.000000</td>\n",
       "      <td>4.500000</td>\n",
       "      <td>8.500000</td>\n",
       "    </tr>\n",
       "    <tr>\n",
       "      <th>std</th>\n",
       "      <td>0.707107</td>\n",
       "      <td>40.305087</td>\n",
       "      <td>2.828427</td>\n",
       "      <td>32.526912</td>\n",
       "      <td>0.707107</td>\n",
       "      <td>4.949747</td>\n",
       "    </tr>\n",
       "    <tr>\n",
       "      <th>sem</th>\n",
       "      <td>0.500000</td>\n",
       "      <td>28.500000</td>\n",
       "      <td>2.000000</td>\n",
       "      <td>23.000000</td>\n",
       "      <td>0.500000</td>\n",
       "      <td>3.500000</td>\n",
       "    </tr>\n",
       "  </tbody>\n",
       "</table>\n",
       "</div>"
      ],
      "text/plain": [
       "               A           W           H           B         O         N\n",
       "count   2.000000    2.000000    2.000000    2.000000  2.000000  2.000000\n",
       "mean   13.500000  274.500000  110.000000  188.000000  4.500000  8.500000\n",
       "std     0.707107   40.305087    2.828427   32.526912  0.707107  4.949747\n",
       "sem     0.500000   28.500000    2.000000   23.000000  0.500000  3.500000"
      ]
     },
     "execution_count": 109,
     "metadata": {},
     "output_type": "execute_result"
    }
   ],
   "source": [
    "race_descriptives"
   ]
  },
  {
   "cell_type": "code",
   "execution_count": 110,
   "metadata": {
    "colab": {
     "base_uri": "https://localhost:8080/"
    },
    "id": "G3YmyoqjpmUk",
    "outputId": "70d20c2a-d89b-4e90-bf9b-9f4359d61174"
   },
   "outputs": [
    {
     "name": "stdout",
     "output_type": "stream",
     "text": [
      "Statistic: [0.03703704 5.91803279 0.07272727 5.62765957 0.11111111 2.88235294]\n",
      "P-value: [0.84738966 0.01498668 0.78740649 0.01767922 0.73888268 0.08955507]\n",
      "Degrees of Freedom: 5\n"
     ]
    }
   ],
   "source": [
    "print(f'Statistic: {race_stat}\\nP-value: {race_pvalue}')\n",
    "# guaranteed 2 rows, equal num of columns per row\n",
    "print(f'Degrees of Freedom: {len(race_observed[0]) - 1}') "
   ]
  },
  {
   "cell_type": "markdown",
   "metadata": {
    "id": "6ubwiI5XdRb7"
   },
   "source": [
    "<h5>B: Gender</h5>"
   ]
  },
  {
   "cell_type": "code",
   "execution_count": 111,
   "metadata": {
    "id": "zz3D5vz-dRb8"
   },
   "outputs": [],
   "source": [
    "# Chi-Square expected counts\n",
    "obs_men_cam = len(equalized[(equalized['gender'] == gender_str_to_num['M']) & (equalized['body_camera'])]) \n",
    "obs_men_no_cam = len(equalized[(equalized['gender'] == gender_str_to_num['M']) & (equalized['body_camera'] == False)]) \n",
    "obs_women_cam = len(equalized[(equalized['gender'] == gender_str_to_num['F']) & (equalized['body_camera'])])\n",
    "obs_women_no_cam = len(equalized[(equalized['gender'] == gender_str_to_num['F']) & (equalized['body_camera'] == False)])\n",
    "\n",
    "# Arrange expected counts\n",
    "gender_observed = [[obs_men_cam, obs_women_cam], \n",
    "                   [obs_men_no_cam, obs_women_no_cam]]\n",
    "\n",
    "gender_stat, gender_pvalue = stats.chisquare(gender_observed)"
   ]
  },
  {
   "cell_type": "code",
   "execution_count": 112,
   "metadata": {
    "colab": {
     "base_uri": "https://localhost:8080/",
     "height": 173
    },
    "id": "Lf00KbG5-KuV",
    "outputId": "c0e72bba-7bb0-41d9-f81e-a9d52b8d8539"
   },
   "outputs": [
    {
     "data": {
      "text/html": [
       "<div>\n",
       "<style scoped>\n",
       "    .dataframe tbody tr th:only-of-type {\n",
       "        vertical-align: middle;\n",
       "    }\n",
       "\n",
       "    .dataframe tbody tr th {\n",
       "        vertical-align: top;\n",
       "    }\n",
       "\n",
       "    .dataframe thead tr th {\n",
       "        text-align: left;\n",
       "    }\n",
       "\n",
       "    .dataframe thead tr:last-of-type th {\n",
       "        text-align: right;\n",
       "    }\n",
       "</style>\n",
       "<table border=\"1\" class=\"dataframe\">\n",
       "  <thead>\n",
       "    <tr>\n",
       "      <th></th>\n",
       "      <th colspan=\"4\" halign=\"left\">body_camera</th>\n",
       "    </tr>\n",
       "    <tr>\n",
       "      <th></th>\n",
       "      <th>count</th>\n",
       "      <th>mean</th>\n",
       "      <th>std</th>\n",
       "      <th>sem</th>\n",
       "    </tr>\n",
       "    <tr>\n",
       "      <th>gender</th>\n",
       "      <th></th>\n",
       "      <th></th>\n",
       "      <th></th>\n",
       "      <th></th>\n",
       "    </tr>\n",
       "  </thead>\n",
       "  <tbody>\n",
       "    <tr>\n",
       "      <th>M</th>\n",
       "      <td>1145</td>\n",
       "      <td>0.500437</td>\n",
       "      <td>0.500218</td>\n",
       "      <td>0.014783</td>\n",
       "    </tr>\n",
       "    <tr>\n",
       "      <th>F</th>\n",
       "      <td>53</td>\n",
       "      <td>0.490566</td>\n",
       "      <td>0.504695</td>\n",
       "      <td>0.069325</td>\n",
       "    </tr>\n",
       "  </tbody>\n",
       "</table>\n",
       "</div>"
      ],
      "text/plain": [
       "       body_camera                              \n",
       "             count      mean       std       sem\n",
       "gender                                          \n",
       "M             1145  0.500437  0.500218  0.014783\n",
       "F               53  0.490566  0.504695  0.069325"
      ]
     },
     "execution_count": 112,
     "metadata": {},
     "output_type": "execute_result"
    }
   ],
   "source": [
    "gender_descriptives = equalized[['gender', 'body_camera']].groupby(\"gender\")\n",
    "gender_descriptives = gender_descriptives.agg([\"count\", \"mean\", \"std\", \"sem\"])\n",
    "gender_descriptives.rename(gender_num_to_str, inplace=True)\n",
    "gender_descriptives"
   ]
  },
  {
   "cell_type": "code",
   "execution_count": 113,
   "metadata": {
    "colab": {
     "base_uri": "https://localhost:8080/"
    },
    "id": "o-UEzbUsdRb8",
    "outputId": "5ee3af0d-b3cf-4286-9190-987444435af6"
   },
   "outputs": [
    {
     "name": "stdout",
     "output_type": "stream",
     "text": [
      "Statistic: [0.00087336 0.01886792]\n",
      "P-value: [0.97642378 0.8907458 ]\n",
      "Degrees of Freedom: 1\n"
     ]
    }
   ],
   "source": [
    "print(f'Statistic: {gender_stat}\\nP-value: {gender_pvalue}')\n",
    "print(f'Degrees of Freedom: {(len(gender_observed) - 1) * (len(gender_observed[0]) - 1)}')"
   ]
  },
  {
   "cell_type": "markdown",
   "metadata": {
    "id": "Uq9LeI_adRb8"
   },
   "source": [
    "<h5>C: Age Group</h5>"
   ]
  },
  {
   "cell_type": "code",
   "execution_count": 114,
   "metadata": {
    "id": "ydc34BX3q1qb"
   },
   "outputs": [],
   "source": [
    "# Get a list of names of the age bin features\n",
    "age_cols = [col for col in X_train_selected.columns if col.lower().startswith('age')]\n",
    "age_counts = {bin: [0,0] for bin in age_cols}\n",
    "\n",
    "age_descriptives = pd.DataFrame(columns=['age', 'body_camera'])\n",
    "\n",
    "def count_ages(X, y):\n",
    "    \"\"\"Counts occurrences of each group and whether there was a body camera for buidling\n",
    "        descriptive statistics.\n",
    "    \"\"\"\n",
    "    global age_descriptives\n",
    "    for bin in age_counts:\n",
    "        # Count cameras\n",
    "        for age, label in zip(X[bin], y):\n",
    "            if age == 1:\n",
    "                age_descriptives = age_descriptives.append(pd.Series([bin, int(label)], \n",
    "                                                                     index=['age', 'body_camera']),\n",
    "                                                           ignore_index=True)\n",
    "                if label:\n",
    "                    age_counts[bin][1] += 1\n",
    "                else:\n",
    "                    age_counts[bin][0] += 1\n",
    "\n",
    "                    \n",
    "# Count instances of bodycameras per age group in the train and test sets\n",
    "count_ages(X_train_selected, y_train)\n",
    "count_ages(X_test_selected, y_test)\n",
    "\n",
    "age_observed = [[], # Bodycam YES counts \n",
    "                []] # Bodycam NO counts\n",
    "for bin in age_counts:\n",
    "    age_observed[0] += [age_counts[bin][0]]\n",
    "    age_observed[1] += [age_counts[bin][1]]\n",
    "\n",
    "age_stat, age_pvalue = stats.chisquare(age_observed)"
   ]
  },
  {
   "cell_type": "code",
   "execution_count": 115,
   "metadata": {
    "colab": {
     "base_uri": "https://localhost:8080/",
     "height": 328
    },
    "id": "0gXIMqTDFjZv",
    "outputId": "2b8c02ca-ba37-4ffb-d47b-11fc773637d3"
   },
   "outputs": [
    {
     "data": {
      "text/html": [
       "<div>\n",
       "<style scoped>\n",
       "    .dataframe tbody tr th:only-of-type {\n",
       "        vertical-align: middle;\n",
       "    }\n",
       "\n",
       "    .dataframe tbody tr th {\n",
       "        vertical-align: top;\n",
       "    }\n",
       "\n",
       "    .dataframe thead th {\n",
       "        text-align: right;\n",
       "    }\n",
       "</style>\n",
       "<table border=\"1\" class=\"dataframe\">\n",
       "  <thead>\n",
       "    <tr style=\"text-align: right;\">\n",
       "      <th></th>\n",
       "      <th>body_camera</th>\n",
       "    </tr>\n",
       "    <tr>\n",
       "      <th>age</th>\n",
       "      <th></th>\n",
       "    </tr>\n",
       "  </thead>\n",
       "  <tbody>\n",
       "    <tr>\n",
       "      <th>age_16.25, 26.5</th>\n",
       "      <td>289</td>\n",
       "    </tr>\n",
       "    <tr>\n",
       "      <th>age_26.5, 36.75</th>\n",
       "      <td>413</td>\n",
       "    </tr>\n",
       "    <tr>\n",
       "      <th>age_36.75, 47.0</th>\n",
       "      <td>244</td>\n",
       "    </tr>\n",
       "    <tr>\n",
       "      <th>age_47.0, 57.25</th>\n",
       "      <td>156</td>\n",
       "    </tr>\n",
       "    <tr>\n",
       "      <th>age_57.25, 67.5</th>\n",
       "      <td>61</td>\n",
       "    </tr>\n",
       "    <tr>\n",
       "      <th>age_6.0, 16.25</th>\n",
       "      <td>17</td>\n",
       "    </tr>\n",
       "    <tr>\n",
       "      <th>age_67.5, 77.75</th>\n",
       "      <td>12</td>\n",
       "    </tr>\n",
       "    <tr>\n",
       "      <th>age_77.75, 88.0</th>\n",
       "      <td>6</td>\n",
       "    </tr>\n",
       "  </tbody>\n",
       "</table>\n",
       "</div>"
      ],
      "text/plain": [
       "                 body_camera\n",
       "age                         \n",
       "age_16.25, 26.5          289\n",
       "age_26.5, 36.75          413\n",
       "age_36.75, 47.0          244\n",
       "age_47.0, 57.25          156\n",
       "age_57.25, 67.5           61\n",
       "age_6.0, 16.25            17\n",
       "age_67.5, 77.75           12\n",
       "age_77.75, 88.0            6"
      ]
     },
     "execution_count": 115,
     "metadata": {},
     "output_type": "execute_result"
    }
   ],
   "source": [
    "age_descriptives.groupby('age').count()"
   ]
  },
  {
   "cell_type": "code",
   "execution_count": 116,
   "metadata": {
    "colab": {
     "base_uri": "https://localhost:8080/"
    },
    "id": "TfLf8ohyrxMx",
    "outputId": "1796e8f0-47bf-4d70-9b92-e7966b79429c"
   },
   "outputs": [
    {
     "name": "stdout",
     "output_type": "stream",
     "text": [
      "Statistic: [2.88235294e+00 1.00000000e+00 2.42130751e-03 2.36065574e+00\n",
      " 2.56410256e-02 1.63934426e-02 3.33333333e-01 0.00000000e+00]\n",
      "\n",
      "P-value: [0.08955507 0.31731051 0.96075451 0.12442988 0.87278012 0.89811979\n",
      " 0.56370286 1.        ]\n",
      "Degrees of Freedom: 7\n"
     ]
    }
   ],
   "source": [
    "print(f'Statistic: {age_stat}\\n\\nP-value: {age_pvalue}')\n",
    "print(f'Degrees of Freedom: {(len(age_observed) - 1) * (len(age_observed[0])-1)}')"
   ]
  },
  {
   "cell_type": "markdown",
   "metadata": {
    "id": "AlHR2A9_dRb9"
   },
   "source": [
    "<h4>Model Question: <i>Neighbors vs. Linear</i></h4>"
   ]
  },
  {
   "cell_type": "code",
   "execution_count": 117,
   "metadata": {
    "colab": {
     "base_uri": "https://localhost:8080/"
    },
    "id": "c7nwIxABdRb9",
    "outputId": "e48f5d4b-4e5d-4f21-b563-dd1750ed2343"
   },
   "outputs": [
    {
     "name": "stdout",
     "output_type": "stream",
     "text": [
      "k-Nearest Neighbors:\n",
      "\tMean Cross-Validation Score:  58.99%\n",
      "\tStandard Deviation of Cross-Validation Scores:  4.02%\n",
      "Ridge Classifier:\n",
      "\tMean Cross-Validation Score:  56.91%\n",
      "\tStandard Deviation of Cross-Validation Scores:  2.77%\n",
      "Linear Support Vector Machine:\n",
      "\tMean Cross-Validation Score:  56.32%\n",
      "\tStandard Deviation of Cross-Validation Scores:  3.26%\n"
     ]
    }
   ],
   "source": [
    "from sklearn import linear_model, svm, neighbors, model_selection\n",
    "\n",
    "estimators = {\n",
    "    \"k-Nearest Neighbors\": neighbors.KNeighborsClassifier(),\n",
    "    \"Ridge Classifier\": linear_model.RidgeClassifier(random_state=8675309),\n",
    "    \"Linear Support Vector Machine\": svm.LinearSVC(max_iter=1_000_000, random_state=8675309)\n",
    "}\n",
    "\n",
    "# Split X_train_selected into a set for cross-validation and a validation set for part 3.4\n",
    "X_cv, X_validation, y_cv, y_validation = model_selection.train_test_split(X_train_selected, y_train, \n",
    "                                                                          random_state=8675309)\n",
    "\n",
    "# Evaluate each estimator using cross validation\n",
    "for name in estimators:\n",
    "    cv_ = model_selection.KFold(shuffle=True, random_state=8675309)\n",
    "    cv_scores_dict = model_selection.cross_validate(estimators[name], X_cv, y=y_cv, cv=cv_, return_estimator=True, )\n",
    "    cv_scores_arr = cv_scores_dict['test_score']\n",
    "    estimators.update({name: cv_scores_dict['estimator'][0]})\n",
    "    \n",
    "    # Results\n",
    "    print(f'{name}:')\n",
    "    print(f'\\tMean Cross-Validation Score: {cv_scores_arr.mean() * 100: .2f}%')\n",
    "    print(f'\\tStandard Deviation of Cross-Validation Scores: {cv_scores_arr.std() * 100: .2f}%')"
   ]
  },
  {
   "cell_type": "markdown",
   "metadata": {
    "id": "5Kk-1a4ddRb9"
   },
   "source": [
    "### 3.4. Model Evaluation"
   ]
  },
  {
   "cell_type": "markdown",
   "metadata": {},
   "source": [
    "<i><b>Note:</b> As mentioned previously, this is a live dataset which is updated at least every few days. Any specific values mentioned in our analysis may not accurately reflect what you see when you run the code. We used a consistent random seed to attempt to mitigate this effect, but as more data is added values will likely change. All values were accurate as of <b>12/10/2020</b>."
   ]
  },
  {
   "cell_type": "markdown",
   "metadata": {
    "id": "LMap-rY1ImrK"
   },
   "source": [
    "<h5>Hypothesis Test Interpretations</h5>\n",
    "\n",
    "<p style='text-indent: 2em'>For our hypothesis tests, we ran three Chi-Square tests for Homogeneity to see if there was any significant difference in the likelihood of an incident having a bodycamera turned on. We conducted these tests across the populations based on race, gender, and ethnicity. Our $H_0$ was that there would be no significant difference between categories. Results of tests revealed no significant difference in police body camera usage across genders $X(1) = [0.000873,~0.019], p < 0.05$. The same was true across age groups $X(7) = [2.88,~1.000,~.0024,~2.36,~0.026,~0.016,~0.333,~0.000], p < 0.05$.</p> \n",
    "\n",
    "<p style='text-indent: 2em'>Out of all race groups, two were found to be significant with $p < 0.05$, corresponding to the population of reported \"White\" and \"Black\" victims $X(5) = [0.037,~5.92,~0.073,~5.63,~0.111,~2.88]$. Note, the chi-square statistics for \"white\" and \"black\" are the second and fourth statistics in the given list, respectively.\n",
    "</p>\n",
    "\n",
    "<i><b>Note:</b> Test statistics rounded to 3 significiant digits for ease of readability</i>."
   ]
  },
  {
   "cell_type": "markdown",
   "metadata": {
    "id": "j4tOU5xqdRb9"
   },
   "source": [
    "<h5>Model Performance Metrics</h5>\n",
    "<li>\n",
    "    We will evaluate the models based on Accuracy and F-1 score. We are able to avoid the accuracy paradox by using a balanced subset of our original dataset.\n",
    "</li>"
   ]
  },
  {
   "cell_type": "code",
   "execution_count": 118,
   "metadata": {
    "colab": {
     "base_uri": "https://localhost:8080/"
    },
    "id": "ARGv6zk-dRb9",
    "outputId": "4492624f-0fd1-4043-e0f5-19e2ef406c7f"
   },
   "outputs": [
    {
     "name": "stdout",
     "output_type": "stream",
     "text": [
      "k-Nearest Neighbors:\n",
      "\tAccuracy:  57.78%\n",
      "\tF-1 Score:  0.566\n",
      "Ridge Classifier:\n",
      "\tAccuracy:  59.11%\n",
      "\tF-1 Score:  0.516\n",
      "Linear Support Vector Machine:\n",
      "\tAccuracy:  60.44%\n",
      "\tF-1 Score:  0.534\n"
     ]
    }
   ],
   "source": [
    "from sklearn import metrics\n",
    "\n",
    "# Iteratively evaluate each estimator\n",
    "for name in estimators:\n",
    "    # Predict on the validation set\n",
    "    pred = estimators[name].predict(X_validation)\n",
    "    \n",
    "    # Results\n",
    "    print(f'{name}:')\n",
    "    # Accuracy\n",
    "    print(f'\\tAccuracy: {metrics.accuracy_score(y_validation, pred) * 100: 0.2f}%')\n",
    "    # F-1 Score\n",
    "    print(f'\\tF-1 Score: {metrics.f1_score(y_validation, pred): .3f}')"
   ]
  },
  {
   "cell_type": "markdown",
   "metadata": {
    "id": "TjNjM35XdRb-"
   },
   "source": [
    "<h5>Model Evaluation</h5> \n",
    "<p style='text-indent: 2em'>The KNN algorithm $(\\text{F-1}\\approx 0.566, \\text{Accuracy}=57.78\\%)$ had the highest mean cross validation accuracy with the greatest variability in scores. This translated to being the model with the highest accuracy score on the validation set at $57.78\\%$. KNN has the highest F-1 score, indicating the strongest balance of precision and recall. Overall, there do not appear to be signs of over or underfitting because the training and validation accuracies are roughly equal.</p>\n",
    "\n",
    "<p style='text-indent: 2em'>Both the RidgeClassifier $(\\text{F-1}\\approx0.516, \\text{Accuracy}=59.11\\% )$ and LinearSVC $(\\text{F-1}\\approx 0.534, \\text{Accuracy}=60.44\\%)$ algorithms performed slightly better on the validation set than the training set, scoring approximately 1 standard deviation above their mean cross validation scores. These estimators also do not appear to be overfitting or underfitting. Both have F-1 scores slightly less than KNN, with Ridge being slightly less than LinearSVC.\n",
    "</p>\n",
    "\n",
    "<p style='text-indent: 2em'>For the remainder of this project, we will continue to use all 3 algorithms. Originally, we intended to drop the lowest performing linear model for our Neighbors vs. Linear comparison. After running our model evaluations on different random states of the dataset, RidgeClassifier and LinearSVC appeared to be so equal in performance that we do not feel comfortable dropping either model.</p>"
   ]
  },
  {
   "cell_type": "markdown",
   "metadata": {
    "id": "9tI1UtFidRb-"
   },
   "source": [
    "### 3.5. Model Optimization"
   ]
  },
  {
   "cell_type": "markdown",
   "metadata": {
    "id": "kCYEHh6ydRb-"
   },
   "source": [
    "<p style='text-indent: 2em'>We adjust hyperparameters in an attempt to increase overall estimator accuracy past the ~50% range. Our models did not appear to overfit, so we simply try a variety of parameters which will vary the complexity of our estimators and test which will yield the greatest performance.\n",
    "</p>"
   ]
  },
  {
   "cell_type": "code",
   "execution_count": 119,
   "metadata": {
    "id": "BQjRW_CYdRb-"
   },
   "outputs": [],
   "source": [
    "# Reset estimators dictionary\n",
    "opt_estimators = {\n",
    "    \"k-Nearest Neighbors\": neighbors.KNeighborsClassifier(),\n",
    "    \"Ridge Classifier\": linear_model.RidgeClassifier(random_state=8675309),\n",
    "    \"Linear Support Vector Machine\": svm.LinearSVC(random_state=8675309)\n",
    "}\n",
    "\n",
    "# Parameters to tune\n",
    "hyper_parameters = {\n",
    "    \"k-Nearest Neighbors\": {\n",
    "        'n_neighbors': np.arange(3, 16, 2),  # Odd numbers 3-15\n",
    "        'metric': ['minkowski', 'euclidean', 'manhattan']\n",
    "    },\n",
    "    \"Ridge Classifier\": {\n",
    "        'alpha': np.arange(1, 100, 3),\n",
    "        'solver': ['svd', 'cholesky', 'lsqr', 'sag', 'auto']\n",
    "    },\n",
    "    \"Linear Support Vector Machine\": {\n",
    "        'dual': [True, False],\n",
    "        'C': np.arange(0.1, 100, 5)\n",
    "    }\n",
    "}"
   ]
  },
  {
   "cell_type": "code",
   "execution_count": 120,
   "metadata": {
    "id": "AadZ_9pDdRb-"
   },
   "outputs": [],
   "source": [
    "from sklearn.utils import testing\n",
    "from sklearn import exceptions\n",
    "\n",
    "tuned_estimators = {} # Mapping from estimator name to GridSearch tuned estimators\n",
    "\n",
    "@testing.ignore_warnings(category=exceptions.ConvergenceWarning)\n",
    "def tune():\n",
    "    # Perform grid search on each estimator\n",
    "    for name in opt_estimators:\n",
    "        cv_ = model_selection.KFold(shuffle=True, random_state=8675309)\n",
    "        grid = model_selection.GridSearchCV(opt_estimators[name], hyper_parameters[name], cv=cv_)\n",
    "\n",
    "        # Fit to X_train_selected. Since we're doing GridSearch, the validation set becomes one of the folds\n",
    "        grid.fit(X_train_selected, y_train)\n",
    "\n",
    "        # Results\n",
    "        print(name, ':')\n",
    "        print(\"\\tBest parameters: \", grid.best_params_)\n",
    "        print(\"\\tBest cross-validation score: \", grid.best_score_)\n",
    "\n",
    "        # Save tuned model\n",
    "        tuned_estimators.update({name: grid})"
   ]
  },
  {
   "cell_type": "code",
   "execution_count": 121,
   "metadata": {
    "colab": {
     "base_uri": "https://localhost:8080/"
    },
    "id": "7J5xdb8HoMcM",
    "outputId": "105a4a84-d1a8-40bf-da08-064b2e44e249"
   },
   "outputs": [
    {
     "name": "stdout",
     "output_type": "stream",
     "text": [
      "k-Nearest Neighbors :\n",
      "\tBest parameters:  {'metric': 'manhattan', 'n_neighbors': 5}\n",
      "\tBest cross-validation score:  0.5968466790813161\n",
      "Ridge Classifier :\n",
      "\tBest parameters:  {'alpha': 91, 'solver': 'lsqr'}\n",
      "\tBest cross-validation score:  0.5679143389199256\n",
      "Linear Support Vector Machine :\n",
      "\tBest parameters:  {'C': 10.1, 'dual': False}\n",
      "\tBest cross-validation score:  0.5623215394165115\n"
     ]
    }
   ],
   "source": [
    "tune()"
   ]
  },
  {
   "cell_type": "markdown",
   "metadata": {
    "id": "gaBZ48yXdRb-"
   },
   "source": [
    "### 3.6. Model Testing"
   ]
  },
  {
   "cell_type": "code",
   "execution_count": 122,
   "metadata": {
    "colab": {
     "base_uri": "https://localhost:8080/"
    },
    "id": "BqexBTFqdRb_",
    "outputId": "529df1d5-7007-4702-fe56-85050ea32daf"
   },
   "outputs": [
    {
     "name": "stdout",
     "output_type": "stream",
     "text": [
      "k-Nearest Neighbors :\n",
      "\tTest set score:  62.33%\n",
      "Ridge Classifier :\n",
      "\tTest set score:  52.00%\n",
      "Linear Support Vector Machine :\n",
      "\tTest set score:  51.67%\n"
     ]
    }
   ],
   "source": [
    "# Evaluate each estimator using cross validation\n",
    "for name in tuned_estimators:\n",
    "    print(name, ':')\n",
    "    print(f\"\\tTest set score: {tuned_estimators[name].score(X_test_selected, y_test) * 100: .2f}%\")"
   ]
  },
  {
   "cell_type": "markdown",
   "metadata": {
    "id": "JHQ3OgU0dRb_"
   },
   "source": [
    "<a id=\"4\"></a>\n",
    "<hr style=\"height:2px; border:none; color:black; background-color:black;\">"
   ]
  },
  {
   "cell_type": "markdown",
   "metadata": {
    "id": "CWc5RRWbdRb_"
   },
   "source": [
    "## 4. DISCUSSION"
   ]
  },
  {
   "cell_type": "markdown",
   "metadata": {
    "id": "HyJ8yK7TOElu"
   },
   "source": [
    "<p style='text-indent: 2em'>In this project we compared the scikit-learn implementation of the k-Nearest Neighbors classification algorithm to two linear algorithms on our dataset. These linear algorithms were the RidgeClassifier and Linear State Vector Machine Classifier, or LinearSVC in scikit-learn. Across all sets and regardless of hyperparameter tuning, the KNN classifier revealed the best and most consistent performance. This answers our initial question, showing that a neighbors-based classifier would perform better than a linear algorithm for this dataset. Based on these findings, KNN is the algorithm which should be used for this predictive model. However, despite being the most accurate, KNN was still only slightly more accurate than a blind guess ($50\\%$). This implies that the features in our dataset cannot accurately predict whether an officer was using a body camera in a given police shooting instance, answering our primary research question. \n",
    "</p>\n",
    "\n",
    "<p style='text-indent'>We were unable to reject the null hypothesis in any of our hypothesis tests, with two exceptions. Our tests showed a significant difference in police body camera usage with only White and Black victims, the two largest race groups in the set. This means, in general, victim demographics do not seem to correlate with whether an officer was using a body camera. This reinforces the answer to our research question that these features are not accurate predictors of police body camera usage.\n",
    "</p>\n",
    "\n",
    "<p style='text-indent'>Our findings in this project seem to be a positive from a societal perspective. This shows that there are no obvious trends in victim demographics contributing to unequal body camera usage. However, body cameras are not yet as widespread as many agree they should be. This is evidenced by our choropleth in <b>Section 3.2</b>, which shows that even the state with the highest usage of body cameras, Vermont, only saw a $50\\%$ use in this dataset as of <b>December 10, 2020</b>. In the future, there is room for deeper investigation into which parts of the country are leading or trailing in terms of body camera usage. Additionally, there may be many factors which influence the adoption rate of body cameras in an area (e.g. wealth, size of police department, crime rate, etc.) which may warrant other investigation. Finally, it is important for body camera usage to be reported; at the time of writing, this Washington Post dataset appeared to be the only readily available dataset which contained comprehensive information about body camera usage spanning the entire United States. Even so, many states were underrepresented in this dataset. In all, though this report sheds an important light upon the usage of body cameras with United States police officers, there is still a lot of work waiting to be done.\n",
    "</p>"
   ]
  },
  {
   "cell_type": "markdown",
   "metadata": {
    "id": "31XlTzPTdRb_"
   },
   "source": [
    "<a id=\"5\"></a>\n",
    "<hr style=\"height:2px; border:none; color:black; background-color:black;\">"
   ]
  },
  {
   "cell_type": "markdown",
   "metadata": {
    "id": "Wlpdt0ZQdRb_"
   },
   "source": [
    "### CONTRIBUTIONS"
   ]
  },
  {
   "cell_type": "markdown",
   "metadata": {
    "id": "2nVmu8DmdRb_"
   },
   "source": [
    "<p style='text-indent'>This entire project was a collaborative effort between <b>Michael Ruberto</b> and <b>Jesse Steinberg</b>. Each member contributed equally to every section during synchronous, remote work sessions over Zoom.\n",
    "</p>"
   ]
  }
 ],
 "metadata": {
  "colab": {
   "collapsed_sections": [
    "l2tH-WIFdRbk",
    "x-Eo2lHddRbl",
    "fR2alRm7dRbo",
    "ZZfFwBUOdRbp",
    "AWmQvYWWdRb2",
    "9tI1UtFidRb-",
    "gaBZ48yXdRb-"
   ],
   "name": "DS3000_FP4_Section02_Group19.ipynb",
   "provenance": []
  },
  "kernelspec": {
   "display_name": "Python 3",
   "language": "python",
   "name": "python3"
  },
  "language_info": {
   "codemirror_mode": {
    "name": "ipython",
    "version": 3
   },
   "file_extension": ".py",
   "mimetype": "text/x-python",
   "name": "python",
   "nbconvert_exporter": "python",
   "pygments_lexer": "ipython3",
   "version": "3.7.4"
  }
 },
 "nbformat": 4,
 "nbformat_minor": 1
}
